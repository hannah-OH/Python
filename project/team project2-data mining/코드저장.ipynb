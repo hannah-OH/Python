{
 "cells": [
  {
   "cell_type": "code",
   "execution_count": 1,
   "id": "2e2859d8",
   "metadata": {},
   "outputs": [],
   "source": [
    "from selenium import webdriver\n",
    "import pandas as pd"
   ]
  },
  {
   "cell_type": "code",
   "execution_count": 2,
   "id": "d71552eb",
   "metadata": {},
   "outputs": [],
   "source": [
    "driver = webdriver.Edge()"
   ]
  },
  {
   "cell_type": "code",
   "execution_count": 3,
   "id": "3d7e23c3",
   "metadata": {},
   "outputs": [],
   "source": [
    "tsherpa_map_search_url = f\"https://edu.tsherpa.co.kr/LectureInfo/LectureReviews2\""
   ]
  },
  {
   "cell_type": "code",
   "execution_count": 4,
   "id": "285f5d85",
   "metadata": {},
   "outputs": [],
   "source": [
    "driver.get(tsherpa_map_search_url)"
   ]
  },
  {
   "cell_type": "code",
   "execution_count": null,
   "id": "427388a4",
   "metadata": {},
   "outputs": [],
   "source": [
    "연수명|내용|별점|등록일|분류"
   ]
  },
  {
   "cell_type": "code",
   "execution_count": null,
   "id": "819f9b84",
   "metadata": {},
   "outputs": [],
   "source": [
    "더보기 이미지 \n",
    "\n",
    "//*[@id=\"mainForm\"]/table/tbody/tr[1]/td[2]/a/img\n",
    "\n",
    "//*[@id=\"mainForm\"]/table/tbody/tr[9]/td[2]/a\n",
    "//*[@id=\"mainForm\"]/table/tbody/tr[10]/td[2]/a"
   ]
  },
  {
   "cell_type": "code",
   "execution_count": 5,
   "id": "cf1dffb1",
   "metadata": {},
   "outputs": [
    {
     "data": {
      "text/plain": [
       "'30시간 지리와 함께하는 인문학 티타임\\n\\n잘 들었습니다.\\n다양한 구성이 듣기 좋았습니다.'"
      ]
     },
     "execution_count": 5,
     "metadata": {},
     "output_type": "execute_result"
    }
   ],
   "source": [
    "driver.find_element(by='xpath',value = f'//*[@id=\"mainForm\"]/table/tbody/tr[9]/td[2]/a').text"
   ]
  },
  {
   "cell_type": "code",
   "execution_count": 6,
   "id": "90ed55e6",
   "metadata": {},
   "outputs": [
    {
     "data": {
      "text/plain": [
       "'다양한 구성이 듣기 좋았습니다.'"
      ]
     },
     "execution_count": 6,
     "metadata": {},
     "output_type": "execute_result"
    }
   ],
   "source": [
    "review = driver.find_element(by='xpath',value = f'//*[@id=\"mainForm\"]/table/tbody/tr[9]/td[2]/a').text\n",
    "content = review.split('\\n\\n')[1].split('\\n')[1]\n",
    "content"
   ]
  },
  {
   "cell_type": "code",
   "execution_count": 7,
   "id": "c4b6b9aa",
   "metadata": {},
   "outputs": [
    {
     "name": "stdout",
     "output_type": "stream",
     "text": [
      "5점\n"
     ]
    }
   ],
   "source": [
    "img_element = driver.find_element(by='xpath', value='//*[@id=\"mainForm\"]/table/tbody/tr[1]/td[3]/img')\n",
    "alt_text = img_element.get_attribute('alt')\n",
    "print(alt_text)"
   ]
  },
  {
   "cell_type": "code",
   "execution_count": 8,
   "id": "92c642eb",
   "metadata": {},
   "outputs": [
    {
     "data": {
      "text/plain": [
       "'이** 선생님\\n2023.07.27'"
      ]
     },
     "execution_count": 8,
     "metadata": {},
     "output_type": "execute_result"
    }
   ],
   "source": [
    "driver.find_element(by='xpath', value = f'//*[@id=\"mainForm\"]/table/tbody/tr[1]/td[3]').text"
   ]
  },
  {
   "cell_type": "code",
   "execution_count": null,
   "id": "12dad0c6",
   "metadata": {},
   "outputs": [],
   "source": []
  }
 ],
 "metadata": {
  "kernelspec": {
   "display_name": "Python 3 (ipykernel)",
   "language": "python",
   "name": "python3"
  },
  "language_info": {
   "codemirror_mode": {
    "name": "ipython",
    "version": 3
   },
   "file_extension": ".py",
   "mimetype": "text/x-python",
   "name": "python",
   "nbconvert_exporter": "python",
   "pygments_lexer": "ipython3",
   "version": "3.10.9"
  }
 },
 "nbformat": 4,
 "nbformat_minor": 5
}
