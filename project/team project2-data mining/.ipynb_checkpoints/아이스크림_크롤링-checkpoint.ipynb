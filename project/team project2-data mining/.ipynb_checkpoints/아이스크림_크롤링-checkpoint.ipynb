{
 "cells": [
  {
   "cell_type": "code",
   "execution_count": 39,
   "id": "1b91b8c9",
   "metadata": {},
   "outputs": [],
   "source": [
    "from selenium import webdriver\n",
    "import pandas as pd\n",
    "from selenium.common.exceptions import NoSuchElementException"
   ]
  },
  {
   "cell_type": "code",
   "execution_count": 69,
   "id": "5aeed13c",
   "metadata": {},
   "outputs": [],
   "source": [
    "driver = webdriver.Edge()"
   ]
  },
  {
   "cell_type": "code",
   "execution_count": 70,
   "id": "ff5b1136",
   "metadata": {},
   "outputs": [],
   "source": [
    "iscream_map_search_url = \"https://teacher.i-scream.co.kr/help/afterword/list.do?crsCode=&crsLCode=01&sso=ok\""
   ]
  },
  {
   "cell_type": "code",
   "execution_count": 71,
   "id": "31572f0e",
   "metadata": {},
   "outputs": [],
   "source": [
    "driver.get(iscream_map_search_url)"
   ]
  },
  {
   "cell_type": "code",
   "execution_count": null,
   "id": "3e40a9f8",
   "metadata": {},
   "outputs": [],
   "source": [
    "# 학습지도 파트 크롤링 "
   ]
  },
  {
   "cell_type": "code",
   "execution_count": 72,
   "id": "d062d5a3",
   "metadata": {
    "scrolled": true
   },
   "outputs": [],
   "source": [
    "ind = 1  # 현재 복사한 순서 # 인덱스\n",
    "no = 1  # 1~5페이지 중 위치한 곳\n",
    "page = 1  # 현재 페이지 번호\n",
    "list_test1 = []  # 결과물이 저장되는 리스트\n",
    "\n",
    "while True:  # 무한반복\n",
    "    try:\n",
    "        # 후기 순차적으로 클릭\n",
    "        driver.find_element(by='xpath', value=f'//*[@id=\"content\"]/div[3]/table/tbody/tr[{ind}]/td[3]/a').click()\n",
    "\n",
    "        # 등록일\n",
    "        date = driver.find_element(by='xpath', value=f'//*[@id=\"bbs_wrap\"]/div/dl[4]/dd[2]').text\n",
    "        date_year = date.split('.')[0] # 연도만 추출 \n",
    "        \n",
    "        if date_year == '2021':\n",
    "            break\n",
    "\n",
    "        # 연수명\n",
    "        title = driver.find_element(by='xpath', value=f'//*[@id=\"bbs_wrap\"]/div/dl[2]/dd/a').text\n",
    "\n",
    "        # 내용\n",
    "        content = driver.find_element(by='xpath', value=f'//*[@id=\"bbs_wrap\"]/div/div[1]').text\n",
    "\n",
    "        # 만족도 요소 가져오기\n",
    "        score_element = driver.find_element(by='xpath', value=f'//*[@id=\"bbs_wrap\"]/div/dl[3]/dd[1]/span/span')\n",
    "\n",
    "        # 만족도 클래스 속성 추출\n",
    "        score_class = score_element.get_attribute('class')\n",
    "        score = score_class.split(' ')[-1].split('-')[-1]\n",
    "\n",
    "        list_test1.append([title, content, score, date])\n",
    "\n",
    "        driver.back()  # 뒤로가기\n",
    "\n",
    "        ind += 1\n",
    "\n",
    "        # 페이지 넘어가기\n",
    "        if ind > 10:  # 한 페이지의 후기가 10개라고 가정\n",
    "            ind = 1\n",
    "            no += 1\n",
    "            # 다음 페이지로 이동\n",
    "            driver.find_element(by='xpath', value=f'//*[@id=\"paging\"]/ul/li[{no+1}]/a').click()\n",
    "            \n",
    "            if no > 10:\n",
    "                no = 1\n",
    "\n",
    "    except Exception as e:\n",
    "        # 기타 예외 발생 시 에러 메시지 출력\n",
    "        print(f\"예외 발생: {e}\")\n",
    "        break\n"
   ]
  },
  {
   "cell_type": "code",
   "execution_count": 74,
   "id": "4ddc6c4e",
   "metadata": {},
   "outputs": [],
   "source": [
    "list_test1 = pd.DataFrame(list_test1)"
   ]
  },
  {
   "cell_type": "code",
   "execution_count": 75,
   "id": "aff8c3bd",
   "metadata": {},
   "outputs": [
    {
     "data": {
      "text/html": [
       "<div>\n",
       "<style scoped>\n",
       "    .dataframe tbody tr th:only-of-type {\n",
       "        vertical-align: middle;\n",
       "    }\n",
       "\n",
       "    .dataframe tbody tr th {\n",
       "        vertical-align: top;\n",
       "    }\n",
       "\n",
       "    .dataframe thead th {\n",
       "        text-align: right;\n",
       "    }\n",
       "</style>\n",
       "<table border=\"1\" class=\"dataframe\">\n",
       "  <thead>\n",
       "    <tr style=\"text-align: right;\">\n",
       "      <th></th>\n",
       "      <th>0</th>\n",
       "      <th>1</th>\n",
       "      <th>2</th>\n",
       "      <th>3</th>\n",
       "    </tr>\n",
       "  </thead>\n",
       "  <tbody>\n",
       "    <tr>\n",
       "      <th>0</th>\n",
       "      <td>유초등을 사로잡는 감동의 그림책 놀이수업</td>\n",
       "      <td>너무 유익한 강의였습니다. 감사합니다^^</td>\n",
       "      <td>rate5</td>\n",
       "      <td>2023.07.28</td>\n",
       "    </tr>\n",
       "    <tr>\n",
       "      <th>1</th>\n",
       "      <td>전문가가 알려주는 창의 영재교육의 비법</td>\n",
       "      <td>무엇보다도 빨리들을 수 있어 좋습니다</td>\n",
       "      <td>rate5</td>\n",
       "      <td>2023.07.28</td>\n",
       "    </tr>\n",
       "    <tr>\n",
       "      <th>2</th>\n",
       "      <td>챗GPT 융합교육 가이드, 인공지능(AI) 챗봇 수업</td>\n",
       "      <td>제목을 보고 평소에 많이 들어본 것이라 어떻게 접목을 할 수 있을까 고민을 하다 들...</td>\n",
       "      <td>rate5</td>\n",
       "      <td>2023.07.27</td>\n",
       "    </tr>\n",
       "    <tr>\n",
       "      <th>3</th>\n",
       "      <td>수업과 성장을 돕는 과정중심평가_초등 기초</td>\n",
       "      <td>과정중심 평가에 대해 조금 더 알게되었어요</td>\n",
       "      <td>rate5</td>\n",
       "      <td>2023.07.27</td>\n",
       "    </tr>\n",
       "    <tr>\n",
       "      <th>4</th>\n",
       "      <td>조병영의 문해력 수업</td>\n",
       "      <td>국어 교과는 '국어' 과목 뿐만 아니라 다른 교과에서도 쓰이는 학습 도구의 기능을 ...</td>\n",
       "      <td>rate5</td>\n",
       "      <td>2023.07.27</td>\n",
       "    </tr>\n",
       "    <tr>\n",
       "      <th>...</th>\n",
       "      <td>...</td>\n",
       "      <td>...</td>\n",
       "      <td>...</td>\n",
       "      <td>...</td>\n",
       "    </tr>\n",
       "    <tr>\n",
       "      <th>2820</th>\n",
       "      <td>꿈과 자존감이 자라는 교실 속 직업놀이 진로교육</td>\n",
       "      <td>교실현장에서 아이들 특색맞춰 지도할 팁이 되었습니다</td>\n",
       "      <td>rate5</td>\n",
       "      <td>2022.01.01</td>\n",
       "    </tr>\n",
       "    <tr>\n",
       "      <th>2821</th>\n",
       "      <td>프로젝트수업으로 시작하는 교실 속 디자인씽킹</td>\n",
       "      <td>추천합니다!</td>\n",
       "      <td>rate5</td>\n",
       "      <td>2022.01.01</td>\n",
       "    </tr>\n",
       "    <tr>\n",
       "      <th>2822</th>\n",
       "      <td>참쌤스쿨 그림교실, 교사가 최고의 콘텐츠다</td>\n",
       "      <td>학교에서 만나는 아이들은 그림을 참 좋아한다. 연수 후기를 보다가 좋은 연수 같아서...</td>\n",
       "      <td>rate5</td>\n",
       "      <td>2022.01.01</td>\n",
       "    </tr>\n",
       "    <tr>\n",
       "      <th>2823</th>\n",
       "      <td>Let's AI 인공지능 교육 활용편</td>\n",
       "      <td>현실적으로 우리 생활 속에 많이 활용되고 있은 인공지능에 대해 알 수 있는 기회가 ...</td>\n",
       "      <td>rate5</td>\n",
       "      <td>2022.01.01</td>\n",
       "    </tr>\n",
       "    <tr>\n",
       "      <th>2824</th>\n",
       "      <td>놀이와 질문이 함께하는 감동의 그림책 수업</td>\n",
       "      <td>처음 독서수업을 하려고 준비할때 막막했는데, [놀이와 질문이 함께하는 감동의 그림책...</td>\n",
       "      <td>rate5</td>\n",
       "      <td>2022.01.01</td>\n",
       "    </tr>\n",
       "  </tbody>\n",
       "</table>\n",
       "<p>2825 rows × 4 columns</p>\n",
       "</div>"
      ],
      "text/plain": [
       "                                  0  \\\n",
       "0            유초등을 사로잡는 감동의 그림책 놀이수업   \n",
       "1             전문가가 알려주는 창의 영재교육의 비법   \n",
       "2     챗GPT 융합교육 가이드, 인공지능(AI) 챗봇 수업   \n",
       "3           수업과 성장을 돕는 과정중심평가_초등 기초   \n",
       "4                       조병영의 문해력 수업   \n",
       "...                             ...   \n",
       "2820     꿈과 자존감이 자라는 교실 속 직업놀이 진로교육   \n",
       "2821       프로젝트수업으로 시작하는 교실 속 디자인씽킹   \n",
       "2822        참쌤스쿨 그림교실, 교사가 최고의 콘텐츠다   \n",
       "2823           Let's AI 인공지능 교육 활용편   \n",
       "2824        놀이와 질문이 함께하는 감동의 그림책 수업   \n",
       "\n",
       "                                                      1      2           3  \n",
       "0                                너무 유익한 강의였습니다. 감사합니다^^  rate5  2023.07.28  \n",
       "1                                  무엇보다도 빨리들을 수 있어 좋습니다  rate5  2023.07.28  \n",
       "2     제목을 보고 평소에 많이 들어본 것이라 어떻게 접목을 할 수 있을까 고민을 하다 들...  rate5  2023.07.27  \n",
       "3                               과정중심 평가에 대해 조금 더 알게되었어요  rate5  2023.07.27  \n",
       "4     국어 교과는 '국어' 과목 뿐만 아니라 다른 교과에서도 쓰이는 학습 도구의 기능을 ...  rate5  2023.07.27  \n",
       "...                                                 ...    ...         ...  \n",
       "2820                       교실현장에서 아이들 특색맞춰 지도할 팁이 되었습니다  rate5  2022.01.01  \n",
       "2821                                             추천합니다!  rate5  2022.01.01  \n",
       "2822  학교에서 만나는 아이들은 그림을 참 좋아한다. 연수 후기를 보다가 좋은 연수 같아서...  rate5  2022.01.01  \n",
       "2823  현실적으로 우리 생활 속에 많이 활용되고 있은 인공지능에 대해 알 수 있는 기회가 ...  rate5  2022.01.01  \n",
       "2824  처음 독서수업을 하려고 준비할때 막막했는데, [놀이와 질문이 함께하는 감동의 그림책...  rate5  2022.01.01  \n",
       "\n",
       "[2825 rows x 4 columns]"
      ]
     },
     "execution_count": 75,
     "metadata": {},
     "output_type": "execute_result"
    }
   ],
   "source": [
    "list_test1"
   ]
  },
  {
   "cell_type": "code",
   "execution_count": 76,
   "id": "c442be41",
   "metadata": {},
   "outputs": [],
   "source": [
    "list_test1.columns = ['연수명', '내용', '별점', '등록일']"
   ]
  },
  {
   "cell_type": "code",
   "execution_count": 77,
   "id": "d056f965",
   "metadata": {},
   "outputs": [],
   "source": [
    "list_test1.to_csv('i_data_2023_2022.csv')"
   ]
  },
  {
   "cell_type": "code",
   "execution_count": null,
   "id": "84a728e8",
   "metadata": {},
   "outputs": [],
   "source": []
  }
 ],
 "metadata": {
  "kernelspec": {
   "display_name": "Python 3 (ipykernel)",
   "language": "python",
   "name": "python3"
  },
  "language_info": {
   "codemirror_mode": {
    "name": "ipython",
    "version": 3
   },
   "file_extension": ".py",
   "mimetype": "text/x-python",
   "name": "python",
   "nbconvert_exporter": "python",
   "pygments_lexer": "ipython3",
   "version": "3.10.9"
  }
 },
 "nbformat": 4,
 "nbformat_minor": 5
}
