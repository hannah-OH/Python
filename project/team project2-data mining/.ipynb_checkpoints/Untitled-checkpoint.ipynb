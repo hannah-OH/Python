{
 "cells": [
  {
   "cell_type": "code",
   "execution_count": 1,
   "id": "14d0796d",
   "metadata": {},
   "outputs": [],
   "source": [
    "from selenium import webdriver\n",
    "import pandas as pd"
   ]
  },
  {
   "cell_type": "code",
   "execution_count": 2,
   "id": "7eef79f9",
   "metadata": {},
   "outputs": [],
   "source": [
    "driver = webdriver.Chrome()"
   ]
  },
  {
   "cell_type": "code",
   "execution_count": 19,
   "id": "56f603d9",
   "metadata": {},
   "outputs": [],
   "source": [
    "tsherpa_map_search_url = f\"https://edu.tsherpa.co.kr/LectureInfo/LectureReviews2\""
   ]
  },
  {
   "cell_type": "code",
   "execution_count": 20,
   "id": "074a4aef",
   "metadata": {},
   "outputs": [],
   "source": [
    "driver.get(tsherpa_map_search_url)"
   ]
  },
  {
   "cell_type": "code",
   "execution_count": 98,
   "id": "61880c61",
   "metadata": {},
   "outputs": [],
   "source": [
    "ind = 1\n",
    "list1 = []\n",
    "\n",
    "while 1:\n",
    "    try:\n",
    "        if driver.find_element(by='xpath',value = f'//*[@id=\"mainForm\"]/table/tbody/tr[{ind}]/td[2]/a/img').is_displayed():\n",
    "            pass\n",
    "        else :\n",
    "            review = driver.find_element(by='xpath',value = f'//*[@id=\"mainForm\"]/table/tbody/tr[{ind}]/td[2]/a').text\n",
    "            title = review.split('\\n\\n')[0] #연수명\n",
    "            content = review.split('\\n\\n')[1].split('\\n')[1] # 내용\n",
    "            img_element = driver.find_element(by='xpath', value=f'//*[@id=\"mainForm\"]/table/tbody/tr[{ind}]/td[3]/img')\n",
    "            score = img_element.get_attribute('alt')\n",
    "            date_ = driver.find_element(by='xpath', value = f'//*[@id=\"mainForm\"]/table/tbody/tr[{ind}]/td[3]').text\n",
    "            date = date_.split('\\n')[1]\n",
    "            list1.append([title, content, score, date])\n",
    "            \n",
    "            ind += 1\n",
    "    except: \n",
    "        break"
   ]
  },
  {
   "cell_type": "code",
   "execution_count": 96,
   "id": "c7703aba",
   "metadata": {},
   "outputs": [
    {
     "data": {
      "text/plain": [
       "[]"
      ]
     },
     "execution_count": 96,
     "metadata": {},
     "output_type": "execute_result"
    }
   ],
   "source": [
    "list1"
   ]
  },
  {
   "cell_type": "code",
   "execution_count": null,
   "id": "ead86a34",
   "metadata": {},
   "outputs": [],
   "source": []
  },
  {
   "cell_type": "code",
   "execution_count": null,
   "id": "d0610d63",
   "metadata": {},
   "outputs": [],
   "source": []
  },
  {
   "cell_type": "code",
   "execution_count": null,
   "id": "fe6b7112",
   "metadata": {},
   "outputs": [],
   "source": []
  },
  {
   "cell_type": "code",
   "execution_count": null,
   "id": "8bb3cf48",
   "metadata": {},
   "outputs": [],
   "source": []
  },
  {
   "cell_type": "code",
   "execution_count": null,
   "id": "a766d78a",
   "metadata": {},
   "outputs": [],
   "source": []
  },
  {
   "cell_type": "code",
   "execution_count": null,
   "id": "5579733c",
   "metadata": {},
   "outputs": [],
   "source": []
  },
  {
   "cell_type": "code",
   "execution_count": null,
   "id": "07ffdcdb",
   "metadata": {},
   "outputs": [],
   "source": []
  },
  {
   "cell_type": "code",
   "execution_count": null,
   "id": "37766406",
   "metadata": {},
   "outputs": [],
   "source": []
  },
  {
   "cell_type": "code",
   "execution_count": null,
   "id": "6ec5182d",
   "metadata": {},
   "outputs": [],
   "source": []
  },
  {
   "cell_type": "code",
   "execution_count": null,
   "id": "cb1cfcd8",
   "metadata": {},
   "outputs": [],
   "source": []
  },
  {
   "cell_type": "code",
   "execution_count": null,
   "id": "6678ba26",
   "metadata": {},
   "outputs": [],
   "source": []
  },
  {
   "cell_type": "code",
   "execution_count": null,
   "id": "842a7685",
   "metadata": {},
   "outputs": [],
   "source": []
  },
  {
   "cell_type": "code",
   "execution_count": null,
   "id": "38f9d807",
   "metadata": {},
   "outputs": [],
   "source": []
  },
  {
   "cell_type": "code",
   "execution_count": null,
   "id": "9b32eb94",
   "metadata": {},
   "outputs": [],
   "source": []
  }
 ],
 "metadata": {
  "kernelspec": {
   "display_name": "Python 3 (ipykernel)",
   "language": "python",
   "name": "python3"
  },
  "language_info": {
   "codemirror_mode": {
    "name": "ipython",
    "version": 3
   },
   "file_extension": ".py",
   "mimetype": "text/x-python",
   "name": "python",
   "nbconvert_exporter": "python",
   "pygments_lexer": "ipython3",
   "version": "3.10.9"
  }
 },
 "nbformat": 4,
 "nbformat_minor": 5
}
