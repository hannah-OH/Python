{
 "cells": [
  {
   "cell_type": "code",
   "execution_count": 1,
   "id": "2158420e",
   "metadata": {},
   "outputs": [],
   "source": [
    "from dash import Dash, html, dcc, Input, Output, callback, dash_table\n",
    "import pandas as pd\n",
    "import plotly.express as px\n",
    "import plotly.graph_objects as go\n",
    "\n",
    "import matplotlib.pyplot as plt\n",
    "import matplotlib as mpl\n",
    "mpl.rcParams['axes.unicode_minus'] = False\n",
    "import seaborn as sns\n",
    "from scipy import stats\n",
    "plt.rc('font', family='Malgun Gothic')"
   ]
  },
  {
   "cell_type": "code",
   "execution_count": null,
   "id": "3079d618",
   "metadata": {},
   "outputs": [],
   "source": [
    "#이전에 했던거 복기"
   ]
  },
  {
   "cell_type": "code",
   "execution_count": 3,
   "id": "17e9f228",
   "metadata": {},
   "outputs": [
    {
     "data": {
      "text/html": [
       "\n",
       "        <iframe\n",
       "            width=\"100%\"\n",
       "            height=\"650\"\n",
       "            src=\"http://127.0.0.1:8050/\"\n",
       "            frameborder=\"0\"\n",
       "            allowfullscreen\n",
       "            \n",
       "        ></iframe>\n",
       "        "
      ],
      "text/plain": [
       "<IPython.lib.display.IFrame at 0x128b7d15ed0>"
      ]
     },
     "metadata": {},
     "output_type": "display_data"
    }
   ],
   "source": [
    "df = pd.read_excel('data/교육통계데이터_2015_2022_최종.xlsx') \n",
    "\n",
    "df2 = round(df.groupby(['시도', '연도'])['학업중단자_비율'].mean(), 2)\n",
    "\n",
    "df3 = round(df.groupby(['시도', '연도'])['교사수_비율'].mean(), 2)\n",
    "\n",
    "df4 = pd.concat([df2, df3], axis=1)\n",
    "\n",
    "df4 = df4.reset_index() \n",
    "\n",
    "df5 = df4.copy()\n",
    "\n",
    "for i in range(len(df4)):\n",
    "    df4.loc[i,'비율값'] = df4.loc[i, '학업중단자_비율']\n",
    "    df4.loc[i,'기준'] = \"학업중단자\"\n",
    "\n",
    "for i in range(len(df5)):\n",
    "    df5.loc[i,'비율값'] = df5.loc[i, '교사수_비율']\n",
    "    df5.loc[i,'기준'] = \"교사수\"\n",
    "\n",
    "df4 = df4.drop(['학업중단자_비율', '교사수_비율'], axis=1)\n",
    "\n",
    "df5 = df5.drop(['학업중단자_비율', '교사수_비율'], axis=1)\n",
    "\n",
    "df_graph = pd.concat([df4, df5])\n",
    "\n",
    "df_table = df[['연도', '시도', '행정구역', '학업중단자_비율', '교사수_비율']]\n",
    "\n",
    "app = Dash(__name__)\n",
    "\n",
    "app.layout = html.Div([\n",
    "    # 제목 \n",
    "    html.H2(children='전문상담 교사 유무와 학업 중단자의 연관성 분석', style={'textAlign': 'center'}),\n",
    "    \n",
    "    # 그래프는 시도를 기준으로 Dropdown하여 보여줌\n",
    "    # 서울을 먼저 보여줌\n",
    "    dcc.Dropdown(df_graph['시도'].unique(), '서울', id='dropdown-selection'),\n",
    "    \n",
    "    # 전문상담 교사 비율과 학업 중단자의 비율을 paired plot으로 표현 \n",
    "    html.H3(children='<연도별 전문상담교사와 학업중단자 비율 비교>', style={'textAlign': 'center'}),\n",
    "    dcc.Graph(figure={}, id='graph-content1'),\n",
    "    \n",
    "    # 전문상담 교사 비율과 학업 중단자의 연도별 추세 표현 \n",
    "    html.H3(children='<연도별 전문상담교사와 학업중단자 추세 비교>', style={'textAlign': 'center'}),\n",
    "    dcc.Graph(figure={}, id='graph-content2'),\n",
    "    \n",
    "    # 테이블은 시도별 업데이트를 하지않고 한번에 전체 시도의 테이블을 출력\n",
    "    dash_table.DataTable(data=df_table.to_dict('records'), page_size=10) \n",
    "])\n",
    "\n",
    "\n",
    "@app.callback(\n",
    "    Output(\"graph-content1\", \"figure\"), \n",
    "    Input(\"dropdown-selection\", \"value\"))\n",
    "\n",
    "def update_bar_chart(value):\n",
    "    dff = df_graph[df_graph['시도']==value]\n",
    "    return px.bar(dff, x=\"연도\", y=\"비율값\", color=\"기준\", barmode=\"group\",\n",
    "                 labels=dict(비율값=\"연도별 전문상담교사와 학업중단자 비율\"))\n",
    "\n",
    "@app.callback(\n",
    "    Output(\"graph-content2\", \"figure\"), \n",
    "    Input(\"dropdown-selection\", \"value\"))\n",
    "\n",
    "def update_graph(value):\n",
    "    dff = df_graph[df_graph['시도']==value]\n",
    "    return px.line(dff, x=\"연도\", y=\"비율값\",color='기준', symbol='기준',\n",
    "                  labels=dict(비율값=\"연도별 전문상담교사와 학업중단자 비율\")) \n",
    "\n",
    "if __name__ == \"__main__\":\n",
    "    app.run_server(debug=True)\n"
   ]
  },
  {
   "cell_type": "code",
   "execution_count": null,
   "id": "ec3337ae",
   "metadata": {},
   "outputs": [],
   "source": []
  }
 ],
 "metadata": {
  "kernelspec": {
   "display_name": "Python 3 (ipykernel)",
   "language": "python",
   "name": "python3"
  },
  "language_info": {
   "codemirror_mode": {
    "name": "ipython",
    "version": 3
   },
   "file_extension": ".py",
   "mimetype": "text/x-python",
   "name": "python",
   "nbconvert_exporter": "python",
   "pygments_lexer": "ipython3",
   "version": "3.10.9"
  }
 },
 "nbformat": 4,
 "nbformat_minor": 5
}
