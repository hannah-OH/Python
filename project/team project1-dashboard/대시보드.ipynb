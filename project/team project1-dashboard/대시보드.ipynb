{
 "cells": [
  {
   "cell_type": "code",
   "execution_count": 1,
   "id": "aedb3158",
   "metadata": {},
   "outputs": [],
   "source": [
    "from dash import Dash, html, dcc, Input, Output, callback, dash_table\n",
    "import pandas as pd\n",
    "import plotly.express as px"
   ]
  },
  {
   "cell_type": "code",
   "execution_count": 2,
   "id": "5b7445cd",
   "metadata": {},
   "outputs": [],
   "source": [
    "df = pd.read_excel('../../../data/교육통계데이터_완료.xlsx') "
   ]
  },
  {
   "cell_type": "code",
   "execution_count": 3,
   "id": "543fb655",
   "metadata": {},
   "outputs": [],
   "source": [
    "df_hs = df[df['학제'] == '고등학교']"
   ]
  },
  {
   "cell_type": "code",
   "execution_count": 4,
   "id": "2912ec3f",
   "metadata": {},
   "outputs": [
    {
     "data": {
      "text/html": [
       "<div>\n",
       "<style scoped>\n",
       "    .dataframe tbody tr th:only-of-type {\n",
       "        vertical-align: middle;\n",
       "    }\n",
       "\n",
       "    .dataframe tbody tr th {\n",
       "        vertical-align: top;\n",
       "    }\n",
       "\n",
       "    .dataframe thead th {\n",
       "        text-align: right;\n",
       "    }\n",
       "</style>\n",
       "<table border=\"1\" class=\"dataframe\">\n",
       "  <thead>\n",
       "    <tr style=\"text-align: right;\">\n",
       "      <th></th>\n",
       "      <th>시도</th>\n",
       "      <th>행정구역</th>\n",
       "      <th>학제</th>\n",
       "      <th>학교수</th>\n",
       "      <th>학생수_전체</th>\n",
       "      <th>학생수_남</th>\n",
       "      <th>학생수_여</th>\n",
       "      <th>교사수</th>\n",
       "      <th>입학자_전체</th>\n",
       "      <th>입학자_남</th>\n",
       "      <th>입학자_여</th>\n",
       "      <th>학업중단자_전체</th>\n",
       "      <th>학업중단자_남</th>\n",
       "      <th>학업중단자_여</th>\n",
       "    </tr>\n",
       "  </thead>\n",
       "  <tbody>\n",
       "    <tr>\n",
       "      <th>0</th>\n",
       "      <td>서울</td>\n",
       "      <td>종로구</td>\n",
       "      <td>고등학교</td>\n",
       "      <td>14</td>\n",
       "      <td>7589</td>\n",
       "      <td>4080</td>\n",
       "      <td>3509</td>\n",
       "      <td>11</td>\n",
       "      <td>2505</td>\n",
       "      <td>1337</td>\n",
       "      <td>1168</td>\n",
       "      <td>158</td>\n",
       "      <td>78</td>\n",
       "      <td>80</td>\n",
       "    </tr>\n",
       "    <tr>\n",
       "      <th>4</th>\n",
       "      <td>서울</td>\n",
       "      <td>중구</td>\n",
       "      <td>고등학교</td>\n",
       "      <td>11</td>\n",
       "      <td>5547</td>\n",
       "      <td>2963</td>\n",
       "      <td>2584</td>\n",
       "      <td>5</td>\n",
       "      <td>1770</td>\n",
       "      <td>916</td>\n",
       "      <td>854</td>\n",
       "      <td>150</td>\n",
       "      <td>96</td>\n",
       "      <td>54</td>\n",
       "    </tr>\n",
       "    <tr>\n",
       "      <th>8</th>\n",
       "      <td>서울</td>\n",
       "      <td>용산구</td>\n",
       "      <td>고등학교</td>\n",
       "      <td>10</td>\n",
       "      <td>4575</td>\n",
       "      <td>3028</td>\n",
       "      <td>1547</td>\n",
       "      <td>7</td>\n",
       "      <td>1478</td>\n",
       "      <td>980</td>\n",
       "      <td>498</td>\n",
       "      <td>98</td>\n",
       "      <td>63</td>\n",
       "      <td>35</td>\n",
       "    </tr>\n",
       "  </tbody>\n",
       "</table>\n",
       "</div>"
      ],
      "text/plain": [
       "   시도 행정구역    학제  학교수  학생수_전체  학생수_남  학생수_여  교사수  입학자_전체  입학자_남  입학자_여  \\\n",
       "0  서울  종로구  고등학교   14    7589   4080   3509   11    2505   1337   1168   \n",
       "4  서울   중구  고등학교   11    5547   2963   2584    5    1770    916    854   \n",
       "8  서울  용산구  고등학교   10    4575   3028   1547    7    1478    980    498   \n",
       "\n",
       "   학업중단자_전체  학업중단자_남  학업중단자_여  \n",
       "0       158       78       80  \n",
       "4       150       96       54  \n",
       "8        98       63       35  "
      ]
     },
     "execution_count": 4,
     "metadata": {},
     "output_type": "execute_result"
    }
   ],
   "source": [
    "df_hs.head(3)"
   ]
  },
  {
   "cell_type": "code",
   "execution_count": 10,
   "id": "eb3ad2a3",
   "metadata": {},
   "outputs": [
    {
     "data": {
      "text/html": [
       "\n",
       "        <iframe\n",
       "            width=\"100%\"\n",
       "            height=\"650\"\n",
       "            src=\"http://127.0.0.1:8050/\"\n",
       "            frameborder=\"0\"\n",
       "            allowfullscreen\n",
       "            \n",
       "        ></iframe>\n",
       "        "
      ],
      "text/plain": [
       "<IPython.lib.display.IFrame at 0x19e172f5a80>"
      ]
     },
     "metadata": {},
     "output_type": "display_data"
    }
   ],
   "source": [
    "external_stylesheets = ['https://codepen.io/chriddyp/pen/bWLwgP.css']\n",
    "app = Dash(__name__, external_stylesheets=external_stylesheets)\n",
    "\n",
    "app.layout = html.Div([\n",
    "    html.Div(className='row', children='전문상담교사수와 학업중단자의 상관관계',\n",
    "             style={'textAlign': 'center', 'color': 'blue', 'fontSize': 30}),\n",
    "\n",
    "    html.Div(className='row', children=[\n",
    "        dcc.Dropdown(df_hs['시도'].unique(), '서울', id='dropdown-selection')\n",
    "    ]),\n",
    "\n",
    "    html.Div(className='row', children=[\n",
    "        html.Div(className='one', children=[\n",
    "            html.H5(children='행정구역별 전문상담교사수', style={'textAlign':'center'}),\n",
    "            dcc.Graph(figure={}, id='graph-content-1')\n",
    "        ], style={'width': '49%', 'float': 'left', 'display': 'inline-block'}),\n",
    "        html.Div(className='two', children=[\n",
    "            html.H5(children='행정구역별 학업중단자수', style={'textAlign':'center'}),\n",
    "            dcc.Graph(figure={}, id='graph-content-2')\n",
    "        ], style={'width': '49%', 'float': 'right', 'display': 'inline-block'})\n",
    "    ]), dash_table.DataTable(data=df_hs.to_dict('records'), page_size=10)\n",
    "])\n",
    "\n",
    "@callback(\n",
    "    Output(component_id='graph-content-1', component_property='figure'),\n",
    "    Input(component_id='dropdown-selection', component_property='value')\n",
    ")\n",
    "\n",
    "def update_graph1(value):\n",
    "    dff = df_hs[df_hs['시도']==value]\n",
    "    return px.histogram(dff, x='행정구역', y='교사수', histfunc='sum')\n",
    "\n",
    "@callback(\n",
    "    Output(component_id='graph-content-2', component_property='figure'),\n",
    "    Input(component_id='dropdown-selection', component_property='value')\n",
    ")\n",
    "\n",
    "def update_graph2(value):\n",
    "    dff = df_hs[df_hs['시도']==value]\n",
    "    return px.histogram(dff, x='행정구역', y='학업중단자_전체', histfunc='sum')\n",
    "\n",
    "# Run the app\n",
    "if __name__ == '__main__':\n",
    "    app.run(debug=True)\n"
   ]
  },
  {
   "cell_type": "code",
   "execution_count": null,
   "id": "5de5b7c9",
   "metadata": {},
   "outputs": [],
   "source": []
  }
 ],
 "metadata": {
  "kernelspec": {
   "display_name": "Python 3 (ipykernel)",
   "language": "python",
   "name": "python3"
  },
  "language_info": {
   "codemirror_mode": {
    "name": "ipython",
    "version": 3
   },
   "file_extension": ".py",
   "mimetype": "text/x-python",
   "name": "python",
   "nbconvert_exporter": "python",
   "pygments_lexer": "ipython3",
   "version": "3.10.9"
  }
 },
 "nbformat": 4,
 "nbformat_minor": 5
}
