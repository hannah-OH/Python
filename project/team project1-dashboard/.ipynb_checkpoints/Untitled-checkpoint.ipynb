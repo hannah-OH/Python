{
 "cells": [
  {
   "cell_type": "code",
   "execution_count": 1,
   "id": "f37c13b4",
   "metadata": {},
   "outputs": [],
   "source": [
    "# 지도 데이터를 얻은 경로\n",
    "# 1. http://www.gisdeveloper.co.kr/?p=2332에서 남한의 지도 shp 파일을 다운받는다\n",
    "# 2. https://mapshaper.org/ 에서 지도를 단순화 시킨후 geojson 파일로 변환하여 다운받았다"
   ]
  },
  {
   "cell_type": "code",
   "execution_count": 2,
   "id": "a404c9b1",
   "metadata": {},
   "outputs": [],
   "source": [
    "import geopandas as gpd\n",
    "import matplotlib.pyplot as plt"
   ]
  },
  {
   "cell_type": "code",
   "execution_count": 3,
   "id": "e0a2d34a",
   "metadata": {},
   "outputs": [],
   "source": [
    "plt.rcParams['font.family'] = 'Malgun Gothic'\n",
    "plt.rcParams['figure.figsize'] = (10,10)"
   ]
  },
  {
   "cell_type": "code",
   "execution_count": null,
   "id": "23ef4887",
   "metadata": {},
   "outputs": [],
   "source": [
    "geo = gpd.read_file('../../../data/국내지도.shp', encoding='euc-kr')\n",
    "geo"
   ]
  },
  {
   "cell_type": "code",
   "execution_count": null,
   "id": "1805d7a2",
   "metadata": {},
   "outputs": [],
   "source": []
  }
 ],
 "metadata": {
  "kernelspec": {
   "display_name": "Python 3 (ipykernel)",
   "language": "python",
   "name": "python3"
  },
  "language_info": {
   "codemirror_mode": {
    "name": "ipython",
    "version": 3
   },
   "file_extension": ".py",
   "mimetype": "text/x-python",
   "name": "python",
   "nbconvert_exporter": "python",
   "pygments_lexer": "ipython3",
   "version": "3.10.9"
  }
 },
 "nbformat": 4,
 "nbformat_minor": 5
}
