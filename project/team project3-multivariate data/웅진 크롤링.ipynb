{
 "cells": [
  {
   "cell_type": "code",
   "execution_count": 1,
   "id": "2efb890a",
   "metadata": {},
   "outputs": [],
   "source": [
    "from selenium import webdriver\n",
    "import pandas as pd\n",
    "from selenium.common.exceptions import NoSuchElementException"
   ]
  },
  {
   "cell_type": "code",
   "execution_count": 2,
   "id": "52e29430",
   "metadata": {},
   "outputs": [],
   "source": [
    "driver = webdriver.Edge()"
   ]
  },
  {
   "cell_type": "code",
   "execution_count": 6,
   "id": "269322ca",
   "metadata": {},
   "outputs": [],
   "source": [
    "search_url = \"https://smartallclass.co.kr/mem/studyroom/list.php#tabs-1\""
   ]
  },
  {
   "cell_type": "code",
   "execution_count": 27,
   "id": "e62fee4c",
   "metadata": {},
   "outputs": [],
   "source": [
    "driver.get(search_url)"
   ]
  },
  {
   "cell_type": "code",
   "execution_count": 28,
   "id": "084e1b0e",
   "metadata": {},
   "outputs": [],
   "source": [
    "driver.find_element(by='xpath', value=f'//*[@id=\"tabs\"]/div[1]/div[1]/a[2]').click()"
   ]
  },
  {
   "cell_type": "code",
   "execution_count": 29,
   "id": "c53a3dd7",
   "metadata": {},
   "outputs": [],
   "source": [
    "driver.find_element(by='xpath', value=f'//*[@id=\"tabs\"]/div[2]/ul/li[3]/label/span').click()"
   ]
  },
  {
   "cell_type": "code",
   "execution_count": 30,
   "id": "c31250f2",
   "metadata": {},
   "outputs": [],
   "source": [
    "driver.find_element(by='xpath', value=f'//*[@id=\"search_sido\"]/option[2]').click()"
   ]
  },
  {
   "cell_type": "code",
   "execution_count": 17,
   "id": "e2401bfa",
   "metadata": {},
   "outputs": [],
   "source": [
    "driver.find_element(by='xpath', value=f'//*[@id=\"search_sido\"]/option[3]').click()"
   ]
  },
  {
   "cell_type": "code",
   "execution_count": null,
   "id": "2250751b",
   "metadata": {},
   "outputs": [],
   "source": [
    "//*[@id=\"search_sido\"]/option[3]"
   ]
  },
  {
   "cell_type": "code",
   "execution_count": null,
   "id": "e0d12f9f",
   "metadata": {},
   "outputs": [],
   "source": [
    "//*[@id=\"search_sido\"]/option[18]"
   ]
  },
  {
   "cell_type": "code",
   "execution_count": 22,
   "id": "dd401ca1",
   "metadata": {},
   "outputs": [
    {
     "data": {
      "text/plain": [
       "'삼성 석탑 공부방'"
      ]
     },
     "execution_count": 22,
     "metadata": {},
     "output_type": "execute_result"
    }
   ],
   "source": [
    "driver.find_element(by='xpath', value=f'//*[@id=\"result-place-list\"]/li[1]/a/div/p[1]/b').text"
   ]
  },
  {
   "cell_type": "code",
   "execution_count": null,
   "id": "dc86bc2f",
   "metadata": {},
   "outputs": [],
   "source": [
    "//*[@id=\"result-place-list\"]/li[2]/a/div/p[2]"
   ]
  },
  {
   "cell_type": "code",
   "execution_count": 23,
   "id": "df607eec",
   "metadata": {},
   "outputs": [
    {
     "data": {
      "text/plain": [
       "'서울특별시 학동로 412 석탑아파트 101동'"
      ]
     },
     "execution_count": 23,
     "metadata": {},
     "output_type": "execute_result"
    }
   ],
   "source": [
    "driver.find_element(by='xpath', value=f'//*[@id=\"result-place-list\"]/li[{ind}]/a/div/p[1]/b').text\n",
    "driver.find_element(by='xpath', value=f'//*[@id=\"result-place-list\"]/li[{ind}]/a/div/p[2]').text"
   ]
  },
  {
   "cell_type": "code",
   "execution_count": 31,
   "id": "03771930",
   "metadata": {},
   "outputs": [
    {
     "name": "stderr",
     "output_type": "stream",
     "text": [
      "\n",
      "KeyboardInterrupt\n",
      "\n"
     ]
    }
   ],
   "source": [
    "i = 2\n",
    "smartall_list = []  \n",
    "\n",
    "while True:\n",
    "    try: \n",
    "        ind = 1\n",
    "        driver.find_element(by='xpath', value=f'//*[@id=\"search_sido\"]/option[2]').click()\n",
    "        title = driver.find_element(by='xpath', value=f'//*[@id=\"result-place-list\"]/li[{ind}]/a/div/p[1]/b').text\n",
    "        add = driver.find_element(by='xpath', value=f'//*[@id=\"result-place-list\"]/li[{ind}]/a/div/p[2]').text\n",
    "        smartall_list.append([title, add])\n",
    "        \n",
    "        i += 1\n",
    "        ind += 1\n",
    "        \n",
    "    except Exception as e:\n",
    "        # 기타 예외 발생 시 에러 메시지 출력\n",
    "        print(f\"예외 발생: {e}\")\n",
    "        break"
   ]
  },
  {
   "cell_type": "code",
   "execution_count": null,
   "id": "b74ea46e",
   "metadata": {},
   "outputs": [],
   "source": []
  },
  {
   "cell_type": "code",
   "execution_count": null,
   "id": "f84bb895",
   "metadata": {},
   "outputs": [],
   "source": []
  },
  {
   "cell_type": "code",
   "execution_count": null,
   "id": "f81dc84f",
   "metadata": {},
   "outputs": [],
   "source": [
    "smartall_list = []  \n",
    "\n",
    "for i in range(3, ):\n",
    "    title_url = f\"https://www.smarthb-math.co.kr/franchise/find.php?ptype=view&idx={idx}&page=115&code=franchiseeLocation&searchopt=&\"\n",
    "    \n",
    "    driver.get(title_url)\n",
    "    \n",
    "    title = driver.find_element(by='xpath', value=f'//*[@id=\"wrap\"]/div[3]/div/table/tbody/tr[1]/th').text\n",
    "    add = driver.find_element(by='xpath', value=f'//*[@id=\"wrap\"]/div[3]/div/table/tbody/tr[2]/td').text\n",
    "    hb_list.append([title, add])\n",
    "    \n",
    "    idx -= 1\n",
    "    print(idx) # 몇번까지 했는지 눈으로 보는 용 (주석처리 가능)"
   ]
  }
 ],
 "metadata": {
  "kernelspec": {
   "display_name": "Python 3 (ipykernel)",
   "language": "python",
   "name": "python3"
  },
  "language_info": {
   "codemirror_mode": {
    "name": "ipython",
    "version": 3
   },
   "file_extension": ".py",
   "mimetype": "text/x-python",
   "name": "python",
   "nbconvert_exporter": "python",
   "pygments_lexer": "ipython3",
   "version": "3.10.9"
  }
 },
 "nbformat": 4,
 "nbformat_minor": 5
}
