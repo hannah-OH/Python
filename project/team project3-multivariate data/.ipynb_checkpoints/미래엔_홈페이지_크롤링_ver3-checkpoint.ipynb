{
 "cells": [
  {
   "cell_type": "markdown",
   "id": "c435300b",
   "metadata": {},
   "source": [
    "* 미래엔 홈페이지 크롤링 버전 설명\n",
    "    - ver1. 상세주소를 제외한 주소까지 크롤링 완료\n",
    "    - ver2. 상세주소까지 크롤링 완료"
   ]
  },
  {
   "cell_type": "code",
   "execution_count": 26,
   "id": "823cd15f",
   "metadata": {},
   "outputs": [],
   "source": [
    "from selenium import webdriver\n",
    "import pandas as pd\n",
    "from selenium.common.exceptions import NoSuchElementException\n",
    "\n",
    "from selenium.webdriver.common.by import By\n",
    "from selenium.webdriver.support.ui import WebDriverWait\n",
    "from selenium.webdriver.support import expected_conditions as EC"
   ]
  },
  {
   "cell_type": "code",
   "execution_count": 2,
   "id": "ae15b4cd",
   "metadata": {},
   "outputs": [],
   "source": [
    "driver = webdriver.Edge()"
   ]
  },
  {
   "cell_type": "markdown",
   "id": "92924131",
   "metadata": {},
   "source": [
    "* 미래엔수학은 지역별로 url 번호가 다름을 알수있다. 또한 지역번호가 연속적인 것이 아니기때문에 지역번호를 저장한 엑셀파일을 불러와 리스트로 저장 후 url을 for문을 돌려 변경해주었다."
   ]
  },
  {
   "cell_type": "code",
   "execution_count": 3,
   "id": "a8adc650",
   "metadata": {},
   "outputs": [],
   "source": [
    "mu = pd.read_excel('./지역_번호.xlsx')"
   ]
  },
  {
   "cell_type": "code",
   "execution_count": 4,
   "id": "4b648593",
   "metadata": {},
   "outputs": [],
   "source": [
    "num_list = []\n",
    "\n",
    "for i in range(len(mu)):\n",
    "    num_list.append(mu.loc[i, '번호'])"
   ]
  },
  {
   "cell_type": "code",
   "execution_count": 16,
   "id": "255a9d83",
   "metadata": {},
   "outputs": [],
   "source": [
    "driver.get('https://www.miraenmath.co.kr/index.html')"
   ]
  },
  {
   "cell_type": "code",
   "execution_count": 39,
   "id": "21df3c23",
   "metadata": {},
   "outputs": [],
   "source": [
    "mirae = []  # 결과물이 저장되는 리스트\n",
    "\n",
    "for i in num_list:\n",
    "    ind = 1\n",
    "\n",
    "    mirae_search_url = f'https://www.miraenmath.co.kr/search/neighborhood.html?areaCd1={i}'\n",
    "    driver.get(mirae_search_url)\n",
    "\n",
    "    while True:  # 무한 루프로 변경\n",
    "        try:\n",
    "            wait = WebDriverWait(driver, 2)  # 최대 10초 동안 대기\n",
    "            element1 = wait.until(EC.presence_of_element_located((By.XPATH, f'//*[@id=\"class\"]/tr[{ind}]/td[1]')))\n",
    "            element2 = wait.until(EC.presence_of_element_located((By.XPATH, f'//*[@id=\"class\"]/tr[{ind}]/td[2]')))\n",
    "            ind += 1\n",
    "\n",
    "            title = element1.text\n",
    "            add = element2.text\n",
    "\n",
    "            mirae.append([title, add])\n",
    "            \n",
    "        except :\n",
    "            break  "
   ]
  },
  {
   "cell_type": "code",
   "execution_count": 40,
   "id": "8c2cb1f2",
   "metadata": {},
   "outputs": [],
   "source": [
    "mirae = pd.DataFrame(mirae)"
   ]
  },
  {
   "cell_type": "code",
   "execution_count": 42,
   "id": "8dd4af31",
   "metadata": {},
   "outputs": [],
   "source": [
    "mirae.columns = ['지점', '주소']"
   ]
  },
  {
   "cell_type": "code",
   "execution_count": 41,
   "id": "78072d33",
   "metadata": {},
   "outputs": [
    {
     "data": {
      "text/html": [
       "<div>\n",
       "<style scoped>\n",
       "    .dataframe tbody tr th:only-of-type {\n",
       "        vertical-align: middle;\n",
       "    }\n",
       "\n",
       "    .dataframe tbody tr th {\n",
       "        vertical-align: top;\n",
       "    }\n",
       "\n",
       "    .dataframe thead th {\n",
       "        text-align: right;\n",
       "    }\n",
       "</style>\n",
       "<table border=\"1\" class=\"dataframe\">\n",
       "  <thead>\n",
       "    <tr style=\"text-align: right;\">\n",
       "      <th></th>\n",
       "      <th>0</th>\n",
       "      <th>1</th>\n",
       "    </tr>\n",
       "  </thead>\n",
       "  <tbody>\n",
       "    <tr>\n",
       "      <th>0</th>\n",
       "      <td>미래엔매쓰팜수학학원</td>\n",
       "      <td>서울 은평구 진관동</td>\n",
       "    </tr>\n",
       "    <tr>\n",
       "      <th>1</th>\n",
       "      <td>가야학원 성수교실</td>\n",
       "      <td>서울 성동구 성수일로 1 (성수동1가) 2층 가야학원</td>\n",
       "    </tr>\n",
       "    <tr>\n",
       "      <th>2</th>\n",
       "      <td>가양한보교실</td>\n",
       "      <td>서울 강서구 허준로</td>\n",
       "    </tr>\n",
       "    <tr>\n",
       "      <th>3</th>\n",
       "      <td>가재울연가교실</td>\n",
       "      <td>서울 서대문구 증가로</td>\n",
       "    </tr>\n",
       "    <tr>\n",
       "      <th>4</th>\n",
       "      <td>가재울DMC수학</td>\n",
       "      <td>서울 서대문구 응암로</td>\n",
       "    </tr>\n",
       "    <tr>\n",
       "      <th>...</th>\n",
       "      <td>...</td>\n",
       "      <td>...</td>\n",
       "    </tr>\n",
       "    <tr>\n",
       "      <th>1062</th>\n",
       "      <td>중앙에이스교실</td>\n",
       "      <td>제주특별자치도 제주시 서사로18길</td>\n",
       "    </tr>\n",
       "    <tr>\n",
       "      <th>1063</th>\n",
       "      <td>지성수학교실</td>\n",
       "      <td>제주특별자치도 서귀포시 중산간동로</td>\n",
       "    </tr>\n",
       "    <tr>\n",
       "      <th>1064</th>\n",
       "      <td>하귀아이클릭교실</td>\n",
       "      <td>제주특별자치도 제주시 애월읍 하귀로</td>\n",
       "    </tr>\n",
       "    <tr>\n",
       "      <th>1065</th>\n",
       "      <td>하귀휴먼시아</td>\n",
       "      <td>제주특별자치도 제주시 하귀9길</td>\n",
       "    </tr>\n",
       "    <tr>\n",
       "      <th>1066</th>\n",
       "      <td>한라한솔플러스수학교실</td>\n",
       "      <td>제주특별자치도 제주시 연화로3길</td>\n",
       "    </tr>\n",
       "  </tbody>\n",
       "</table>\n",
       "<p>1067 rows × 2 columns</p>\n",
       "</div>"
      ],
      "text/plain": [
       "                0                              1\n",
       "0      미래엔매쓰팜수학학원                     서울 은평구 진관동\n",
       "1       가야학원 성수교실  서울 성동구 성수일로 1 (성수동1가) 2층 가야학원\n",
       "2          가양한보교실                     서울 강서구 허준로\n",
       "3         가재울연가교실                    서울 서대문구 증가로\n",
       "4        가재울DMC수학                    서울 서대문구 응암로\n",
       "...           ...                            ...\n",
       "1062      중앙에이스교실             제주특별자치도 제주시 서사로18길\n",
       "1063       지성수학교실             제주특별자치도 서귀포시 중산간동로\n",
       "1064     하귀아이클릭교실            제주특별자치도 제주시 애월읍 하귀로\n",
       "1065       하귀휴먼시아               제주특별자치도 제주시 하귀9길\n",
       "1066  한라한솔플러스수학교실              제주특별자치도 제주시 연화로3길\n",
       "\n",
       "[1067 rows x 2 columns]"
      ]
     },
     "execution_count": 41,
     "metadata": {},
     "output_type": "execute_result"
    }
   ],
   "source": [
    "mirae"
   ]
  }
 ],
 "metadata": {
  "kernelspec": {
   "display_name": "Python 3 (ipykernel)",
   "language": "python",
   "name": "python3"
  },
  "language_info": {
   "codemirror_mode": {
    "name": "ipython",
    "version": 3
   },
   "file_extension": ".py",
   "mimetype": "text/x-python",
   "name": "python",
   "nbconvert_exporter": "python",
   "pygments_lexer": "ipython3",
   "version": "3.10.9"
  }
 },
 "nbformat": 4,
 "nbformat_minor": 5
}
