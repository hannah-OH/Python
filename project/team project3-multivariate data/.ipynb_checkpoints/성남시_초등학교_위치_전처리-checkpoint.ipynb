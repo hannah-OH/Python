{
 "cells": [
  {
   "cell_type": "code",
   "execution_count": 1,
   "id": "690dfa57",
   "metadata": {},
   "outputs": [],
   "source": [
    "import pandas as pd"
   ]
  },
  {
   "cell_type": "code",
   "execution_count": 3,
   "id": "c6d2e426",
   "metadata": {},
   "outputs": [],
   "source": [
    "sc = pd.read_csv('./data/전국초중등학교위치표준데이터.csv', encoding='cp949')"
   ]
  },
  {
   "cell_type": "code",
   "execution_count": 5,
   "id": "9fe07a9c",
   "metadata": {},
   "outputs": [],
   "source": [
    "el = sc[sc['학교급구분'] == '초등학교']"
   ]
  },
  {
   "cell_type": "code",
   "execution_count": 9,
   "id": "06c4abce",
   "metadata": {},
   "outputs": [
    {
     "data": {
      "text/plain": [
       "Index(['학교ID', '학교명', '학교급구분', '설립일자', '설립형태', '본교분교구분', '운영상태', '소재지지번주소',\n",
       "       '소재지도로명주소', '시도교육청코드', '시도교육청명', '교육지원청코드', '교육지원청명', '생성일자', '변경일자',\n",
       "       '위도', '경도', '데이터기준일자', '제공기관코드', '제공기관명'],\n",
       "      dtype='object')"
      ]
     },
     "execution_count": 9,
     "metadata": {},
     "output_type": "execute_result"
    }
   ],
   "source": [
    "el.columns"
   ]
  },
  {
   "cell_type": "code",
   "execution_count": 10,
   "id": "853a56c5",
   "metadata": {},
   "outputs": [
    {
     "data": {
      "text/html": [
       "<div>\n",
       "<style scoped>\n",
       "    .dataframe tbody tr th:only-of-type {\n",
       "        vertical-align: middle;\n",
       "    }\n",
       "\n",
       "    .dataframe tbody tr th {\n",
       "        vertical-align: top;\n",
       "    }\n",
       "\n",
       "    .dataframe thead th {\n",
       "        text-align: right;\n",
       "    }\n",
       "</style>\n",
       "<table border=\"1\" class=\"dataframe\">\n",
       "  <thead>\n",
       "    <tr style=\"text-align: right;\">\n",
       "      <th></th>\n",
       "      <th>학교명</th>\n",
       "      <th>소재지도로명주소</th>\n",
       "      <th>위도</th>\n",
       "      <th>경도</th>\n",
       "    </tr>\n",
       "  </thead>\n",
       "  <tbody>\n",
       "    <tr>\n",
       "      <th>0</th>\n",
       "      <td>한울초등학교</td>\n",
       "      <td>경기도 화성시 향남읍 행정중앙1로 25 . 한울초등학교 (향남읍)</td>\n",
       "      <td>37.126961</td>\n",
       "      <td>126.917854</td>\n",
       "    </tr>\n",
       "    <tr>\n",
       "      <th>3</th>\n",
       "      <td>초락초등학교</td>\n",
       "      <td>충청남도 당진시 석문면 샛터말길 35 (석문면)</td>\n",
       "      <td>36.993080</td>\n",
       "      <td>126.510472</td>\n",
       "    </tr>\n",
       "    <tr>\n",
       "      <th>4</th>\n",
       "      <td>상봉초등학교</td>\n",
       "      <td>충청북도 청주시 흥덕구 오송읍 상봉길 9 . 상봉초등학교 (오송읍)</td>\n",
       "      <td>36.638251</td>\n",
       "      <td>127.286142</td>\n",
       "    </tr>\n",
       "    <tr>\n",
       "      <th>5</th>\n",
       "      <td>남원도통초등학교</td>\n",
       "      <td>전라북도 남원시 대교2길 22 (도통동. 남원도통초등학교)</td>\n",
       "      <td>35.413792</td>\n",
       "      <td>127.394758</td>\n",
       "    </tr>\n",
       "    <tr>\n",
       "      <th>7</th>\n",
       "      <td>구만초등학교</td>\n",
       "      <td>경상남도 고성군 구만면 영회로 1763 . 구만초등학교 (구만면)</td>\n",
       "      <td>35.088515</td>\n",
       "      <td>128.335541</td>\n",
       "    </tr>\n",
       "    <tr>\n",
       "      <th>...</th>\n",
       "      <td>...</td>\n",
       "      <td>...</td>\n",
       "      <td>...</td>\n",
       "      <td>...</td>\n",
       "    </tr>\n",
       "    <tr>\n",
       "      <th>11980</th>\n",
       "      <td>온양초등학교</td>\n",
       "      <td>충청남도 아산시 온주길26번길 10 (읍내동)</td>\n",
       "      <td>36.760610</td>\n",
       "      <td>127.018068</td>\n",
       "    </tr>\n",
       "    <tr>\n",
       "      <th>11981</th>\n",
       "      <td>동현초등학교</td>\n",
       "      <td>부산광역시 금정구 동현로 36 (부곡동. 동현초등학교)</td>\n",
       "      <td>35.222022</td>\n",
       "      <td>129.092760</td>\n",
       "    </tr>\n",
       "    <tr>\n",
       "      <th>11983</th>\n",
       "      <td>대전옥계초등학교</td>\n",
       "      <td>대전광역시 중구 모암로 35 (옥계동. 대전옥계초등학교)</td>\n",
       "      <td>36.301199</td>\n",
       "      <td>127.449039</td>\n",
       "    </tr>\n",
       "    <tr>\n",
       "      <th>11984</th>\n",
       "      <td>성덕초등학교</td>\n",
       "      <td>광주광역시 광산구 풍영로 313 . 성덕초등학교 (장덕동)</td>\n",
       "      <td>35.199148</td>\n",
       "      <td>126.814301</td>\n",
       "    </tr>\n",
       "    <tr>\n",
       "      <th>11985</th>\n",
       "      <td>이월초등학교</td>\n",
       "      <td>충청북도 진천군 이월면 송림6길 26 . 이월초등학교 (이월면)</td>\n",
       "      <td>36.931076</td>\n",
       "      <td>127.431922</td>\n",
       "    </tr>\n",
       "  </tbody>\n",
       "</table>\n",
       "<p>6318 rows × 4 columns</p>\n",
       "</div>"
      ],
      "text/plain": [
       "            학교명                               소재지도로명주소         위도          경도\n",
       "0        한울초등학교   경기도 화성시 향남읍 행정중앙1로 25 . 한울초등학교 (향남읍)  37.126961  126.917854\n",
       "3        초락초등학교             충청남도 당진시 석문면 샛터말길 35 (석문면)  36.993080  126.510472\n",
       "4        상봉초등학교  충청북도 청주시 흥덕구 오송읍 상봉길 9 . 상봉초등학교 (오송읍)  36.638251  127.286142\n",
       "5      남원도통초등학교       전라북도 남원시 대교2길 22 (도통동. 남원도통초등학교)  35.413792  127.394758\n",
       "7        구만초등학교   경상남도 고성군 구만면 영회로 1763 . 구만초등학교 (구만면)  35.088515  128.335541\n",
       "...         ...                                    ...        ...         ...\n",
       "11980    온양초등학교              충청남도 아산시 온주길26번길 10 (읍내동)  36.760610  127.018068\n",
       "11981    동현초등학교         부산광역시 금정구 동현로 36 (부곡동. 동현초등학교)  35.222022  129.092760\n",
       "11983  대전옥계초등학교        대전광역시 중구 모암로 35 (옥계동. 대전옥계초등학교)  36.301199  127.449039\n",
       "11984    성덕초등학교       광주광역시 광산구 풍영로 313 . 성덕초등학교 (장덕동)  35.199148  126.814301\n",
       "11985    이월초등학교    충청북도 진천군 이월면 송림6길 26 . 이월초등학교 (이월면)  36.931076  127.431922\n",
       "\n",
       "[6318 rows x 4 columns]"
      ]
     },
     "execution_count": 10,
     "metadata": {},
     "output_type": "execute_result"
    }
   ],
   "source": [
    "el[['학교명', '소재지도로명주소', '위도', '경도']]"
   ]
  },
  {
   "cell_type": "code",
   "execution_count": null,
   "id": "efff2952",
   "metadata": {},
   "outputs": [],
   "source": []
  }
 ],
 "metadata": {
  "kernelspec": {
   "display_name": "Python 3 (ipykernel)",
   "language": "python",
   "name": "python3"
  },
  "language_info": {
   "codemirror_mode": {
    "name": "ipython",
    "version": 3
   },
   "file_extension": ".py",
   "mimetype": "text/x-python",
   "name": "python",
   "nbconvert_exporter": "python",
   "pygments_lexer": "ipython3",
   "version": "3.10.9"
  }
 },
 "nbformat": 4,
 "nbformat_minor": 5
}
