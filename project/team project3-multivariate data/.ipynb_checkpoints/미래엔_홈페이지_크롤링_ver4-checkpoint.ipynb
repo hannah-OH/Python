{
 "cells": [
  {
   "cell_type": "markdown",
   "id": "6f3b5389",
   "metadata": {},
   "source": [
    "* 미래엔 홈페이지 크롤링 버전 설명\n",
    "    - ver1. 상세주소를 제외한 주소까지 크롤링 완료\n",
    "    - ver2. 상세주소까지 크롤링 완료"
   ]
  },
  {
   "cell_type": "code",
   "execution_count": 1,
   "id": "823cd15f",
   "metadata": {},
   "outputs": [],
   "source": [
    "from selenium import webdriver\n",
    "import pandas as pd\n",
    "from selenium.common.exceptions import NoSuchElementException\n",
    "\n",
    "from selenium.webdriver.common.by import By\n",
    "from selenium.webdriver.support.ui import WebDriverWait\n",
    "from selenium.webdriver.support import expected_conditions as EC\n",
    "\n",
    "from urllib.parse import unquote"
   ]
  },
  {
   "cell_type": "code",
   "execution_count": 2,
   "id": "ae15b4cd",
   "metadata": {},
   "outputs": [],
   "source": [
    "driver = webdriver.Edge()"
   ]
  },
  {
   "cell_type": "markdown",
   "id": "92924131",
   "metadata": {},
   "source": [
    "* 미래엔수학은 지역별로 url 번호가 다름을 알수있다. 또한 지역번호가 연속적인 것이 아니기때문에 지역번호를 저장한 엑셀파일을 불러와 리스트로 저장 후 url을 for문을 돌려 변경해주었다."
   ]
  },
  {
   "cell_type": "code",
   "execution_count": 3,
   "id": "a8adc650",
   "metadata": {},
   "outputs": [],
   "source": [
    "mu = pd.read_excel('./data/지역_번호.xlsx')"
   ]
  },
  {
   "cell_type": "code",
   "execution_count": 4,
   "id": "4b648593",
   "metadata": {},
   "outputs": [],
   "source": [
    "num_list = []\n",
    "\n",
    "for i in range(len(mu)):\n",
    "    num_list.append(mu.loc[i, '번호'])"
   ]
  },
  {
   "cell_type": "code",
   "execution_count": 5,
   "id": "255a9d83",
   "metadata": {},
   "outputs": [],
   "source": [
    "driver.get('https://www.miraenmath.co.kr/index.html')"
   ]
  },
  {
   "cell_type": "code",
   "execution_count": 6,
   "id": "21df3c23",
   "metadata": {},
   "outputs": [],
   "source": [
    "mirae = []  # 결과물이 저장되는 리스트\n",
    "\n",
    "for i in num_list:\n",
    "    ind = 1\n",
    "\n",
    "    mirae_search_url = f'https://www.miraenmath.co.kr/search/neighborhood.html?areaCd1={i}'\n",
    "    driver.get(mirae_search_url)\n",
    "\n",
    "    while True:  # 무한 루프로 변경\n",
    "        try:\n",
    "            wait = WebDriverWait(driver, 2)  # 최대 10초 동안 대기\n",
    "            element1 = wait.until(EC.presence_of_element_located((By.XPATH, f'//*[@id=\"class\"]/tr[{ind}]/td[1]')))\n",
    "            element2 = wait.until(EC.presence_of_element_located((By.XPATH, f'//*[@id=\"class\"]/tr[{ind}]/td[3]/a')))\n",
    "            ind += 1\n",
    "\n",
    "            title = element1.text\n",
    "            \n",
    "            address = element2.get_attribute('href')\n",
    "            parsed_address = address.split(\"search/\")[-1]\n",
    "            add = unquote(parsed_address)\n",
    "\n",
    "            mirae.append([title, add])\n",
    "            \n",
    "        except :\n",
    "            break  "
   ]
  },
  {
   "cell_type": "code",
   "execution_count": 7,
   "id": "8c2cb1f2",
   "metadata": {},
   "outputs": [],
   "source": [
    "mirae = pd.DataFrame(mirae)"
   ]
  },
  {
   "cell_type": "code",
   "execution_count": 9,
   "id": "8dd4af31",
   "metadata": {},
   "outputs": [],
   "source": [
    "mirae.columns = ['지점', '주소']"
   ]
  }
 ],
 "metadata": {
  "kernelspec": {
   "display_name": "Python 3 (ipykernel)",
   "language": "python",
   "name": "python3"
  },
  "language_info": {
   "codemirror_mode": {
    "name": "ipython",
    "version": 3
   },
   "file_extension": ".py",
   "mimetype": "text/x-python",
   "name": "python",
   "nbconvert_exporter": "python",
   "pygments_lexer": "ipython3",
   "version": "3.10.9"
  }
 },
 "nbformat": 4,
 "nbformat_minor": 5
}
