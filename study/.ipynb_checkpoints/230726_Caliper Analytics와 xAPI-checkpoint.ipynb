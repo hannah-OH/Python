{
 "cells": [
  {
   "cell_type": "markdown",
   "id": "db99c748",
   "metadata": {},
   "source": [
    "# 7월 26일"
   ]
  },
  {
   "cell_type": "markdown",
   "id": "2be8405e",
   "metadata": {},
   "source": [
    "https://www.keris.or.kr/main/ad/pblcte/selectPblcteRMInfo.do?mi=1139&pblcteSeq=13204\n",
    "\n",
    "기존에는 교육분야에서는 성적빼고는 데이터를 누적하지 않았다\n",
    "그러나 최근 데이터분석을 하면서 데이터를 어떻게 할 것이냐에서부터 시작된 방법 \n",
    "딥러닝에서는 input data 퀄리티의 중요도가 80%를 차지한다 \n",
    "\n",
    "### 데이터 저장 워크플로우 \n",
    "1. 개인정보보호 정책 적용\n",
    "    * 문제가 되는 사항들은 국가에 따라 정리 \n",
    "2. 학습 데이터 수집\n",
    "    * 특정 데이터 형식에 맞춰서 데이터 자동화\n",
    "3. 데이터 저장 및 가공\n",
    "    * 데이터베이스에 저장 \n",
    "    * 가공 - 전처리 \n",
    "4. 데이터 분석\n",
    "    * 대시보드\n",
    "    * 예측분석\n",
    "    * 적응형 분석\n",
    "    * 담화분석 \n",
    "5. 시각화\n",
    "    * 인포그래픽 추천 \n",
    "        - 네이쳐 커버레터 \n",
    "6. 피드백 \n",
    "\n",
    "---\n",
    "\n",
    "\n",
    "\n",
    "###  Caliper Analytics\n",
    "* 시험의 단점을 보완 / 시험과는 다른 개념으로 평가 (학습의 참여도 등)\n",
    "* 학습에 대한 정량적 측정\n",
    "* 사용자가 온라인 수업을 잘 듣고있는지, 얼마나 활성화 상태였는지 등\n",
    "* 필수 속성 정의: 누가, 어떤 어떤사람인데, 어떤 학습을, 어느 시점에, 어떻게 했다 (학습이라는 걸 했으면 필수적으로 적히는 정보들)\n",
    "* 일관된 데이터를 사용하기 위해 표준화를 시켜두었다 \n",
    "\n",
    "### xAPI\n",
    "* 분산된 데이터 \n",
    "* 학습자가 얼마나 수행능력이 있느냐 교수자가 얼마나 잘 가르쳤냐 스킬, 학습자료는 얼마나 맥락을 가지고 있는지 전반적으로 고려가능\n",
    "* 범용적인 데이터 \n",
    "* 표 형태로 설명 가능 \n",
    "\n",
    "둘다 사람관점에서 데이터 분석하기 좋게 워크플로우를 설정해둔거라 데이터과학 관점에서는 좀 부족한것도 사실임\n",
    "\n",
    "---\n",
    "자동화를 한다는 것은 사람이 체크를 한다던가 그러지 않아도 된다는 뜻이니 <br>\n",
    "기업에서는 그러한 일에 인력이 묶이지 않아도 된다는 것이니 인력비 절감 가능"
   ]
  },
  {
   "cell_type": "markdown",
   "id": "976f1d38",
   "metadata": {},
   "source": [
    "### PyCon Korea 2018 - 파이썬으로 학생 들여다보기\n",
    "\n",
    "https://www.slideshare.net/YungonPark/pycon-korea-2018"
   ]
  }
 ],
 "metadata": {
  "kernelspec": {
   "display_name": "Python 3 (ipykernel)",
   "language": "python",
   "name": "python3"
  },
  "language_info": {
   "codemirror_mode": {
    "name": "ipython",
    "version": 3
   },
   "file_extension": ".py",
   "mimetype": "text/x-python",
   "name": "python",
   "nbconvert_exporter": "python",
   "pygments_lexer": "ipython3",
   "version": "3.10.9"
  }
 },
 "nbformat": 4,
 "nbformat_minor": 5
}
