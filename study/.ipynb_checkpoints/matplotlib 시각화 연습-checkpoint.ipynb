{
 "cells": [
  {
   "cell_type": "code",
   "execution_count": 1,
   "id": "785c2db0",
   "metadata": {},
   "outputs": [],
   "source": [
    "import pandas as pd\n",
    "\n",
    "import matplotlib.pyplot as plt\n",
    "plt.rcParams['font.family'] = 'Malgun Gothic'\n",
    "\n",
    "import matplotlib as mpl\n",
    "mpl.rcParams['axes.unicode_minus'] = False\n",
    "\n",
    "%matplotlib inline\n",
    "\n",
    "import seaborn as sns\n",
    "import numpy as np\n",
    "from scipy import stats"
   ]
  },
  {
   "cell_type": "code",
   "execution_count": 2,
   "id": "02d42d9a",
   "metadata": {},
   "outputs": [],
   "source": [
    "df = pd.read_csv('../data/한국자산관리공사_국유부동산 매각현황_20221231.csv', encoding='cp949') "
   ]
  },
  {
   "cell_type": "code",
   "execution_count": 3,
   "id": "df8d4226",
   "metadata": {},
   "outputs": [
    {
     "data": {
      "text/html": [
       "<div>\n",
       "<style scoped>\n",
       "    .dataframe tbody tr th:only-of-type {\n",
       "        vertical-align: middle;\n",
       "    }\n",
       "\n",
       "    .dataframe tbody tr th {\n",
       "        vertical-align: top;\n",
       "    }\n",
       "\n",
       "    .dataframe thead th {\n",
       "        text-align: right;\n",
       "    }\n",
       "</style>\n",
       "<table border=\"1\" class=\"dataframe\">\n",
       "  <thead>\n",
       "    <tr style=\"text-align: right;\">\n",
       "      <th></th>\n",
       "      <th>연도구분</th>\n",
       "      <th>지역구분</th>\n",
       "      <th>소재지명</th>\n",
       "      <th>재산구분</th>\n",
       "      <th>공부지목</th>\n",
       "      <th>대장면적(제곱미터)</th>\n",
       "      <th>대장금액(원)</th>\n",
       "      <th>처분구분명</th>\n",
       "      <th>계약일자</th>\n",
       "      <th>부점명</th>\n",
       "      <th>팀명</th>\n",
       "    </tr>\n",
       "  </thead>\n",
       "  <tbody>\n",
       "    <tr>\n",
       "      <th>0</th>\n",
       "      <td>2014</td>\n",
       "      <td>전라북도</td>\n",
       "      <td>전라북도 정읍시 상동  725</td>\n",
       "      <td>토지</td>\n",
       "      <td>전</td>\n",
       "      <td>56.0</td>\n",
       "      <td>9968000.0</td>\n",
       "      <td>처분(매각수의)</td>\n",
       "      <td>2014-01-01</td>\n",
       "      <td>전북지역본부</td>\n",
       "      <td>국유재산관리1팀</td>\n",
       "    </tr>\n",
       "    <tr>\n",
       "      <th>1</th>\n",
       "      <td>2014</td>\n",
       "      <td>울산광역시</td>\n",
       "      <td>울산광역시 북구 천곡동  709-1</td>\n",
       "      <td>토지</td>\n",
       "      <td>임야</td>\n",
       "      <td>225.0</td>\n",
       "      <td>13770000.0</td>\n",
       "      <td>처분(매각수의)</td>\n",
       "      <td>2014-01-01</td>\n",
       "      <td>국유재산관리부</td>\n",
       "      <td>국유울산팀</td>\n",
       "    </tr>\n",
       "    <tr>\n",
       "      <th>2</th>\n",
       "      <td>2014</td>\n",
       "      <td>전라북도</td>\n",
       "      <td>전라북도 정읍시 산내면 종성리 727-21</td>\n",
       "      <td>토지</td>\n",
       "      <td>답</td>\n",
       "      <td>105.0</td>\n",
       "      <td>1075200.0</td>\n",
       "      <td>처분(매각수의)</td>\n",
       "      <td>2014-01-01</td>\n",
       "      <td>전북지역본부</td>\n",
       "      <td>국유재산관리1팀</td>\n",
       "    </tr>\n",
       "  </tbody>\n",
       "</table>\n",
       "</div>"
      ],
      "text/plain": [
       "   연도구분   지역구분                     소재지명 재산구분 공부지목  대장면적(제곱미터)     대장금액(원)  \\\n",
       "0  2014   전라북도         전라북도 정읍시 상동  725   토지    전        56.0   9968000.0   \n",
       "1  2014  울산광역시      울산광역시 북구 천곡동  709-1   토지   임야       225.0  13770000.0   \n",
       "2  2014   전라북도  전라북도 정읍시 산내면 종성리 727-21   토지    답       105.0   1075200.0   \n",
       "\n",
       "      처분구분명        계약일자      부점명        팀명  \n",
       "0  처분(매각수의)  2014-01-01   전북지역본부  국유재산관리1팀  \n",
       "1  처분(매각수의)  2014-01-01  국유재산관리부     국유울산팀  \n",
       "2  처분(매각수의)  2014-01-01   전북지역본부  국유재산관리1팀  "
      ]
     },
     "execution_count": 3,
     "metadata": {},
     "output_type": "execute_result"
    }
   ],
   "source": [
    "df.head(3)"
   ]
  },
  {
   "cell_type": "code",
   "execution_count": 4,
   "id": "eaa47c08",
   "metadata": {},
   "outputs": [],
   "source": [
    "df2 = df[df['대장금액(원)'] != 0]"
   ]
  },
  {
   "cell_type": "code",
   "execution_count": 5,
   "id": "ed0d47aa",
   "metadata": {},
   "outputs": [
    {
     "data": {
      "text/plain": [
       "array(['전라북도', '울산광역시', '부산광역시', '강원도', '경상북도', '전라남도', '제주특별자치도', '충청남도',\n",
       "       '경상남도', '대전광역시', '충청북도', '인천광역시', '세종특별자치시', '경기도', '대구광역시',\n",
       "       '서울특별시', '광주광역시'], dtype=object)"
      ]
     },
     "execution_count": 5,
     "metadata": {},
     "output_type": "execute_result"
    }
   ],
   "source": [
    "df2['지역구분'].unique()"
   ]
  },
  {
   "cell_type": "code",
   "execution_count": 6,
   "id": "08f53738",
   "metadata": {},
   "outputs": [],
   "source": [
    "s = df2[df2['지역구분'] == '서울특별시']\n",
    "g = df2[df2['지역구분'] == '경기도']\n",
    "i = df2[df2['지역구분'] == '인천광역시']"
   ]
  },
  {
   "cell_type": "code",
   "execution_count": 7,
   "id": "bbef7261",
   "metadata": {},
   "outputs": [],
   "source": [
    "s_a = s.groupby('연도구분').sum('대장금액(원)')\n",
    "g_a = g.groupby('연도구분').sum('대장금액(원)')\n",
    "i_a = i.groupby('연도구분').sum('대장금액(원)')"
   ]
  },
  {
   "cell_type": "markdown",
   "id": "dd9d9c6e",
   "metadata": {},
   "source": [
    "## Matplotlib을 이용하여 그룹별 막대그래프(Grouped bar chart) 그리기"
   ]
  },
  {
   "cell_type": "code",
   "execution_count": 8,
   "id": "630da56f",
   "metadata": {},
   "outputs": [
    {
     "data": {
      "image/png": "[encoded data removed]",
      "text/plain": [
       "<Figure size 640x480 with 1 Axes>"
      ]
     },
     "metadata": {},
     "output_type": "display_data"
    }
   ],
   "source": [
    "plt.bar(g_a.index, g_a['대장금액(원)'], color = 'g')\n",
    "plt.bar(s_a.index, s_a['대장금액(원)'], color = 'r')\n",
    "plt.bar(i_a.index, i_a['대장금액(원)'], color = 'b')\n",
    "plt.xticks(g_a.index)\n",
    "plt.show()"
   ]
  },
  {
   "cell_type": "markdown",
   "id": "3465f47a",
   "metadata": {},
   "source": [
    "* 하나의 막대에 표시하면 일부 데이터가 표시가 안되는 현상이 발생함. 이를 해결하기 위해 그룹별 막대그래프를 그림\n",
    "* 이러한 그래프를 페어드 paired graph라고 부름 "
   ]
  },
  {
   "cell_type": "code",
   "execution_count": 9,
   "id": "b7df4158",
   "metadata": {},
   "outputs": [
    {
     "data": {
      "image/png": "[encoded data removed]",
      "text/plain": [
       "<Figure size 640x480 with 1 Axes>"
      ]
     },
     "metadata": {},
     "output_type": "display_data"
    }
   ],
   "source": [
    "species = g_a.index\n",
    "penguin_means = {\n",
    "    '서울' : s_a['대장금액(원)'],\n",
    "    '경기' : g_a['대장금액(원)'],\n",
    "    '인천' : i_a['대장금액(원)']\n",
    "}\n",
    "\n",
    "x = np.arange(len(species))\n",
    "width = 0.25\n",
    "multiplier = 0\n",
    "\n",
    "fig, ax = plt.subplots()\n",
    "\n",
    "colors = ['red', 'green', 'blue']\n",
    "\n",
    "for attribute, measurement in penguin_means.items():\n",
    "    offset = width * multiplier\n",
    "    rects = ax.bar(x + offset, measurement, width, label=attribute, \n",
    "                   color=colors[multiplier])\n",
    "    # ax.bar_label(rects, padding=3) # 그래프 막대위에 숫자를 보이게 함 \n",
    "    multiplier += 1\n",
    "    \n",
    "\n",
    "plt.legend(loc='upper right') \n",
    "# ax.axes.xaxis.set_visible(False) # x축 눈금을 없애버리기\n",
    "ax.set_xticks(x + width, species) # x축에 인덱스값을 보이게 해줌 \n",
    "plt.show()"
   ]
  },
  {
   "cell_type": "code",
   "execution_count": null,
   "id": "5ebc1f9e",
   "metadata": {},
   "outputs": [],
   "source": []
  }
 ],
 "metadata": {
  "kernelspec": {
   "display_name": "Python 3 (ipykernel)",
   "language": "python",
   "name": "python3"
  },
  "language_info": {
   "codemirror_mode": {
    "name": "ipython",
    "version": 3
   },
   "file_extension": ".py",
   "mimetype": "text/x-python",
   "name": "python",
   "nbconvert_exporter": "python",
   "pygments_lexer": "ipython3",
   "version": "3.10.9"
  }
 },
 "nbformat": 4,
 "nbformat_minor": 5
}
