{
 "cells": [
  {
   "cell_type": "code",
   "execution_count": null,
   "id": "7f8250f1",
   "metadata": {},
   "outputs": [],
   "source": [
    "from dash import Dash, html, dcc, Input, Output, callback, dash_table\n",
    "import pandas as pd\n",
    "import plotly.express as px"
   ]
  },
  {
   "cell_type": "code",
   "execution_count": null,
   "id": "1b462bee",
   "metadata": {},
   "outputs": [],
   "source": [
    "# 그래프 그래프 \n",
    "# 표"
   ]
  },
  {
   "cell_type": "code",
   "execution_count": null,
   "id": "ce6fadd0",
   "metadata": {},
   "outputs": [],
   "source": [
    "external_stylesheets = ['https://codepen.io/chriddyp/pen/bWLwgP.css']\n",
    "app = Dash(__name__, external_stylesheets=external_stylesheets)\n",
    "\n",
    "app.layout = html.Div([\n",
    "    html.Div(className='row', children='전문상담교사수와 학업중단자의 상관관계',\n",
    "             style={'textAlign': 'center', 'color': 'blue', 'fontSize': 30}),\n",
    "\n",
    "    html.Div(className='row', children=[\n",
    "        dcc.Dropdown(df_hs['시도'].unique(), '서울', id='dropdown-selection')\n",
    "    ]),\n",
    "\n",
    "    html.Div(className='row', children=[\n",
    "        html.Div(className='one', children=[\n",
    "            html.H5(children='행정구역별 전문상담교사수', style={'textAlign':'center'}),\n",
    "            dcc.Graph(figure={}, id='graph-content-1')\n",
    "        ], style={'width': '49%', 'float': 'left', 'display': 'inline-block'}),\n",
    "        html.Div(className='two', children=[\n",
    "            html.H5(children='행정구역별 학업중단자수', style={'textAlign':'center'}),\n",
    "            dcc.Graph(figure={}, id='graph-content-2')\n",
    "        ], style={'width': '49%', 'float': 'right', 'display': 'inline-block'})\n",
    "    ]), dash_table.DataTable(data=df_hs.to_dict('records'), page_size=10)\n",
    "])\n",
    "\n",
    "@callback(\n",
    "    Output(component_id='graph-content-1', component_property='figure'),\n",
    "    Input(component_id='dropdown-selection', component_property='value')\n",
    ")\n",
    "\n",
    "def update_graph1(value):\n",
    "    dff = df_hs[df_hs['시도']==value]\n",
    "    return px.histogram(dff, x='행정구역', y='교사수', histfunc='sum')\n",
    "\n",
    "@callback(\n",
    "    Output(component_id='graph-content-2', component_property='figure'),\n",
    "    Input(component_id='dropdown-selection', component_property='value')\n",
    ")\n",
    "\n",
    "def update_graph2(value):\n",
    "    dff = df_hs[df_hs['시도']==value]\n",
    "    return px.histogram(dff, x='행정구역', y='학업중단자_전체', histfunc='sum')\n",
    "\n",
    "# Run the app\n",
    "if __name__ == '__main__':\n",
    "    app.run(debug=True)"
   ]
  },
  {
   "cell_type": "code",
   "execution_count": null,
   "id": "a6e1a06e",
   "metadata": {},
   "outputs": [],
   "source": [
    "# 그래프\n",
    "# 표"
   ]
  },
  {
   "cell_type": "code",
   "execution_count": null,
   "id": "2d676e8d",
   "metadata": {},
   "outputs": [],
   "source": [
    "external_stylesheets = ['https://codepen.io/chriddyp/pen/bWLwgP.css']\n",
    "app = Dash(__name__, external_stylesheets=external_stylesheets)\n",
    "\n",
    "app.layout = html.Div([\n",
    "    html.Div(className='row', children='전문상담교사수와 학업중단자의 상관관계',\n",
    "             style={'textAlign': 'center', 'color': 'blue', 'fontSize': 30}),\n",
    "\n",
    "    html.Div(className='row', children=[\n",
    "        dcc.Dropdown(df_hs['시도'].unique(), '서울', id='dropdown-selection'),\n",
    "        dcc.Graph(figure={}, id='graph-content-1')\n",
    "        \n",
    "    ]),dash_table.DataTable(data=df_hs.to_dict('records'), page_size=10)\n",
    "])\n",
    "\n",
    "@callback(\n",
    "    Output(component_id='graph-content-1', component_property='figure'),\n",
    "    Input(component_id='dropdown-selection', component_property='value')\n",
    ")\n",
    "\n",
    "def update_graph1(value):\n",
    "    dff = df_hs[df_hs['시도']==value]\n",
    "    return px.histogram(dff, x='행정구역', y='교사수', histfunc='sum')\n",
    "\n",
    "if __name__ == '__main__':\n",
    "    app.run(debug=True)"
   ]
  },
  {
   "cell_type": "code",
   "execution_count": null,
   "id": "87032ab1",
   "metadata": {},
   "outputs": [],
   "source": [
    "sns.lineplot(data=df, x='연도', y='학업중단자_비율',color='#E9967A')\n",
    "sns.lineplot(data=df, x='연도', y='교사수_비율')"
   ]
  },
  {
   "cell_type": "code",
   "execution_count": null,
   "id": "9eee802e",
   "metadata": {},
   "outputs": [],
   "source": [
    "# 꺾은선 그래프 2개\n",
    "# 표\n",
    "\n",
    "# 긍정적인 지표는 빨간색, 부정적인 지표는 파란색으로 표현한다 (색 구분 중요)\n",
    "# 그리고 시계열 추세를 보여줄거면 꺾은선 그래프가 좋지만, 비율 차이를 보여주고 싶다면 다른 그래프를 사용해야한다\n",
    "# 보여주고 싶은 것에 따라 적절한 그래프를 사용하는 것은 정말 중요하다 "
   ]
  },
  {
   "cell_type": "code",
   "execution_count": null,
   "id": "e88a30bc",
   "metadata": {},
   "outputs": [],
   "source": [
    "external_stylesheets = ['https://codepen.io/chriddyp/pen/bWLwgP.css']\n",
    "app = Dash(__name__, external_stylesheets=external_stylesheets)\n",
    "\n",
    "app.layout = html.Div([\n",
    "    html.Div(className='row', children='전문상담교사수와 학업중단자',\n",
    "             style={'textAlign': 'center', 'color': 'blue', 'fontSize': 30}),\n",
    "\n",
    "    html.Div(className='row', children=[\n",
    "        dcc.Dropdown(df_graph['시도'].unique(), '서울', id='dropdown-selection'), \n",
    "        # 그래프는 시도를 기준으로 Dropdown하여 보여줌\n",
    "        # 서울을 먼저 보여줌\n",
    "        dcc.Graph(figure={}, id='graph-content')     \n",
    "    ]),dash_table.DataTable(data=df_table.to_dict('records'), page_size=10) \n",
    "    # 테이블은 업데이트하지 않고 한번에 전체 시도의 비율을 출력\n",
    "])\n",
    "\n",
    "@callback(\n",
    "    Output(component_id='graph-content', component_property='figure'),\n",
    "    Input(component_id='dropdown-selection', component_property='value')\n",
    ")\n",
    "\n",
    "def update_graph1(value):\n",
    "    dff = df_graph[df_graph['시도']==value]\n",
    "    return px.line(dff, x=\"연도\", y=\"비율값\",color='기준', symbol='기준') # 학업중단자와 교사수의 색을 다르게 하여 한번에 출력\n",
    "\n",
    "if __name__ == '__main__':\n",
    "    app.run(debug=True)"
   ]
  },
  {
   "cell_type": "code",
   "execution_count": null,
   "id": "de7479ff",
   "metadata": {},
   "outputs": [],
   "source": [
    "# 적절한 그래프를 사용하는 법\n",
    "# https://seaborn.pydata.org/examples/index.html 등에서 예제를 보며 그래프를 분석해보는 연습이 필요하다\n",
    "# 딱봐도 알수있도록 만들어졌을테니 어떤 그래프를 사용했는지 왜 사용했는지를 분석해보면 적절한 그래프를 사용하는 감각이 길러질 것이다\n",
    "\n",
    "# 예시\n",
    "# 꺾은선 그래프 (선 그래프)\n",
    "## 이어지기때문에 추세를 보여주기 좋다\n",
    "\n",
    "# 파이 차트\n",
    "## 전체에서 얼마나 많은 파이(면적)를 차지하고 있는지를 보여주기 좋다\n",
    "\n",
    "# 페어드 그래프 (막대그래프가 두개가 옆으로 그룹별로 있는 형태)\n",
    "## 비율 차이를 그룹별로 보여주기 좋다 "
   ]
  },
  {
   "cell_type": "code",
   "execution_count": null,
   "id": "219e75f5",
   "metadata": {},
   "outputs": [],
   "source": []
  }
 ],
 "metadata": {
  "kernelspec": {
   "display_name": "Python 3 (ipykernel)",
   "language": "python",
   "name": "python3"
  },
  "language_info": {
   "codemirror_mode": {
    "name": "ipython",
    "version": 3
   },
   "file_extension": ".py",
   "mimetype": "text/x-python",
   "name": "python",
   "nbconvert_exporter": "python",
   "pygments_lexer": "ipython3",
   "version": "3.10.9"
  }
 },
 "nbformat": 4,
 "nbformat_minor": 5
}
