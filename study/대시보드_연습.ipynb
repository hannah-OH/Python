{
 "cells": [
  {
   "cell_type": "code",
   "execution_count": null,
   "id": "7f8250f1",
   "metadata": {},
   "outputs": [],
   "source": [
    "from dash import Dash, html, dcc, Input, Output, callback, dash_table\n",
    "import pandas as pd\n",
    "import plotly.express as px"
   ]
  },
  {
   "cell_type": "code",
   "execution_count": null,
   "id": "1b462bee",
   "metadata": {},
   "outputs": [],
   "source": [
    "# 그래프 그래프 \n",
    "# 표"
   ]
  },
  {
   "cell_type": "code",
   "execution_count": null,
   "id": "ce6fadd0",
   "metadata": {},
   "outputs": [],
   "source": [
    "external_stylesheets = ['https://codepen.io/chriddyp/pen/bWLwgP.css']\n",
    "app = Dash(__name__, external_stylesheets=external_stylesheets)\n",
    "\n",
    "app.layout = html.Div([\n",
    "    html.Div(className='row', children='전문상담교사수와 학업중단자의 상관관계',\n",
    "             style={'textAlign': 'center', 'color': 'blue', 'fontSize': 30}),\n",
    "\n",
    "    html.Div(className='row', children=[\n",
    "        dcc.Dropdown(df_hs['시도'].unique(), '서울', id='dropdown-selection')\n",
    "    ]),\n",
    "\n",
    "    html.Div(className='row', children=[\n",
    "        html.Div(className='one', children=[\n",
    "            html.H5(children='행정구역별 전문상담교사수', style={'textAlign':'center'}),\n",
    "            dcc.Graph(figure={}, id='graph-content-1')\n",
    "        ], style={'width': '49%', 'float': 'left', 'display': 'inline-block'}),\n",
    "        html.Div(className='two', children=[\n",
    "            html.H5(children='행정구역별 학업중단자수', style={'textAlign':'center'}),\n",
    "            dcc.Graph(figure={}, id='graph-content-2')\n",
    "        ], style={'width': '49%', 'float': 'right', 'display': 'inline-block'})\n",
    "    ]), dash_table.DataTable(data=df_hs.to_dict('records'), page_size=10)\n",
    "])\n",
    "\n",
    "@callback(\n",
    "    Output(component_id='graph-content-1', component_property='figure'),\n",
    "    Input(component_id='dropdown-selection', component_property='value')\n",
    ")\n",
    "\n",
    "def update_graph1(value):\n",
    "    dff = df_hs[df_hs['시도']==value]\n",
    "    return px.histogram(dff, x='행정구역', y='교사수', histfunc='sum')\n",
    "\n",
    "@callback(\n",
    "    Output(component_id='graph-content-2', component_property='figure'),\n",
    "    Input(component_id='dropdown-selection', component_property='value')\n",
    ")\n",
    "\n",
    "def update_graph2(value):\n",
    "    dff = df_hs[df_hs['시도']==value]\n",
    "    return px.histogram(dff, x='행정구역', y='학업중단자_전체', histfunc='sum')\n",
    "\n",
    "# Run the app\n",
    "if __name__ == '__main__':\n",
    "    app.run(debug=True)\n"
   ]
  },
  {
   "cell_type": "code",
   "execution_count": null,
   "id": "a6e1a06e",
   "metadata": {},
   "outputs": [],
   "source": [
    "# 그래프\n",
    "# 표"
   ]
  },
  {
   "cell_type": "code",
   "execution_count": null,
   "id": "2d676e8d",
   "metadata": {},
   "outputs": [],
   "source": [
    "external_stylesheets = ['https://codepen.io/chriddyp/pen/bWLwgP.css']\n",
    "app = Dash(__name__, external_stylesheets=external_stylesheets)\n",
    "\n",
    "app.layout = html.Div([\n",
    "    html.Div(className='row', children='전문상담교사수와 학업중단자의 상관관계',\n",
    "             style={'textAlign': 'center', 'color': 'blue', 'fontSize': 30}),\n",
    "\n",
    "    html.Div(className='row', children=[\n",
    "        dcc.Dropdown(df_hs['시도'].unique(), '서울', id='dropdown-selection'),\n",
    "        dcc.Graph(figure={}, id='graph-content-1')\n",
    "        \n",
    "    ]),dash_table.DataTable(data=df_hs.to_dict('records'), page_size=10)\n",
    "])\n",
    "\n",
    "@callback(\n",
    "    Output(component_id='graph-content-1', component_property='figure'),\n",
    "    Input(component_id='dropdown-selection', component_property='value')\n",
    ")\n",
    "\n",
    "def update_graph1(value):\n",
    "    dff = df_hs[df_hs['시도']==value]\n",
    "    return px.histogram(dff, x='행정구역', y='교사수', histfunc='sum')\n",
    "\n",
    "if __name__ == '__main__':\n",
    "    app.run(debug=True)"
   ]
  },
  {
   "cell_type": "code",
   "execution_count": null,
   "id": "87032ab1",
   "metadata": {},
   "outputs": [],
   "source": [
    "sns.lineplot(data=df, x='연도', y='학업중단자_비율',color='#E9967A')\n",
    "sns.lineplot(data=df, x='연도', y='교사수_비율')"
   ]
  },
  {
   "cell_type": "code",
   "execution_count": null,
   "id": "e88a30bc",
   "metadata": {},
   "outputs": [],
   "source": []
  },
  {
   "cell_type": "code",
   "execution_count": null,
   "id": "de7479ff",
   "metadata": {},
   "outputs": [],
   "source": []
  },
  {
   "cell_type": "code",
   "execution_count": null,
   "id": "219e75f5",
   "metadata": {},
   "outputs": [],
   "source": []
  }
 ],
 "metadata": {
  "kernelspec": {
   "display_name": "Python 3 (ipykernel)",
   "language": "python",
   "name": "python3"
  },
  "language_info": {
   "codemirror_mode": {
    "name": "ipython",
    "version": 3
   },
   "file_extension": ".py",
   "mimetype": "text/x-python",
   "name": "python",
   "nbconvert_exporter": "python",
   "pygments_lexer": "ipython3",
   "version": "3.10.9"
  }
 },
 "nbformat": 4,
 "nbformat_minor": 5
}
