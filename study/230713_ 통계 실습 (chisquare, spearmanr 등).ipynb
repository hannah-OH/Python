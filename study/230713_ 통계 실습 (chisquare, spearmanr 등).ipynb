{
 "cells": [
  {
   "cell_type": "markdown",
   "id": "6ad9c997",
   "metadata": {},
   "source": [
    "# 7월 13일 - 통계 실습 (chisquare, spearmanr 등)"
   ]
  },
  {
   "cell_type": "code",
   "execution_count": null,
   "id": "863e841a",
   "metadata": {},
   "outputs": [],
   "source": [
    "# 여러개의 데이터를 살펴보기 \n",
    "\n",
    "# 알아두어야하는 통계\n",
    "# t-test\n",
    "# 카이제곱 테스트 \n",
    "# 코릴레이션 \n",
    "# 가변량 \n",
    "\n",
    "# 요새는 복잡한 관계성/현실세계데이터를 다룰때 전통적인 통계를 사용하기 보다는 딥러닝을 사용함 \n",
    "\n",
    "# 추상화 되어있는 것을 밝히는 것 : 화이트박스\n",
    "# 머신러닝 분야에서 화이트박스가 대세 "
   ]
  },
  {
   "cell_type": "code",
   "execution_count": null,
   "id": "4fd4abf3",
   "metadata": {},
   "outputs": [],
   "source": [
    "# 카이제곱 검정\n",
    "# 두 그룹의 빈도가 있을때 유의미하게 다른지 검사"
   ]
  },
  {
   "cell_type": "code",
   "execution_count": 49,
   "id": "9419a087",
   "metadata": {},
   "outputs": [],
   "source": [
    "import pandas as pd\n",
    "\n",
    "import matplotlib.pyplot as plt\n",
    "plt.rcParams['font.family'] = 'Malgun Gothic'\n",
    "\n",
    "import matplotlib as mpl\n",
    "mpl.rcParams['axes.unicode_minus'] = False\n",
    "\n",
    "%matplotlib inline\n",
    "\n",
    "from statannot import add_stat_annotation\n",
    "import plotly.express as px\n",
    "\n",
    "import seaborn as sns\n",
    "import numpy as np\n",
    "from scipy import stats"
   ]
  },
  {
   "cell_type": "code",
   "execution_count": 50,
   "id": "1b85ac86",
   "metadata": {},
   "outputs": [],
   "source": [
    "df = pd.read_csv('./data/한국자산관리공사_국유부동산 매각현황_20221231.csv', encoding='cp949') \n",
    "date2 = df['계약일자'].value_counts()"
   ]
  },
  {
   "cell_type": "code",
   "execution_count": 51,
   "id": "eb63b614",
   "metadata": {},
   "outputs": [],
   "source": [
    "chi = pd.DataFrame([[10, 20], [20, 5]], columns=['A', 'B'], index=['a', 'b'])"
   ]
  },
  {
   "cell_type": "code",
   "execution_count": 52,
   "id": "c74d3b38",
   "metadata": {},
   "outputs": [
    {
     "data": {
      "text/html": [
       "<div>\n",
       "<style scoped>\n",
       "    .dataframe tbody tr th:only-of-type {\n",
       "        vertical-align: middle;\n",
       "    }\n",
       "\n",
       "    .dataframe tbody tr th {\n",
       "        vertical-align: top;\n",
       "    }\n",
       "\n",
       "    .dataframe thead th {\n",
       "        text-align: right;\n",
       "    }\n",
       "</style>\n",
       "<table border=\"1\" class=\"dataframe\">\n",
       "  <thead>\n",
       "    <tr style=\"text-align: right;\">\n",
       "      <th></th>\n",
       "      <th>A</th>\n",
       "      <th>B</th>\n",
       "    </tr>\n",
       "  </thead>\n",
       "  <tbody>\n",
       "    <tr>\n",
       "      <th>a</th>\n",
       "      <td>10</td>\n",
       "      <td>20</td>\n",
       "    </tr>\n",
       "    <tr>\n",
       "      <th>b</th>\n",
       "      <td>20</td>\n",
       "      <td>5</td>\n",
       "    </tr>\n",
       "  </tbody>\n",
       "</table>\n",
       "</div>"
      ],
      "text/plain": [
       "    A   B\n",
       "a  10  20\n",
       "b  20   5"
      ]
     },
     "execution_count": 52,
     "metadata": {},
     "output_type": "execute_result"
    }
   ],
   "source": [
    "chi"
   ]
  },
  {
   "cell_type": "code",
   "execution_count": 53,
   "id": "56de18d3",
   "metadata": {},
   "outputs": [
    {
     "data": {
      "text/plain": [
       "Chi2ContingencyResult(statistic=10.1695, pvalue=0.00142782991476716, dof=1, expected_freq=array([[16.36363636, 13.63636364],\n",
       "       [13.63636364, 11.36363636]]))"
      ]
     },
     "execution_count": 53,
     "metadata": {},
     "output_type": "execute_result"
    }
   ],
   "source": [
    "stats.chi2_contingency(chi) # pvalue=0.0014 <0.05 ; 빈도가 유의미하게 다르게 나온다 "
   ]
  },
  {
   "cell_type": "code",
   "execution_count": 54,
   "id": "329ce8a5",
   "metadata": {},
   "outputs": [],
   "source": [
    "# chi2_contingency 사용: 제1종오류인지 제2종오류인지 확인할때\n",
    "# 분류하는 모델을 만들었을때 맞은거 몇개 틀린거 몇개 표시. 되고 이걸 확인할때 첫번째로 고려되야하는거: 카이제곱\n",
    "# "
   ]
  },
  {
   "cell_type": "code",
   "execution_count": 55,
   "id": "0ecfd568",
   "metadata": {},
   "outputs": [],
   "source": [
    "chi2 = pd.DataFrame([[10, 5, 8, 3, 6], [8, 3, 7, 4, 10]], \n",
    "                    columns=['a', 'b', 'c', 'd', 'e'],\n",
    "                   index=['1회차', '2회차'])"
   ]
  },
  {
   "cell_type": "code",
   "execution_count": 56,
   "id": "a7da8a48",
   "metadata": {},
   "outputs": [
    {
     "data": {
      "text/html": [
       "<div>\n",
       "<style scoped>\n",
       "    .dataframe tbody tr th:only-of-type {\n",
       "        vertical-align: middle;\n",
       "    }\n",
       "\n",
       "    .dataframe tbody tr th {\n",
       "        vertical-align: top;\n",
       "    }\n",
       "\n",
       "    .dataframe thead th {\n",
       "        text-align: right;\n",
       "    }\n",
       "</style>\n",
       "<table border=\"1\" class=\"dataframe\">\n",
       "  <thead>\n",
       "    <tr style=\"text-align: right;\">\n",
       "      <th></th>\n",
       "      <th>a</th>\n",
       "      <th>b</th>\n",
       "      <th>c</th>\n",
       "      <th>d</th>\n",
       "      <th>e</th>\n",
       "    </tr>\n",
       "  </thead>\n",
       "  <tbody>\n",
       "    <tr>\n",
       "      <th>1회차</th>\n",
       "      <td>10</td>\n",
       "      <td>5</td>\n",
       "      <td>8</td>\n",
       "      <td>3</td>\n",
       "      <td>6</td>\n",
       "    </tr>\n",
       "    <tr>\n",
       "      <th>2회차</th>\n",
       "      <td>8</td>\n",
       "      <td>3</td>\n",
       "      <td>7</td>\n",
       "      <td>4</td>\n",
       "      <td>10</td>\n",
       "    </tr>\n",
       "  </tbody>\n",
       "</table>\n",
       "</div>"
      ],
      "text/plain": [
       "      a  b  c  d   e\n",
       "1회차  10  5  8  3   6\n",
       "2회차   8  3  7  4  10"
      ]
     },
     "execution_count": 56,
     "metadata": {},
     "output_type": "execute_result"
    }
   ],
   "source": [
    "chi2"
   ]
  },
  {
   "cell_type": "code",
   "execution_count": 57,
   "id": "5f544f39",
   "metadata": {},
   "outputs": [
    {
     "data": {
      "text/plain": [
       "Power_divergenceResult(statistic=3.8261904761904764, pvalue=0.4300391334165975)"
      ]
     },
     "execution_count": 57,
     "metadata": {},
     "output_type": "execute_result"
    }
   ],
   "source": [
    "stats.chisquare(chi2.loc['1회차'], chi2.loc['2회차'])"
   ]
  },
  {
   "cell_type": "code",
   "execution_count": 58,
   "id": "1e713027",
   "metadata": {},
   "outputs": [],
   "source": [
    "df_X = df.head(500)"
   ]
  },
  {
   "cell_type": "code",
   "execution_count": 59,
   "id": "57c6a508",
   "metadata": {},
   "outputs": [],
   "source": [
    "df_y = df_X[['대장면적(제곱미터)', '대장금액(원)']]\n",
    "# 원래 쓰는 거 말고 순서 반대로 써도 됨\n",
    "# 순서 반대로 쓰면 순서도 반대가 됨 "
   ]
  },
  {
   "cell_type": "code",
   "execution_count": 60,
   "id": "a704de31",
   "metadata": {},
   "outputs": [
    {
     "data": {
      "text/html": [
       "<div>\n",
       "<style scoped>\n",
       "    .dataframe tbody tr th:only-of-type {\n",
       "        vertical-align: middle;\n",
       "    }\n",
       "\n",
       "    .dataframe tbody tr th {\n",
       "        vertical-align: top;\n",
       "    }\n",
       "\n",
       "    .dataframe thead th {\n",
       "        text-align: right;\n",
       "    }\n",
       "</style>\n",
       "<table border=\"1\" class=\"dataframe\">\n",
       "  <thead>\n",
       "    <tr style=\"text-align: right;\">\n",
       "      <th></th>\n",
       "      <th>대장면적(제곱미터)</th>\n",
       "      <th>대장금액(원)</th>\n",
       "    </tr>\n",
       "  </thead>\n",
       "  <tbody>\n",
       "    <tr>\n",
       "      <th>0</th>\n",
       "      <td>56.0</td>\n",
       "      <td>9968000.0</td>\n",
       "    </tr>\n",
       "    <tr>\n",
       "      <th>1</th>\n",
       "      <td>225.0</td>\n",
       "      <td>13770000.0</td>\n",
       "    </tr>\n",
       "    <tr>\n",
       "      <th>2</th>\n",
       "      <td>105.0</td>\n",
       "      <td>1075200.0</td>\n",
       "    </tr>\n",
       "    <tr>\n",
       "      <th>3</th>\n",
       "      <td>184.0</td>\n",
       "      <td>1884160.0</td>\n",
       "    </tr>\n",
       "    <tr>\n",
       "      <th>4</th>\n",
       "      <td>2106.0</td>\n",
       "      <td>23797800.0</td>\n",
       "    </tr>\n",
       "    <tr>\n",
       "      <th>...</th>\n",
       "      <td>...</td>\n",
       "      <td>...</td>\n",
       "    </tr>\n",
       "    <tr>\n",
       "      <th>495</th>\n",
       "      <td>20.0</td>\n",
       "      <td>576000.0</td>\n",
       "    </tr>\n",
       "    <tr>\n",
       "      <th>496</th>\n",
       "      <td>13.0</td>\n",
       "      <td>354120.0</td>\n",
       "    </tr>\n",
       "    <tr>\n",
       "      <th>497</th>\n",
       "      <td>267.0</td>\n",
       "      <td>8490600.0</td>\n",
       "    </tr>\n",
       "    <tr>\n",
       "      <th>498</th>\n",
       "      <td>13.0</td>\n",
       "      <td>374400.0</td>\n",
       "    </tr>\n",
       "    <tr>\n",
       "      <th>499</th>\n",
       "      <td>89.0</td>\n",
       "      <td>2424360.0</td>\n",
       "    </tr>\n",
       "  </tbody>\n",
       "</table>\n",
       "<p>500 rows × 2 columns</p>\n",
       "</div>"
      ],
      "text/plain": [
       "     대장면적(제곱미터)     대장금액(원)\n",
       "0          56.0   9968000.0\n",
       "1         225.0  13770000.0\n",
       "2         105.0   1075200.0\n",
       "3         184.0   1884160.0\n",
       "4        2106.0  23797800.0\n",
       "..          ...         ...\n",
       "495        20.0    576000.0\n",
       "496        13.0    354120.0\n",
       "497       267.0   8490600.0\n",
       "498        13.0    374400.0\n",
       "499        89.0   2424360.0\n",
       "\n",
       "[500 rows x 2 columns]"
      ]
     },
     "execution_count": 60,
     "metadata": {},
     "output_type": "execute_result"
    }
   ],
   "source": [
    "df_y"
   ]
  },
  {
   "cell_type": "code",
   "execution_count": 61,
   "id": "30ef4a28",
   "metadata": {},
   "outputs": [],
   "source": [
    "# 상관관계: 코릴레이션 \n",
    "# 코릴레이션은 전처리를 최소화한다 ; 관계성을 더 잘 보일 수 있다 \n",
    "# 박스플롯의 경우 찌그러진 데이터는 잘 안보이고 그러는데 코릴레이션은 스케터플롯으로 보면 잘보인다\n",
    "\n",
    "# stats.pearsonr # 값을 대상\n",
    "# stats.spearmanr # 수위를 대상 # 전처리안했을때 사용"
   ]
  },
  {
   "cell_type": "code",
   "execution_count": 62,
   "id": "ee2a33e7",
   "metadata": {},
   "outputs": [
    {
     "data": {
      "text/plain": [
       "SignificanceResult(statistic=0.5209301903931852, pvalue=3.9677004248376504e-36)"
      ]
     },
     "execution_count": 62,
     "metadata": {},
     "output_type": "execute_result"
    }
   ],
   "source": [
    "stats.spearmanr(df_y['대장금액(원)'], df_y['대장면적(제곱미터)'])"
   ]
  },
  {
   "cell_type": "code",
   "execution_count": 63,
   "id": "dd03bb63",
   "metadata": {},
   "outputs": [
    {
     "data": {
      "text/plain": [
       "<Axes: xlabel='대장금액(원)', ylabel='대장면적(제곱미터)'>"
      ]
     },
     "execution_count": 63,
     "metadata": {},
     "output_type": "execute_result"
    },
    {
     "data": {
      "image/png": "[encoded data removed]",
      "text/plain": [
       "<Figure size 640x480 with 1 Axes>"
      ]
     },
     "metadata": {},
     "output_type": "display_data"
    }
   ],
   "source": [
    "# 전처리하기전에 지켜보는게 좋다 \n",
    "sns.scatterplot(x = df_y['대장금액(원)'], y = df_y['대장면적(제곱미터)'])"
   ]
  },
  {
   "cell_type": "code",
   "execution_count": 64,
   "id": "5567e28f",
   "metadata": {},
   "outputs": [
    {
     "name": "stderr",
     "output_type": "stream",
     "text": [
      "C:\\Users\\BIG2-003-008\\AppData\\Local\\Temp\\ipykernel_14132\\1652978876.py:2: SettingWithCopyWarning: \n",
      "A value is trying to be set on a copy of a slice from a DataFrame.\n",
      "Try using .loc[row_indexer,col_indexer] = value instead\n",
      "\n",
      "See the caveats in the documentation: https://pandas.pydata.org/pandas-docs/stable/user_guide/indexing.html#returning-a-view-versus-a-copy\n",
      "  df_y[i] = df_y[i][df_y[i] != 0]\n",
      "C:\\Users\\BIG2-003-008\\AppData\\Local\\Temp\\ipykernel_14132\\1652978876.py:3: SettingWithCopyWarning: \n",
      "A value is trying to be set on a copy of a slice from a DataFrame.\n",
      "Try using .loc[row_indexer,col_indexer] = value instead\n",
      "\n",
      "See the caveats in the documentation: https://pandas.pydata.org/pandas-docs/stable/user_guide/indexing.html#returning-a-view-versus-a-copy\n",
      "  df_y[i] = np.log2(df_y[i])\n"
     ]
    }
   ],
   "source": [
    "for i in ['대장금액(원)', '대장면적(제곱미터)']: \n",
    "    df_y[i] = df_y[i][df_y[i] != 0]\n",
    "    df_y[i] = np.log2(df_y[i])"
   ]
  },
  {
   "cell_type": "code",
   "execution_count": 65,
   "id": "d74301ae",
   "metadata": {},
   "outputs": [
    {
     "data": {
      "text/html": [
       "<div>\n",
       "<style scoped>\n",
       "    .dataframe tbody tr th:only-of-type {\n",
       "        vertical-align: middle;\n",
       "    }\n",
       "\n",
       "    .dataframe tbody tr th {\n",
       "        vertical-align: top;\n",
       "    }\n",
       "\n",
       "    .dataframe thead th {\n",
       "        text-align: right;\n",
       "    }\n",
       "</style>\n",
       "<table border=\"1\" class=\"dataframe\">\n",
       "  <thead>\n",
       "    <tr style=\"text-align: right;\">\n",
       "      <th></th>\n",
       "      <th>대장면적(제곱미터)</th>\n",
       "      <th>대장금액(원)</th>\n",
       "    </tr>\n",
       "  </thead>\n",
       "  <tbody>\n",
       "    <tr>\n",
       "      <th>0</th>\n",
       "      <td>5.807355</td>\n",
       "      <td>23.248873</td>\n",
       "    </tr>\n",
       "    <tr>\n",
       "      <th>1</th>\n",
       "      <td>7.813781</td>\n",
       "      <td>23.715025</td>\n",
       "    </tr>\n",
       "    <tr>\n",
       "      <th>2</th>\n",
       "      <td>6.714246</td>\n",
       "      <td>20.036174</td>\n",
       "    </tr>\n",
       "    <tr>\n",
       "      <th>3</th>\n",
       "      <td>7.523562</td>\n",
       "      <td>20.845490</td>\n",
       "    </tr>\n",
       "    <tr>\n",
       "      <th>4</th>\n",
       "      <td>11.040290</td>\n",
       "      <td>24.504325</td>\n",
       "    </tr>\n",
       "    <tr>\n",
       "      <th>...</th>\n",
       "      <td>...</td>\n",
       "      <td>...</td>\n",
       "    </tr>\n",
       "    <tr>\n",
       "      <th>495</th>\n",
       "      <td>4.321928</td>\n",
       "      <td>19.135709</td>\n",
       "    </tr>\n",
       "    <tr>\n",
       "      <th>496</th>\n",
       "      <td>3.700440</td>\n",
       "      <td>18.433879</td>\n",
       "    </tr>\n",
       "    <tr>\n",
       "      <th>497</th>\n",
       "      <td>8.060696</td>\n",
       "      <td>23.017435</td>\n",
       "    </tr>\n",
       "    <tr>\n",
       "      <th>498</th>\n",
       "      <td>3.700440</td>\n",
       "      <td>18.514221</td>\n",
       "    </tr>\n",
       "    <tr>\n",
       "      <th>499</th>\n",
       "      <td>6.475733</td>\n",
       "      <td>21.209173</td>\n",
       "    </tr>\n",
       "  </tbody>\n",
       "</table>\n",
       "<p>500 rows × 2 columns</p>\n",
       "</div>"
      ],
      "text/plain": [
       "     대장면적(제곱미터)    대장금액(원)\n",
       "0      5.807355  23.248873\n",
       "1      7.813781  23.715025\n",
       "2      6.714246  20.036174\n",
       "3      7.523562  20.845490\n",
       "4     11.040290  24.504325\n",
       "..          ...        ...\n",
       "495    4.321928  19.135709\n",
       "496    3.700440  18.433879\n",
       "497    8.060696  23.017435\n",
       "498    3.700440  18.514221\n",
       "499    6.475733  21.209173\n",
       "\n",
       "[500 rows x 2 columns]"
      ]
     },
     "execution_count": 65,
     "metadata": {},
     "output_type": "execute_result"
    }
   ],
   "source": [
    "df_y"
   ]
  },
  {
   "cell_type": "code",
   "execution_count": 66,
   "id": "3641eac4",
   "metadata": {},
   "outputs": [
    {
     "data": {
      "text/plain": [
       "<Axes: xlabel='대장금액(원)', ylabel='대장면적(제곱미터)'>"
      ]
     },
     "execution_count": 66,
     "metadata": {},
     "output_type": "execute_result"
    },
    {
     "data": {
      "image/png": "[encoded data removed]",
      "text/plain": [
       "<Figure size 640x480 with 1 Axes>"
      ]
     },
     "metadata": {},
     "output_type": "display_data"
    }
   ],
   "source": [
    "sns.scatterplot(x = df_y['대장금액(원)'], y = df_y['대장면적(제곱미터)'])"
   ]
  },
  {
   "cell_type": "code",
   "execution_count": 67,
   "id": "1e92881f",
   "metadata": {},
   "outputs": [
    {
     "data": {
      "text/plain": [
       "SignificanceResult(statistic=0.5209301903931852, pvalue=3.9677004248376504e-36)"
      ]
     },
     "execution_count": 67,
     "metadata": {},
     "output_type": "execute_result"
    }
   ],
   "source": [
    "stats.spearmanr(df_y['대장금액(원)'], df_y['대장면적(제곱미터)'])"
   ]
  },
  {
   "cell_type": "code",
   "execution_count": 68,
   "id": "7605b1c0",
   "metadata": {},
   "outputs": [
    {
     "data": {
      "text/plain": [
       "<Axes: xlabel='대장금액(원)', ylabel='대장면적(제곱미터)'>"
      ]
     },
     "execution_count": 68,
     "metadata": {},
     "output_type": "execute_result"
    },
    {
     "data": {
      "image/png": "[encoded data removed]",
      "text/plain": [
       "<Figure size 640x480 with 1 Axes>"
      ]
     },
     "metadata": {},
     "output_type": "display_data"
    }
   ],
   "source": [
    "sns.regplot(x = df_y['대장금액(원)'], y = df_y['대장면적(제곱미터)'])"
   ]
  },
  {
   "cell_type": "markdown",
   "id": "b51b5242",
   "metadata": {},
   "source": [
    "# 실습"
   ]
  },
  {
   "cell_type": "code",
   "execution_count": 215,
   "id": "bba46d53",
   "metadata": {},
   "outputs": [
    {
     "data": {
      "text/html": [
       "<div>\n",
       "<style scoped>\n",
       "    .dataframe tbody tr th:only-of-type {\n",
       "        vertical-align: middle;\n",
       "    }\n",
       "\n",
       "    .dataframe tbody tr th {\n",
       "        vertical-align: top;\n",
       "    }\n",
       "\n",
       "    .dataframe thead th {\n",
       "        text-align: right;\n",
       "    }\n",
       "</style>\n",
       "<table border=\"1\" class=\"dataframe\">\n",
       "  <thead>\n",
       "    <tr style=\"text-align: right;\">\n",
       "      <th></th>\n",
       "      <th>일자</th>\n",
       "      <th>횟수</th>\n",
       "      <th>1시</th>\n",
       "      <th>2시</th>\n",
       "      <th>3시</th>\n",
       "      <th>4시</th>\n",
       "      <th>5시</th>\n",
       "      <th>6시</th>\n",
       "      <th>7시</th>\n",
       "      <th>8시</th>\n",
       "      <th>...</th>\n",
       "      <th>16시</th>\n",
       "      <th>17시</th>\n",
       "      <th>18시</th>\n",
       "      <th>19시</th>\n",
       "      <th>20시</th>\n",
       "      <th>21시</th>\n",
       "      <th>22시</th>\n",
       "      <th>23시</th>\n",
       "      <th>24시</th>\n",
       "      <th>총제어량</th>\n",
       "    </tr>\n",
       "  </thead>\n",
       "  <tbody>\n",
       "    <tr>\n",
       "      <th>0</th>\n",
       "      <td>2021-01-13</td>\n",
       "      <td>1</td>\n",
       "      <td>0</td>\n",
       "      <td>0</td>\n",
       "      <td>0</td>\n",
       "      <td>0</td>\n",
       "      <td>0</td>\n",
       "      <td>0</td>\n",
       "      <td>0</td>\n",
       "      <td>0</td>\n",
       "      <td>...</td>\n",
       "      <td>0</td>\n",
       "      <td>0</td>\n",
       "      <td>0</td>\n",
       "      <td>0</td>\n",
       "      <td>0</td>\n",
       "      <td>0</td>\n",
       "      <td>0</td>\n",
       "      <td>0</td>\n",
       "      <td>0</td>\n",
       "      <td>65.17</td>\n",
       "    </tr>\n",
       "    <tr>\n",
       "      <th>1</th>\n",
       "      <td>2021-01-16</td>\n",
       "      <td>2</td>\n",
       "      <td>0</td>\n",
       "      <td>0</td>\n",
       "      <td>0</td>\n",
       "      <td>0</td>\n",
       "      <td>0</td>\n",
       "      <td>0</td>\n",
       "      <td>0</td>\n",
       "      <td>0</td>\n",
       "      <td>...</td>\n",
       "      <td>0</td>\n",
       "      <td>0</td>\n",
       "      <td>0</td>\n",
       "      <td>0</td>\n",
       "      <td>0</td>\n",
       "      <td>0</td>\n",
       "      <td>0</td>\n",
       "      <td>0</td>\n",
       "      <td>0</td>\n",
       "      <td>21.75</td>\n",
       "    </tr>\n",
       "    <tr>\n",
       "      <th>2</th>\n",
       "      <td>2021-01-18</td>\n",
       "      <td>3</td>\n",
       "      <td>0</td>\n",
       "      <td>0</td>\n",
       "      <td>0</td>\n",
       "      <td>0</td>\n",
       "      <td>0</td>\n",
       "      <td>0</td>\n",
       "      <td>0</td>\n",
       "      <td>0</td>\n",
       "      <td>...</td>\n",
       "      <td>0</td>\n",
       "      <td>0</td>\n",
       "      <td>0</td>\n",
       "      <td>0</td>\n",
       "      <td>0</td>\n",
       "      <td>0</td>\n",
       "      <td>0</td>\n",
       "      <td>0</td>\n",
       "      <td>0</td>\n",
       "      <td>46.67</td>\n",
       "    </tr>\n",
       "    <tr>\n",
       "      <th>3</th>\n",
       "      <td>2021-01-19</td>\n",
       "      <td>4</td>\n",
       "      <td>0</td>\n",
       "      <td>0</td>\n",
       "      <td>0</td>\n",
       "      <td>0</td>\n",
       "      <td>0</td>\n",
       "      <td>0</td>\n",
       "      <td>0</td>\n",
       "      <td>0</td>\n",
       "      <td>...</td>\n",
       "      <td>0</td>\n",
       "      <td>0</td>\n",
       "      <td>0</td>\n",
       "      <td>0</td>\n",
       "      <td>0</td>\n",
       "      <td>0</td>\n",
       "      <td>0</td>\n",
       "      <td>0</td>\n",
       "      <td>0</td>\n",
       "      <td>36.10</td>\n",
       "    </tr>\n",
       "    <tr>\n",
       "      <th>4</th>\n",
       "      <td>2021-01-24</td>\n",
       "      <td>5</td>\n",
       "      <td>0</td>\n",
       "      <td>0</td>\n",
       "      <td>0</td>\n",
       "      <td>0</td>\n",
       "      <td>0</td>\n",
       "      <td>0</td>\n",
       "      <td>0</td>\n",
       "      <td>0</td>\n",
       "      <td>...</td>\n",
       "      <td>3</td>\n",
       "      <td>0</td>\n",
       "      <td>0</td>\n",
       "      <td>0</td>\n",
       "      <td>0</td>\n",
       "      <td>0</td>\n",
       "      <td>0</td>\n",
       "      <td>0</td>\n",
       "      <td>0</td>\n",
       "      <td>97.67</td>\n",
       "    </tr>\n",
       "    <tr>\n",
       "      <th>...</th>\n",
       "      <td>...</td>\n",
       "      <td>...</td>\n",
       "      <td>...</td>\n",
       "      <td>...</td>\n",
       "      <td>...</td>\n",
       "      <td>...</td>\n",
       "      <td>...</td>\n",
       "      <td>...</td>\n",
       "      <td>...</td>\n",
       "      <td>...</td>\n",
       "      <td>...</td>\n",
       "      <td>...</td>\n",
       "      <td>...</td>\n",
       "      <td>...</td>\n",
       "      <td>...</td>\n",
       "      <td>...</td>\n",
       "      <td>...</td>\n",
       "      <td>...</td>\n",
       "      <td>...</td>\n",
       "      <td>...</td>\n",
       "      <td>...</td>\n",
       "    </tr>\n",
       "    <tr>\n",
       "      <th>59</th>\n",
       "      <td>2021-10-22</td>\n",
       "      <td>60</td>\n",
       "      <td>0</td>\n",
       "      <td>0</td>\n",
       "      <td>0</td>\n",
       "      <td>0</td>\n",
       "      <td>0</td>\n",
       "      <td>0</td>\n",
       "      <td>0</td>\n",
       "      <td>0</td>\n",
       "      <td>...</td>\n",
       "      <td>0</td>\n",
       "      <td>0</td>\n",
       "      <td>0</td>\n",
       "      <td>0</td>\n",
       "      <td>0</td>\n",
       "      <td>0</td>\n",
       "      <td>0</td>\n",
       "      <td>0</td>\n",
       "      <td>0</td>\n",
       "      <td>136.26</td>\n",
       "    </tr>\n",
       "    <tr>\n",
       "      <th>60</th>\n",
       "      <td>2021-10-23</td>\n",
       "      <td>61</td>\n",
       "      <td>0</td>\n",
       "      <td>0</td>\n",
       "      <td>0</td>\n",
       "      <td>0</td>\n",
       "      <td>0</td>\n",
       "      <td>0</td>\n",
       "      <td>0</td>\n",
       "      <td>0</td>\n",
       "      <td>...</td>\n",
       "      <td>1</td>\n",
       "      <td>0</td>\n",
       "      <td>0</td>\n",
       "      <td>0</td>\n",
       "      <td>0</td>\n",
       "      <td>0</td>\n",
       "      <td>0</td>\n",
       "      <td>0</td>\n",
       "      <td>0</td>\n",
       "      <td>50.60</td>\n",
       "    </tr>\n",
       "    <tr>\n",
       "      <th>61</th>\n",
       "      <td>2021-10-31</td>\n",
       "      <td>62</td>\n",
       "      <td>0</td>\n",
       "      <td>0</td>\n",
       "      <td>0</td>\n",
       "      <td>0</td>\n",
       "      <td>0</td>\n",
       "      <td>0</td>\n",
       "      <td>0</td>\n",
       "      <td>0</td>\n",
       "      <td>...</td>\n",
       "      <td>0</td>\n",
       "      <td>0</td>\n",
       "      <td>0</td>\n",
       "      <td>0</td>\n",
       "      <td>0</td>\n",
       "      <td>0</td>\n",
       "      <td>0</td>\n",
       "      <td>0</td>\n",
       "      <td>0</td>\n",
       "      <td>37.12</td>\n",
       "    </tr>\n",
       "    <tr>\n",
       "      <th>62</th>\n",
       "      <td>2021-11-03</td>\n",
       "      <td>63</td>\n",
       "      <td>0</td>\n",
       "      <td>0</td>\n",
       "      <td>0</td>\n",
       "      <td>0</td>\n",
       "      <td>0</td>\n",
       "      <td>0</td>\n",
       "      <td>0</td>\n",
       "      <td>0</td>\n",
       "      <td>...</td>\n",
       "      <td>0</td>\n",
       "      <td>0</td>\n",
       "      <td>0</td>\n",
       "      <td>0</td>\n",
       "      <td>0</td>\n",
       "      <td>0</td>\n",
       "      <td>0</td>\n",
       "      <td>0</td>\n",
       "      <td>0</td>\n",
       "      <td>71.97</td>\n",
       "    </tr>\n",
       "    <tr>\n",
       "      <th>63</th>\n",
       "      <td>2021-12-03</td>\n",
       "      <td>64</td>\n",
       "      <td>0</td>\n",
       "      <td>0</td>\n",
       "      <td>0</td>\n",
       "      <td>0</td>\n",
       "      <td>0</td>\n",
       "      <td>0</td>\n",
       "      <td>0</td>\n",
       "      <td>0</td>\n",
       "      <td>...</td>\n",
       "      <td>0</td>\n",
       "      <td>0</td>\n",
       "      <td>0</td>\n",
       "      <td>0</td>\n",
       "      <td>0</td>\n",
       "      <td>0</td>\n",
       "      <td>0</td>\n",
       "      <td>0</td>\n",
       "      <td>0</td>\n",
       "      <td>72.05</td>\n",
       "    </tr>\n",
       "  </tbody>\n",
       "</table>\n",
       "<p>64 rows × 27 columns</p>\n",
       "</div>"
      ],
      "text/plain": [
       "            일자  횟수  1시  2시  3시  4시  5시  6시  7시  8시  ...  16시  17시  18시  19시  \\\n",
       "0   2021-01-13   1   0   0   0   0   0   0   0   0  ...    0    0    0    0   \n",
       "1   2021-01-16   2   0   0   0   0   0   0   0   0  ...    0    0    0    0   \n",
       "2   2021-01-18   3   0   0   0   0   0   0   0   0  ...    0    0    0    0   \n",
       "3   2021-01-19   4   0   0   0   0   0   0   0   0  ...    0    0    0    0   \n",
       "4   2021-01-24   5   0   0   0   0   0   0   0   0  ...    3    0    0    0   \n",
       "..         ...  ..  ..  ..  ..  ..  ..  ..  ..  ..  ...  ...  ...  ...  ...   \n",
       "59  2021-10-22  60   0   0   0   0   0   0   0   0  ...    0    0    0    0   \n",
       "60  2021-10-23  61   0   0   0   0   0   0   0   0  ...    1    0    0    0   \n",
       "61  2021-10-31  62   0   0   0   0   0   0   0   0  ...    0    0    0    0   \n",
       "62  2021-11-03  63   0   0   0   0   0   0   0   0  ...    0    0    0    0   \n",
       "63  2021-12-03  64   0   0   0   0   0   0   0   0  ...    0    0    0    0   \n",
       "\n",
       "    20시  21시  22시  23시  24시    총제어량  \n",
       "0     0    0    0    0    0   65.17  \n",
       "1     0    0    0    0    0   21.75  \n",
       "2     0    0    0    0    0   46.67  \n",
       "3     0    0    0    0    0   36.10  \n",
       "4     0    0    0    0    0   97.67  \n",
       "..  ...  ...  ...  ...  ...     ...  \n",
       "59    0    0    0    0    0  136.26  \n",
       "60    0    0    0    0    0   50.60  \n",
       "61    0    0    0    0    0   37.12  \n",
       "62    0    0    0    0    0   71.97  \n",
       "63    0    0    0    0    0   72.05  \n",
       "\n",
       "[64 rows x 27 columns]"
      ]
     },
     "execution_count": 215,
     "metadata": {},
     "output_type": "execute_result"
    }
   ],
   "source": [
    "jeju = pd.read_csv('./data/한국전력거래소_시간별 제주 풍력 발전 제어량_20211231.csv', encoding='cp949')\n",
    "jeju"
   ]
  },
  {
   "cell_type": "code",
   "execution_count": 78,
   "id": "43605040",
   "metadata": {},
   "outputs": [],
   "source": [
    "jeju.index = jeju['일자']"
   ]
  },
  {
   "cell_type": "code",
   "execution_count": 83,
   "id": "29dc53de",
   "metadata": {},
   "outputs": [],
   "source": [
    "jeju.drop('일자', axis=1, inplace=True)\n",
    "jeju.drop('횟수', axis=1, inplace=True)"
   ]
  },
  {
   "cell_type": "code",
   "execution_count": 103,
   "id": "fdec81f1",
   "metadata": {},
   "outputs": [],
   "source": [
    "jeju.drop('총제어량', axis=1, inplace=True)"
   ]
  },
  {
   "cell_type": "code",
   "execution_count": 104,
   "id": "7113a96b",
   "metadata": {},
   "outputs": [
    {
     "data": {
      "text/html": [
       "<div>\n",
       "<style scoped>\n",
       "    .dataframe tbody tr th:only-of-type {\n",
       "        vertical-align: middle;\n",
       "    }\n",
       "\n",
       "    .dataframe tbody tr th {\n",
       "        vertical-align: top;\n",
       "    }\n",
       "\n",
       "    .dataframe thead th {\n",
       "        text-align: right;\n",
       "    }\n",
       "</style>\n",
       "<table border=\"1\" class=\"dataframe\">\n",
       "  <thead>\n",
       "    <tr style=\"text-align: right;\">\n",
       "      <th></th>\n",
       "      <th>1시</th>\n",
       "      <th>2시</th>\n",
       "      <th>3시</th>\n",
       "      <th>4시</th>\n",
       "      <th>5시</th>\n",
       "      <th>6시</th>\n",
       "      <th>7시</th>\n",
       "      <th>8시</th>\n",
       "      <th>9시</th>\n",
       "      <th>10시</th>\n",
       "      <th>...</th>\n",
       "      <th>15시</th>\n",
       "      <th>16시</th>\n",
       "      <th>17시</th>\n",
       "      <th>18시</th>\n",
       "      <th>19시</th>\n",
       "      <th>20시</th>\n",
       "      <th>21시</th>\n",
       "      <th>22시</th>\n",
       "      <th>23시</th>\n",
       "      <th>24시</th>\n",
       "    </tr>\n",
       "    <tr>\n",
       "      <th>일자</th>\n",
       "      <th></th>\n",
       "      <th></th>\n",
       "      <th></th>\n",
       "      <th></th>\n",
       "      <th></th>\n",
       "      <th></th>\n",
       "      <th></th>\n",
       "      <th></th>\n",
       "      <th></th>\n",
       "      <th></th>\n",
       "      <th></th>\n",
       "      <th></th>\n",
       "      <th></th>\n",
       "      <th></th>\n",
       "      <th></th>\n",
       "      <th></th>\n",
       "      <th></th>\n",
       "      <th></th>\n",
       "      <th></th>\n",
       "      <th></th>\n",
       "      <th></th>\n",
       "    </tr>\n",
       "  </thead>\n",
       "  <tbody>\n",
       "    <tr>\n",
       "      <th>2021-01-13</th>\n",
       "      <td>0</td>\n",
       "      <td>0</td>\n",
       "      <td>0</td>\n",
       "      <td>0</td>\n",
       "      <td>0</td>\n",
       "      <td>0</td>\n",
       "      <td>0</td>\n",
       "      <td>0</td>\n",
       "      <td>0</td>\n",
       "      <td>0</td>\n",
       "      <td>...</td>\n",
       "      <td>25.0</td>\n",
       "      <td>0</td>\n",
       "      <td>0</td>\n",
       "      <td>0</td>\n",
       "      <td>0</td>\n",
       "      <td>0</td>\n",
       "      <td>0</td>\n",
       "      <td>0</td>\n",
       "      <td>0</td>\n",
       "      <td>0</td>\n",
       "    </tr>\n",
       "    <tr>\n",
       "      <th>2021-01-16</th>\n",
       "      <td>0</td>\n",
       "      <td>0</td>\n",
       "      <td>0</td>\n",
       "      <td>0</td>\n",
       "      <td>0</td>\n",
       "      <td>0</td>\n",
       "      <td>0</td>\n",
       "      <td>0</td>\n",
       "      <td>0</td>\n",
       "      <td>0</td>\n",
       "      <td>...</td>\n",
       "      <td>0.0</td>\n",
       "      <td>0</td>\n",
       "      <td>0</td>\n",
       "      <td>0</td>\n",
       "      <td>0</td>\n",
       "      <td>0</td>\n",
       "      <td>0</td>\n",
       "      <td>0</td>\n",
       "      <td>0</td>\n",
       "      <td>0</td>\n",
       "    </tr>\n",
       "    <tr>\n",
       "      <th>2021-01-18</th>\n",
       "      <td>0</td>\n",
       "      <td>0</td>\n",
       "      <td>0</td>\n",
       "      <td>0</td>\n",
       "      <td>0</td>\n",
       "      <td>0</td>\n",
       "      <td>0</td>\n",
       "      <td>0</td>\n",
       "      <td>0</td>\n",
       "      <td>0</td>\n",
       "      <td>...</td>\n",
       "      <td>25.0</td>\n",
       "      <td>0</td>\n",
       "      <td>0</td>\n",
       "      <td>0</td>\n",
       "      <td>0</td>\n",
       "      <td>0</td>\n",
       "      <td>0</td>\n",
       "      <td>0</td>\n",
       "      <td>0</td>\n",
       "      <td>0</td>\n",
       "    </tr>\n",
       "    <tr>\n",
       "      <th>2021-01-19</th>\n",
       "      <td>0</td>\n",
       "      <td>0</td>\n",
       "      <td>0</td>\n",
       "      <td>0</td>\n",
       "      <td>0</td>\n",
       "      <td>0</td>\n",
       "      <td>0</td>\n",
       "      <td>0</td>\n",
       "      <td>0</td>\n",
       "      <td>0</td>\n",
       "      <td>...</td>\n",
       "      <td>1.0</td>\n",
       "      <td>0</td>\n",
       "      <td>0</td>\n",
       "      <td>0</td>\n",
       "      <td>0</td>\n",
       "      <td>0</td>\n",
       "      <td>0</td>\n",
       "      <td>0</td>\n",
       "      <td>0</td>\n",
       "      <td>0</td>\n",
       "    </tr>\n",
       "    <tr>\n",
       "      <th>2021-01-24</th>\n",
       "      <td>0</td>\n",
       "      <td>0</td>\n",
       "      <td>0</td>\n",
       "      <td>0</td>\n",
       "      <td>0</td>\n",
       "      <td>0</td>\n",
       "      <td>0</td>\n",
       "      <td>0</td>\n",
       "      <td>0</td>\n",
       "      <td>0</td>\n",
       "      <td>...</td>\n",
       "      <td>18.0</td>\n",
       "      <td>3</td>\n",
       "      <td>0</td>\n",
       "      <td>0</td>\n",
       "      <td>0</td>\n",
       "      <td>0</td>\n",
       "      <td>0</td>\n",
       "      <td>0</td>\n",
       "      <td>0</td>\n",
       "      <td>0</td>\n",
       "    </tr>\n",
       "    <tr>\n",
       "      <th>...</th>\n",
       "      <td>...</td>\n",
       "      <td>...</td>\n",
       "      <td>...</td>\n",
       "      <td>...</td>\n",
       "      <td>...</td>\n",
       "      <td>...</td>\n",
       "      <td>...</td>\n",
       "      <td>...</td>\n",
       "      <td>...</td>\n",
       "      <td>...</td>\n",
       "      <td>...</td>\n",
       "      <td>...</td>\n",
       "      <td>...</td>\n",
       "      <td>...</td>\n",
       "      <td>...</td>\n",
       "      <td>...</td>\n",
       "      <td>...</td>\n",
       "      <td>...</td>\n",
       "      <td>...</td>\n",
       "      <td>...</td>\n",
       "      <td>...</td>\n",
       "    </tr>\n",
       "    <tr>\n",
       "      <th>2021-10-22</th>\n",
       "      <td>0</td>\n",
       "      <td>0</td>\n",
       "      <td>0</td>\n",
       "      <td>0</td>\n",
       "      <td>0</td>\n",
       "      <td>0</td>\n",
       "      <td>0</td>\n",
       "      <td>0</td>\n",
       "      <td>0</td>\n",
       "      <td>0</td>\n",
       "      <td>...</td>\n",
       "      <td>17.0</td>\n",
       "      <td>0</td>\n",
       "      <td>0</td>\n",
       "      <td>0</td>\n",
       "      <td>0</td>\n",
       "      <td>0</td>\n",
       "      <td>0</td>\n",
       "      <td>0</td>\n",
       "      <td>0</td>\n",
       "      <td>0</td>\n",
       "    </tr>\n",
       "    <tr>\n",
       "      <th>2021-10-23</th>\n",
       "      <td>0</td>\n",
       "      <td>0</td>\n",
       "      <td>0</td>\n",
       "      <td>0</td>\n",
       "      <td>0</td>\n",
       "      <td>0</td>\n",
       "      <td>0</td>\n",
       "      <td>0</td>\n",
       "      <td>0</td>\n",
       "      <td>0</td>\n",
       "      <td>...</td>\n",
       "      <td>6.0</td>\n",
       "      <td>1</td>\n",
       "      <td>0</td>\n",
       "      <td>0</td>\n",
       "      <td>0</td>\n",
       "      <td>0</td>\n",
       "      <td>0</td>\n",
       "      <td>0</td>\n",
       "      <td>0</td>\n",
       "      <td>0</td>\n",
       "    </tr>\n",
       "    <tr>\n",
       "      <th>2021-10-31</th>\n",
       "      <td>0</td>\n",
       "      <td>0</td>\n",
       "      <td>0</td>\n",
       "      <td>0</td>\n",
       "      <td>0</td>\n",
       "      <td>0</td>\n",
       "      <td>0</td>\n",
       "      <td>0</td>\n",
       "      <td>0</td>\n",
       "      <td>0</td>\n",
       "      <td>...</td>\n",
       "      <td>0.0</td>\n",
       "      <td>0</td>\n",
       "      <td>0</td>\n",
       "      <td>0</td>\n",
       "      <td>0</td>\n",
       "      <td>0</td>\n",
       "      <td>0</td>\n",
       "      <td>0</td>\n",
       "      <td>0</td>\n",
       "      <td>0</td>\n",
       "    </tr>\n",
       "    <tr>\n",
       "      <th>2021-11-03</th>\n",
       "      <td>0</td>\n",
       "      <td>0</td>\n",
       "      <td>0</td>\n",
       "      <td>0</td>\n",
       "      <td>0</td>\n",
       "      <td>0</td>\n",
       "      <td>0</td>\n",
       "      <td>0</td>\n",
       "      <td>0</td>\n",
       "      <td>0</td>\n",
       "      <td>...</td>\n",
       "      <td>0.0</td>\n",
       "      <td>0</td>\n",
       "      <td>0</td>\n",
       "      <td>0</td>\n",
       "      <td>0</td>\n",
       "      <td>0</td>\n",
       "      <td>0</td>\n",
       "      <td>0</td>\n",
       "      <td>0</td>\n",
       "      <td>0</td>\n",
       "    </tr>\n",
       "    <tr>\n",
       "      <th>2021-12-03</th>\n",
       "      <td>0</td>\n",
       "      <td>0</td>\n",
       "      <td>0</td>\n",
       "      <td>0</td>\n",
       "      <td>0</td>\n",
       "      <td>0</td>\n",
       "      <td>0</td>\n",
       "      <td>0</td>\n",
       "      <td>0</td>\n",
       "      <td>0</td>\n",
       "      <td>...</td>\n",
       "      <td>1.0</td>\n",
       "      <td>0</td>\n",
       "      <td>0</td>\n",
       "      <td>0</td>\n",
       "      <td>0</td>\n",
       "      <td>0</td>\n",
       "      <td>0</td>\n",
       "      <td>0</td>\n",
       "      <td>0</td>\n",
       "      <td>0</td>\n",
       "    </tr>\n",
       "  </tbody>\n",
       "</table>\n",
       "<p>64 rows × 24 columns</p>\n",
       "</div>"
      ],
      "text/plain": [
       "            1시  2시  3시  4시  5시  6시  7시  8시  9시  10시  ...   15시  16시  17시  18시  \\\n",
       "일자                                                   ...                        \n",
       "2021-01-13   0   0   0   0   0   0   0   0   0    0  ...  25.0    0    0    0   \n",
       "2021-01-16   0   0   0   0   0   0   0   0   0    0  ...   0.0    0    0    0   \n",
       "2021-01-18   0   0   0   0   0   0   0   0   0    0  ...  25.0    0    0    0   \n",
       "2021-01-19   0   0   0   0   0   0   0   0   0    0  ...   1.0    0    0    0   \n",
       "2021-01-24   0   0   0   0   0   0   0   0   0    0  ...  18.0    3    0    0   \n",
       "...         ..  ..  ..  ..  ..  ..  ..  ..  ..  ...  ...   ...  ...  ...  ...   \n",
       "2021-10-22   0   0   0   0   0   0   0   0   0    0  ...  17.0    0    0    0   \n",
       "2021-10-23   0   0   0   0   0   0   0   0   0    0  ...   6.0    1    0    0   \n",
       "2021-10-31   0   0   0   0   0   0   0   0   0    0  ...   0.0    0    0    0   \n",
       "2021-11-03   0   0   0   0   0   0   0   0   0    0  ...   0.0    0    0    0   \n",
       "2021-12-03   0   0   0   0   0   0   0   0   0    0  ...   1.0    0    0    0   \n",
       "\n",
       "            19시  20시  21시  22시  23시  24시  \n",
       "일자                                        \n",
       "2021-01-13    0    0    0    0    0    0  \n",
       "2021-01-16    0    0    0    0    0    0  \n",
       "2021-01-18    0    0    0    0    0    0  \n",
       "2021-01-19    0    0    0    0    0    0  \n",
       "2021-01-24    0    0    0    0    0    0  \n",
       "...         ...  ...  ...  ...  ...  ...  \n",
       "2021-10-22    0    0    0    0    0    0  \n",
       "2021-10-23    0    0    0    0    0    0  \n",
       "2021-10-31    0    0    0    0    0    0  \n",
       "2021-11-03    0    0    0    0    0    0  \n",
       "2021-12-03    0    0    0    0    0    0  \n",
       "\n",
       "[64 rows x 24 columns]"
      ]
     },
     "execution_count": 104,
     "metadata": {},
     "output_type": "execute_result"
    }
   ],
   "source": [
    "jeju"
   ]
  },
  {
   "cell_type": "markdown",
   "id": "ac23c1d7",
   "metadata": {},
   "source": [
    "* jeju에서 아래 정보를 토대로 분석해보세요\n",
    "    1. 임의의 연초와 연말 날짜에 대해 두 날짜별 제어량이 서로 같은 수준인지 알아보자\n",
    "    2. 오전/오후와 상반기/하반기 그룹을 구분할 때, 각 그룹별 발전량이 평균 이상/이하인지 알아보자\n",
    "    3. 2번 항목을 대상으로, 그 차이가 통계적으로 유의한지 알아보자"
   ]
  },
  {
   "cell_type": "markdown",
   "id": "27387d3a",
   "metadata": {},
   "source": [
    "### 1. 임의의 연초와 연말 날짜에 대해 두 날짜별 제어량이 서로 같은 수준인지 알아보자"
   ]
  },
  {
   "cell_type": "code",
   "execution_count": 105,
   "id": "318defb9",
   "metadata": {},
   "outputs": [],
   "source": [
    "y_a = jeju.loc['2021-01-13']\n",
    "y_b = jeju.loc['2021-12-03']"
   ]
  },
  {
   "cell_type": "code",
   "execution_count": 106,
   "id": "e9ef8132",
   "metadata": {},
   "outputs": [
    {
     "data": {
      "text/plain": [
       "SignificanceResult(statistic=0.8502178074647829, pvalue=1.44237187217365e-07)"
      ]
     },
     "execution_count": 106,
     "metadata": {},
     "output_type": "execute_result"
    }
   ],
   "source": [
    "stats.spearmanr(y_a, y_b)"
   ]
  },
  {
   "cell_type": "code",
   "execution_count": 109,
   "id": "638b743d",
   "metadata": {},
   "outputs": [
    {
     "data": {
      "text/plain": [
       "<Axes: xlabel='2021-01-13', ylabel='2021-12-03'>"
      ]
     },
     "execution_count": 109,
     "metadata": {},
     "output_type": "execute_result"
    },
    {
     "data": {
      "image/png": "[encoded data removed]",
      "text/plain": [
       "<Figure size 640x480 with 1 Axes>"
      ]
     },
     "metadata": {},
     "output_type": "display_data"
    }
   ],
   "source": [
    "sns.scatterplot(x = y_a, y = y_b)"
   ]
  },
  {
   "cell_type": "code",
   "execution_count": 108,
   "id": "f4962e26",
   "metadata": {},
   "outputs": [
    {
     "data": {
      "text/plain": [
       "<Axes: xlabel='2021-01-13', ylabel='2021-12-03'>"
      ]
     },
     "execution_count": 108,
     "metadata": {},
     "output_type": "execute_result"
    },
    {
     "data": {
      "image/png": "[encoded data removed]",
      "text/plain": [
       "<Figure size 640x480 with 1 Axes>"
      ]
     },
     "metadata": {},
     "output_type": "display_data"
    }
   ],
   "source": [
    "sns.regplot(x = y_a, y = y_b)"
   ]
  },
  {
   "cell_type": "code",
   "execution_count": null,
   "id": "7ffb9c27",
   "metadata": {},
   "outputs": [],
   "source": [
    "# 같은 수준으로 보이지않음 "
   ]
  },
  {
   "cell_type": "markdown",
   "id": "03758d07",
   "metadata": {},
   "source": [
    "### 2. 오전/오후와 상반기/하반기 그룹을 구분할 때, 각 그룹별 발전량이 평균 이상/이하인지 알아보자"
   ]
  },
  {
   "cell_type": "code",
   "execution_count": 110,
   "id": "785989ad",
   "metadata": {},
   "outputs": [
    {
     "name": "stdout",
     "output_type": "stream",
     "text": [
      "<class 'pandas.core.frame.DataFrame'>\n",
      "Index: 64 entries, 2021-01-13 to 2021-12-03\n",
      "Data columns (total 24 columns):\n",
      " #   Column  Non-Null Count  Dtype  \n",
      "---  ------  --------------  -----  \n",
      " 0   1시      64 non-null     int64  \n",
      " 1   2시      64 non-null     int64  \n",
      " 2   3시      64 non-null     int64  \n",
      " 3   4시      64 non-null     int64  \n",
      " 4   5시      64 non-null     int64  \n",
      " 5   6시      64 non-null     int64  \n",
      " 6   7시      64 non-null     int64  \n",
      " 7   8시      64 non-null     int64  \n",
      " 8   9시      64 non-null     int64  \n",
      " 9   10시     64 non-null     int64  \n",
      " 10  11시     64 non-null     int64  \n",
      " 11  12시     64 non-null     int64  \n",
      " 12  13시     64 non-null     int64  \n",
      " 13  14시     64 non-null     float64\n",
      " 14  15시     64 non-null     float64\n",
      " 15  16시     64 non-null     int64  \n",
      " 16  17시     64 non-null     int64  \n",
      " 17  18시     64 non-null     int64  \n",
      " 18  19시     64 non-null     int64  \n",
      " 19  20시     64 non-null     int64  \n",
      " 20  21시     64 non-null     int64  \n",
      " 21  22시     64 non-null     int64  \n",
      " 22  23시     64 non-null     int64  \n",
      " 23  24시     64 non-null     int64  \n",
      "dtypes: float64(2), int64(22)\n",
      "memory usage: 14.6+ KB\n"
     ]
    }
   ],
   "source": [
    "jeju.info()"
   ]
  },
  {
   "cell_type": "code",
   "execution_count": 131,
   "id": "034c89df",
   "metadata": {},
   "outputs": [],
   "source": [
    "A = jeju.iloc[:, :12] # 오전\n",
    "B = jeju.iloc[:, 12:] # 오후"
   ]
  },
  {
   "cell_type": "code",
   "execution_count": 168,
   "id": "a689053a",
   "metadata": {},
   "outputs": [],
   "source": [
    "C = [] # 상반기 오전 \n",
    "D = [] # 상반기 오후 \n",
    "E = [] # 하반기 오전\n",
    "F = [] # 하반기 오후"
   ]
  },
  {
   "cell_type": "code",
   "execution_count": 169,
   "id": "156c36a3",
   "metadata": {},
   "outputs": [],
   "source": [
    "for i in range(len(A.index)):\n",
    "    a = int(A.index[i].split('-')[1])\n",
    "    if a < 7:\n",
    "        C.append(A.iloc[i, :])\n",
    "    else:\n",
    "        E.append(A.iloc[i, :])"
   ]
  },
  {
   "cell_type": "code",
   "execution_count": 170,
   "id": "2c4fe96f",
   "metadata": {},
   "outputs": [],
   "source": [
    "for i in range(len(B.index)):\n",
    "    a = int(B.index[i].split('-')[1])\n",
    "    if a < 7:\n",
    "        D.append(B.iloc[i, :])\n",
    "    else:\n",
    "        F.append(B.iloc[i, :])"
   ]
  },
  {
   "cell_type": "code",
   "execution_count": 192,
   "id": "c54b575c",
   "metadata": {},
   "outputs": [],
   "source": [
    "C = pd.DataFrame(C)\n",
    "D = pd.DataFrame(D)\n",
    "E = pd.DataFrame(E)\n",
    "F = pd.DataFrame(F)"
   ]
  },
  {
   "cell_type": "code",
   "execution_count": 199,
   "id": "6fa18121",
   "metadata": {},
   "outputs": [],
   "source": [
    "C_mean = C.mean().mean()\n",
    "D_mean = C.mean().mean()\n",
    "E_mean = C.mean().mean()\n",
    "F_mean = C.mean().mean()"
   ]
  },
  {
   "cell_type": "markdown",
   "id": "a5799021",
   "metadata": {},
   "source": [
    "### 3. 2번 항목을 대상으로, 그 차이가 통계적으로 유의한지 알아보자"
   ]
  },
  {
   "cell_type": "code",
   "execution_count": null,
   "id": "671de7a6",
   "metadata": {},
   "outputs": [],
   "source": [
    "## 모범답안"
   ]
  },
  {
   "cell_type": "code",
   "execution_count": null,
   "id": "4932dc6d",
   "metadata": {},
   "outputs": [],
   "source": [
    "# 1. 임의의 연초와 연말 날짜에 대해 두 날짜별 제어량이 서로 같은 수준인지 알아보자"
   ]
  },
  {
   "cell_type": "code",
   "execution_count": 216,
   "id": "3e5b02a2",
   "metadata": {},
   "outputs": [],
   "source": [
    "# 가져오는 방법은 2가지가 있다\n",
    "# 둘 중 아무거나 사용하면 됨 \n",
    "\n",
    "jeju_A = jeju[jeju2['일자'] == '2021-01-13']\n",
    "jeju_B = jeju.loc[63]"
   ]
  },
  {
   "cell_type": "code",
   "execution_count": 217,
   "id": "37de63fc",
   "metadata": {},
   "outputs": [],
   "source": [
    "A = jeju_A.loc[:, '1시':'24시'].T[0]"
   ]
  },
  {
   "cell_type": "code",
   "execution_count": 218,
   "id": "6d47be27",
   "metadata": {},
   "outputs": [],
   "source": [
    "B = jeju_B.iloc[2:-1]"
   ]
  },
  {
   "cell_type": "code",
   "execution_count": null,
   "id": "f184a110",
   "metadata": {},
   "outputs": [],
   "source": [
    "# 데이터가 대부분 0이라 t-test를 사용하는건 적합하진않음 \n",
    "# 그래도 굳이 쓰고 싶다면 시간대별로 해서 페어드 티테스트를 사용할 수 있음"
   ]
  },
  {
   "cell_type": "code",
   "execution_count": 219,
   "id": "e9afe4c0",
   "metadata": {},
   "outputs": [
    {
     "data": {
      "text/plain": [
       "TtestResult(statistic=-0.19790387226771936, pvalue=0.8448589917330263, df=23)"
      ]
     },
     "execution_count": 219,
     "metadata": {},
     "output_type": "execute_result"
    }
   ],
   "source": [
    "stats.ttest_rel(A, B)\n",
    "\n",
    "# pvalue=0.84로 통계적으로 유의미하지않다 \n",
    "# 그러나 역시 데이터가 0이 많기때문에 이 검사를 신뢰할 순 없다 "
   ]
  },
  {
   "cell_type": "code",
   "execution_count": 220,
   "id": "cf96e87a",
   "metadata": {},
   "outputs": [],
   "source": [
    "# 2. 오전/오후와 상반기/하반기 그룹을 구분할 때, 각 그룹별 발전량이 평균 이상/이하인지 알아보자"
   ]
  },
  {
   "cell_type": "code",
   "execution_count": null,
   "id": "823ea952",
   "metadata": {},
   "outputs": [],
   "source": [
    "# 전체 발전량 통계"
   ]
  },
  {
   "cell_type": "code",
   "execution_count": 221,
   "id": "11fea237",
   "metadata": {},
   "outputs": [],
   "source": [
    "jeju2 = jeju.loc[:, '1시':'24시']"
   ]
  },
  {
   "cell_type": "code",
   "execution_count": 224,
   "id": "c2586fa0",
   "metadata": {},
   "outputs": [
    {
     "data": {
      "text/html": [
       "<div>\n",
       "<style scoped>\n",
       "    .dataframe tbody tr th:only-of-type {\n",
       "        vertical-align: middle;\n",
       "    }\n",
       "\n",
       "    .dataframe tbody tr th {\n",
       "        vertical-align: top;\n",
       "    }\n",
       "\n",
       "    .dataframe thead th {\n",
       "        text-align: right;\n",
       "    }\n",
       "</style>\n",
       "<table border=\"1\" class=\"dataframe\">\n",
       "  <thead>\n",
       "    <tr style=\"text-align: right;\">\n",
       "      <th></th>\n",
       "      <th>1시</th>\n",
       "      <th>2시</th>\n",
       "      <th>3시</th>\n",
       "      <th>4시</th>\n",
       "      <th>5시</th>\n",
       "      <th>6시</th>\n",
       "      <th>7시</th>\n",
       "      <th>8시</th>\n",
       "      <th>9시</th>\n",
       "      <th>10시</th>\n",
       "      <th>...</th>\n",
       "      <th>15시</th>\n",
       "      <th>16시</th>\n",
       "      <th>17시</th>\n",
       "      <th>18시</th>\n",
       "      <th>19시</th>\n",
       "      <th>20시</th>\n",
       "      <th>21시</th>\n",
       "      <th>22시</th>\n",
       "      <th>23시</th>\n",
       "      <th>24시</th>\n",
       "    </tr>\n",
       "  </thead>\n",
       "  <tbody>\n",
       "    <tr>\n",
       "      <th>0</th>\n",
       "      <td>0</td>\n",
       "      <td>0</td>\n",
       "      <td>0</td>\n",
       "      <td>0</td>\n",
       "      <td>0</td>\n",
       "      <td>0</td>\n",
       "      <td>0</td>\n",
       "      <td>0</td>\n",
       "      <td>0</td>\n",
       "      <td>0</td>\n",
       "      <td>...</td>\n",
       "      <td>25.0</td>\n",
       "      <td>0</td>\n",
       "      <td>0</td>\n",
       "      <td>0</td>\n",
       "      <td>0</td>\n",
       "      <td>0</td>\n",
       "      <td>0</td>\n",
       "      <td>0</td>\n",
       "      <td>0</td>\n",
       "      <td>0</td>\n",
       "    </tr>\n",
       "    <tr>\n",
       "      <th>1</th>\n",
       "      <td>0</td>\n",
       "      <td>0</td>\n",
       "      <td>0</td>\n",
       "      <td>0</td>\n",
       "      <td>0</td>\n",
       "      <td>0</td>\n",
       "      <td>0</td>\n",
       "      <td>0</td>\n",
       "      <td>0</td>\n",
       "      <td>0</td>\n",
       "      <td>...</td>\n",
       "      <td>0.0</td>\n",
       "      <td>0</td>\n",
       "      <td>0</td>\n",
       "      <td>0</td>\n",
       "      <td>0</td>\n",
       "      <td>0</td>\n",
       "      <td>0</td>\n",
       "      <td>0</td>\n",
       "      <td>0</td>\n",
       "      <td>0</td>\n",
       "    </tr>\n",
       "    <tr>\n",
       "      <th>2</th>\n",
       "      <td>0</td>\n",
       "      <td>0</td>\n",
       "      <td>0</td>\n",
       "      <td>0</td>\n",
       "      <td>0</td>\n",
       "      <td>0</td>\n",
       "      <td>0</td>\n",
       "      <td>0</td>\n",
       "      <td>0</td>\n",
       "      <td>0</td>\n",
       "      <td>...</td>\n",
       "      <td>25.0</td>\n",
       "      <td>0</td>\n",
       "      <td>0</td>\n",
       "      <td>0</td>\n",
       "      <td>0</td>\n",
       "      <td>0</td>\n",
       "      <td>0</td>\n",
       "      <td>0</td>\n",
       "      <td>0</td>\n",
       "      <td>0</td>\n",
       "    </tr>\n",
       "    <tr>\n",
       "      <th>3</th>\n",
       "      <td>0</td>\n",
       "      <td>0</td>\n",
       "      <td>0</td>\n",
       "      <td>0</td>\n",
       "      <td>0</td>\n",
       "      <td>0</td>\n",
       "      <td>0</td>\n",
       "      <td>0</td>\n",
       "      <td>0</td>\n",
       "      <td>0</td>\n",
       "      <td>...</td>\n",
       "      <td>1.0</td>\n",
       "      <td>0</td>\n",
       "      <td>0</td>\n",
       "      <td>0</td>\n",
       "      <td>0</td>\n",
       "      <td>0</td>\n",
       "      <td>0</td>\n",
       "      <td>0</td>\n",
       "      <td>0</td>\n",
       "      <td>0</td>\n",
       "    </tr>\n",
       "    <tr>\n",
       "      <th>4</th>\n",
       "      <td>0</td>\n",
       "      <td>0</td>\n",
       "      <td>0</td>\n",
       "      <td>0</td>\n",
       "      <td>0</td>\n",
       "      <td>0</td>\n",
       "      <td>0</td>\n",
       "      <td>0</td>\n",
       "      <td>0</td>\n",
       "      <td>0</td>\n",
       "      <td>...</td>\n",
       "      <td>18.0</td>\n",
       "      <td>3</td>\n",
       "      <td>0</td>\n",
       "      <td>0</td>\n",
       "      <td>0</td>\n",
       "      <td>0</td>\n",
       "      <td>0</td>\n",
       "      <td>0</td>\n",
       "      <td>0</td>\n",
       "      <td>0</td>\n",
       "    </tr>\n",
       "    <tr>\n",
       "      <th>...</th>\n",
       "      <td>...</td>\n",
       "      <td>...</td>\n",
       "      <td>...</td>\n",
       "      <td>...</td>\n",
       "      <td>...</td>\n",
       "      <td>...</td>\n",
       "      <td>...</td>\n",
       "      <td>...</td>\n",
       "      <td>...</td>\n",
       "      <td>...</td>\n",
       "      <td>...</td>\n",
       "      <td>...</td>\n",
       "      <td>...</td>\n",
       "      <td>...</td>\n",
       "      <td>...</td>\n",
       "      <td>...</td>\n",
       "      <td>...</td>\n",
       "      <td>...</td>\n",
       "      <td>...</td>\n",
       "      <td>...</td>\n",
       "      <td>...</td>\n",
       "    </tr>\n",
       "    <tr>\n",
       "      <th>59</th>\n",
       "      <td>0</td>\n",
       "      <td>0</td>\n",
       "      <td>0</td>\n",
       "      <td>0</td>\n",
       "      <td>0</td>\n",
       "      <td>0</td>\n",
       "      <td>0</td>\n",
       "      <td>0</td>\n",
       "      <td>0</td>\n",
       "      <td>0</td>\n",
       "      <td>...</td>\n",
       "      <td>17.0</td>\n",
       "      <td>0</td>\n",
       "      <td>0</td>\n",
       "      <td>0</td>\n",
       "      <td>0</td>\n",
       "      <td>0</td>\n",
       "      <td>0</td>\n",
       "      <td>0</td>\n",
       "      <td>0</td>\n",
       "      <td>0</td>\n",
       "    </tr>\n",
       "    <tr>\n",
       "      <th>60</th>\n",
       "      <td>0</td>\n",
       "      <td>0</td>\n",
       "      <td>0</td>\n",
       "      <td>0</td>\n",
       "      <td>0</td>\n",
       "      <td>0</td>\n",
       "      <td>0</td>\n",
       "      <td>0</td>\n",
       "      <td>0</td>\n",
       "      <td>0</td>\n",
       "      <td>...</td>\n",
       "      <td>6.0</td>\n",
       "      <td>1</td>\n",
       "      <td>0</td>\n",
       "      <td>0</td>\n",
       "      <td>0</td>\n",
       "      <td>0</td>\n",
       "      <td>0</td>\n",
       "      <td>0</td>\n",
       "      <td>0</td>\n",
       "      <td>0</td>\n",
       "    </tr>\n",
       "    <tr>\n",
       "      <th>61</th>\n",
       "      <td>0</td>\n",
       "      <td>0</td>\n",
       "      <td>0</td>\n",
       "      <td>0</td>\n",
       "      <td>0</td>\n",
       "      <td>0</td>\n",
       "      <td>0</td>\n",
       "      <td>0</td>\n",
       "      <td>0</td>\n",
       "      <td>0</td>\n",
       "      <td>...</td>\n",
       "      <td>0.0</td>\n",
       "      <td>0</td>\n",
       "      <td>0</td>\n",
       "      <td>0</td>\n",
       "      <td>0</td>\n",
       "      <td>0</td>\n",
       "      <td>0</td>\n",
       "      <td>0</td>\n",
       "      <td>0</td>\n",
       "      <td>0</td>\n",
       "    </tr>\n",
       "    <tr>\n",
       "      <th>62</th>\n",
       "      <td>0</td>\n",
       "      <td>0</td>\n",
       "      <td>0</td>\n",
       "      <td>0</td>\n",
       "      <td>0</td>\n",
       "      <td>0</td>\n",
       "      <td>0</td>\n",
       "      <td>0</td>\n",
       "      <td>0</td>\n",
       "      <td>0</td>\n",
       "      <td>...</td>\n",
       "      <td>0.0</td>\n",
       "      <td>0</td>\n",
       "      <td>0</td>\n",
       "      <td>0</td>\n",
       "      <td>0</td>\n",
       "      <td>0</td>\n",
       "      <td>0</td>\n",
       "      <td>0</td>\n",
       "      <td>0</td>\n",
       "      <td>0</td>\n",
       "    </tr>\n",
       "    <tr>\n",
       "      <th>63</th>\n",
       "      <td>0</td>\n",
       "      <td>0</td>\n",
       "      <td>0</td>\n",
       "      <td>0</td>\n",
       "      <td>0</td>\n",
       "      <td>0</td>\n",
       "      <td>0</td>\n",
       "      <td>0</td>\n",
       "      <td>0</td>\n",
       "      <td>0</td>\n",
       "      <td>...</td>\n",
       "      <td>1.0</td>\n",
       "      <td>0</td>\n",
       "      <td>0</td>\n",
       "      <td>0</td>\n",
       "      <td>0</td>\n",
       "      <td>0</td>\n",
       "      <td>0</td>\n",
       "      <td>0</td>\n",
       "      <td>0</td>\n",
       "      <td>0</td>\n",
       "    </tr>\n",
       "  </tbody>\n",
       "</table>\n",
       "<p>64 rows × 24 columns</p>\n",
       "</div>"
      ],
      "text/plain": [
       "    1시  2시  3시  4시  5시  6시  7시  8시  9시  10시  ...   15시  16시  17시  18시  19시  \\\n",
       "0    0   0   0   0   0   0   0   0   0    0  ...  25.0    0    0    0    0   \n",
       "1    0   0   0   0   0   0   0   0   0    0  ...   0.0    0    0    0    0   \n",
       "2    0   0   0   0   0   0   0   0   0    0  ...  25.0    0    0    0    0   \n",
       "3    0   0   0   0   0   0   0   0   0    0  ...   1.0    0    0    0    0   \n",
       "4    0   0   0   0   0   0   0   0   0    0  ...  18.0    3    0    0    0   \n",
       "..  ..  ..  ..  ..  ..  ..  ..  ..  ..  ...  ...   ...  ...  ...  ...  ...   \n",
       "59   0   0   0   0   0   0   0   0   0    0  ...  17.0    0    0    0    0   \n",
       "60   0   0   0   0   0   0   0   0   0    0  ...   6.0    1    0    0    0   \n",
       "61   0   0   0   0   0   0   0   0   0    0  ...   0.0    0    0    0    0   \n",
       "62   0   0   0   0   0   0   0   0   0    0  ...   0.0    0    0    0    0   \n",
       "63   0   0   0   0   0   0   0   0   0    0  ...   1.0    0    0    0    0   \n",
       "\n",
       "    20시  21시  22시  23시  24시  \n",
       "0     0    0    0    0    0  \n",
       "1     0    0    0    0    0  \n",
       "2     0    0    0    0    0  \n",
       "3     0    0    0    0    0  \n",
       "4     0    0    0    0    0  \n",
       "..  ...  ...  ...  ...  ...  \n",
       "59    0    0    0    0    0  \n",
       "60    0    0    0    0    0  \n",
       "61    0    0    0    0    0  \n",
       "62    0    0    0    0    0  \n",
       "63    0    0    0    0    0  \n",
       "\n",
       "[64 rows x 24 columns]"
      ]
     },
     "execution_count": 224,
     "metadata": {},
     "output_type": "execute_result"
    }
   ],
   "source": [
    "jeju2"
   ]
  },
  {
   "cell_type": "code",
   "execution_count": 222,
   "id": "48926450",
   "metadata": {},
   "outputs": [],
   "source": [
    "jeju_mean = jeju2.mean().mean()"
   ]
  },
  {
   "cell_type": "code",
   "execution_count": 225,
   "id": "130f333e",
   "metadata": {},
   "outputs": [],
   "source": [
    "m = jeju['일자'].apply(lambda x: True if int(x.split('-')[1]) < 7 else False)"
   ]
  },
  {
   "cell_type": "code",
   "execution_count": 232,
   "id": "f1465af5",
   "metadata": {},
   "outputs": [],
   "source": [
    "x = jeju.loc[m, '1시':'12시']\n",
    "y = jeju.loc[m, '13시':'24시']\n",
    "z = jeju.loc[-m, '1시':'12시']\n",
    "w = jeju.loc[-m, '13시':'24시']"
   ]
  },
  {
   "cell_type": "code",
   "execution_count": 233,
   "id": "fbc200bc",
   "metadata": {},
   "outputs": [],
   "source": [
    "# for문 안에서 변수를 바꿔가며 적용하고 싶을때 : globals()[] (중요★)\n",
    "for i in ['x', 'y', 'z', 'w']:\n",
    "    globals()[i] = (globals()[i] >= jeju_mean).sum().sum()"
   ]
  },
  {
   "cell_type": "code",
   "execution_count": 234,
   "id": "4eb30325",
   "metadata": {},
   "outputs": [
    {
     "name": "stdout",
     "output_type": "stream",
     "text": [
      "44\n",
      "135\n",
      "11\n",
      "20\n"
     ]
    }
   ],
   "source": [
    "print(x)\n",
    "print(y)\n",
    "print(z)\n",
    "print(w)"
   ]
  },
  {
   "cell_type": "code",
   "execution_count": 235,
   "id": "17b8e126",
   "metadata": {},
   "outputs": [
    {
     "data": {
      "text/html": [
       "<div>\n",
       "<style scoped>\n",
       "    .dataframe tbody tr th:only-of-type {\n",
       "        vertical-align: middle;\n",
       "    }\n",
       "\n",
       "    .dataframe tbody tr th {\n",
       "        vertical-align: top;\n",
       "    }\n",
       "\n",
       "    .dataframe thead th {\n",
       "        text-align: right;\n",
       "    }\n",
       "</style>\n",
       "<table border=\"1\" class=\"dataframe\">\n",
       "  <thead>\n",
       "    <tr style=\"text-align: right;\">\n",
       "      <th></th>\n",
       "      <th>오전</th>\n",
       "      <th>오후</th>\n",
       "    </tr>\n",
       "  </thead>\n",
       "  <tbody>\n",
       "    <tr>\n",
       "      <th>상반기</th>\n",
       "      <td>44</td>\n",
       "      <td>135</td>\n",
       "    </tr>\n",
       "    <tr>\n",
       "      <th>하반기</th>\n",
       "      <td>11</td>\n",
       "      <td>20</td>\n",
       "    </tr>\n",
       "  </tbody>\n",
       "</table>\n",
       "</div>"
      ],
      "text/plain": [
       "     오전   오후\n",
       "상반기  44  135\n",
       "하반기  11   20"
      ]
     },
     "execution_count": 235,
     "metadata": {},
     "output_type": "execute_result"
    }
   ],
   "source": [
    "jeju_matrix = pd.DataFrame([[x,y], [z,w]], columns=['오전', '오후'], index=['상반기', '하반기'])\n",
    "jeju_matrix"
   ]
  },
  {
   "cell_type": "code",
   "execution_count": 236,
   "id": "4dd71495",
   "metadata": {},
   "outputs": [
    {
     "data": {
      "text/plain": [
       "Chi2ContingencyResult(statistic=1.1098139793225799, pvalue=0.2921223888706804, dof=1, expected_freq=array([[ 46.88095238, 132.11904762],\n",
       "       [  8.11904762,  22.88095238]]))"
      ]
     },
     "execution_count": 236,
     "metadata": {},
     "output_type": "execute_result"
    }
   ],
   "source": [
    "stats.chi2_contingency(jeju_matrix)"
   ]
  },
  {
   "cell_type": "code",
   "execution_count": null,
   "id": "8553c006",
   "metadata": {},
   "outputs": [],
   "source": [
    "# pvalue=0.29으로 통계적으로 별 차이가 없다"
   ]
  },
  {
   "cell_type": "code",
   "execution_count": null,
   "id": "f63a37d1",
   "metadata": {},
   "outputs": [],
   "source": [
    "# 지금한 것은 기계학습 패키지에는 내장되어 있어 앞으로 쓸 일은 없다"
   ]
  }
 ],
 "metadata": {
  "kernelspec": {
   "display_name": "Python 3 (ipykernel)",
   "language": "python",
   "name": "python3"
  },
  "language_info": {
   "codemirror_mode": {
    "name": "ipython",
    "version": 3
   },
   "file_extension": ".py",
   "mimetype": "text/x-python",
   "name": "python",
   "nbconvert_exporter": "python",
   "pygments_lexer": "ipython3",
   "version": "3.10.9"
  }
 },
 "nbformat": 4,
 "nbformat_minor": 5
}
