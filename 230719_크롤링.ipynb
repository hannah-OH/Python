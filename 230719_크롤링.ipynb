{
 "cells": [
  {
   "cell_type": "markdown",
   "id": "dcd49197",
   "metadata": {},
   "source": [
    "# 크롤링\n",
    "\n",
    "* 연습 추천 사이트: 통계청 데이터, 공공데이터포털\n",
    "    - 통계청에 있는 데이터는 통계청을 우선적으로 이용\n",
    "    - 공공데이터포털: 통계청 이외에 지자체에서 자체적으로 조사한 내용 등 \n",
    "    - 그 외에 필요한 데이터가 있다면 논문을 찾아볼 것. 논문에는 데이터를 얻은 경로를 반드시 적어야하기때문에. 근데 논문 특성상 데이터분석전문가들이 쓰기때문에 전처리 천재들이라 데이터 자체는 더러운 데이터일 수도 있음을 주의\n",
    "    - 다음 방법이 크롤링! "
   ]
  },
  {
   "cell_type": "markdown",
   "id": "dd6130a7",
   "metadata": {},
   "source": [
    "* 정적 크롤링\n",
    "    - html 구조를 알고 구역에 따라 크롤링\n",
    "    - Newspaper 패키지\n",
    "* 동적 크롤링"
   ]
  },
  {
   "cell_type": "markdown",
   "id": "0e1ee9c8",
   "metadata": {},
   "source": [
    "### 정적 크롤링 실습"
   ]
  },
  {
   "cell_type": "code",
   "execution_count": 4,
   "id": "ac51ef00",
   "metadata": {},
   "outputs": [],
   "source": [
    "from newspaper import Article\n",
    "\n",
    "link = 'https://yonhapnewstv.co.kr/news/MYH20230718013200640' # 뉴스 기사 URL\n",
    "doc = Article(link, language = 'ko') # URL과 언어를 입력"
   ]
  },
  {
   "cell_type": "code",
   "execution_count": 5,
   "id": "6588b4b8",
   "metadata": {},
   "outputs": [],
   "source": [
    "doc.download()\n",
    "doc.parse()"
   ]
  },
  {
   "cell_type": "code",
   "execution_count": 6,
   "id": "5cf0fec2",
   "metadata": {},
   "outputs": [
    {
     "data": {
      "text/plain": [
       "'브라우저가 video 태그를 지원하지 않습니다.\\n\\n죄송하지만 다른 브라우저를 사용하여 주십시오. 닫기\\n\\n[씬속뉴스] 임영웅, 수해 복구 성금 2억 기부…김혜수, 유재석 등도 동참지난 13일부터 쏟아진 폭우로하천 범람에 산사태, 지하차도 침수 등 피해 속출18일 오전 6시 기준 폭우로 대피한 인원 1만2천여명..이 중 절반 정도가 아직까지 집에 돌아가지 못하고 있는데..이들에게 작은 힘이나마 보태고자,이어지는 연예인들의 \\'기부 행렬\\'가수 임영웅, 소속사와 함께 각 1억씩 2억원 기부이번에도 팬클럽 \\'영웅시대\\' 이름으로 성금 낸 임영웅\"폭우로 피해 입으신 분들에 위로 드리고 싶어…빠른 일상 회복에 도움 되길\"기부금은 피해 지역 복구와 구호물품 제공,주거 지원 등에 쓰일 예정배우 김혜수, 방송인 유재석,가수 싸이, 배우 신민아·김우빈 등도 각 1억원씩 기부유재석 \"연일 이어진 집중 호우로많은 피해 입은 모든 분들께 깊은 위로\"\"하루빨리 일상으로 돌아갈 수 있도록조금이나마 도움되길\"배우 임시완도 3천만 원 기부피해 소식 접하고 촬영 중 급히 기부 동참#임영웅 #영웅시대 #수해복구성금 #비피해 #집중호우 #장마 #김혜수 #유재석 #선행 #기부금연합뉴스TV 기사문의 및 제보 : 카톡/라인 jebo23(끝)'"
      ]
     },
     "execution_count": 6,
     "metadata": {},
     "output_type": "execute_result"
    }
   ],
   "source": [
    "doc.text"
   ]
  },
  {
   "cell_type": "code",
   "execution_count": 7,
   "id": "3bf73804",
   "metadata": {},
   "outputs": [
    {
     "data": {
      "text/plain": [
       "[]"
      ]
     },
     "execution_count": 7,
     "metadata": {},
     "output_type": "execute_result"
    }
   ],
   "source": [
    "doc.authors # 작성자 태그"
   ]
  },
  {
   "cell_type": "code",
   "execution_count": 8,
   "id": "09e82291",
   "metadata": {},
   "outputs": [
    {
     "data": {
      "text/plain": [
       "datetime.datetime(2023, 7, 18, 5, 18, 1, tzinfo=tzutc())"
      ]
     },
     "execution_count": 8,
     "metadata": {},
     "output_type": "execute_result"
    }
   ],
   "source": [
    "doc.publish_date"
   ]
  },
  {
   "cell_type": "markdown",
   "id": "b43cebdf",
   "metadata": {},
   "source": [
    "### 동적 크롤링 실습"
   ]
  },
  {
   "cell_type": "markdown",
   "id": "5a9a0205",
   "metadata": {},
   "source": [
    "* 크롤링을 너무 많이하면 해당 웹사이트에 부하가 생김 - 그래서 사용자 편의를 위해 웹사이트들은 접속을 막으려고 노력함\n",
    "    - 구글 사이트들을 크롤링하려고 하면 ip가 칼같이 차단당함\n",
    "        - 유튜브 크롤링을 하고 싶으면 구글에서 제공하는 api를 사용해야한다\n",
    "    - 네이버는 '로봇이 아님을 증명하세요' 등을 통해 로봇 접근을 제한함 \n",
    "        - \\<meta name=\"robots\" content=\"noindex,follow\"> : 이렇게 적혀있으면 크롤링을 막은 것임. 윤리적으로도 크롤링을 해선 안됨 \n",
    "    - 다양한 웹사이트들이 다양한 방법으로 막으려고 노력하고 있음 \n",
    "    - 크롤링을 함부로 해서는 안됨 "
   ]
  },
  {
   "cell_type": "code",
   "execution_count": null,
   "id": "5029e41a",
   "metadata": {},
   "outputs": [],
   "source": [
    "# <meta name=\"robots\" content=\"noindex,follow\">  안적혀있으면 암묵적으로 허용"
   ]
  },
  {
   "cell_type": "markdown",
   "id": "06538964",
   "metadata": {},
   "source": [
    "#### 카카오 지도 크롤링"
   ]
  },
  {
   "cell_type": "code",
   "execution_count": null,
   "id": "64a2c409",
   "metadata": {},
   "outputs": [],
   "source": [
    "# ?q : 쿼리. 검색어를 의미 \n",
    "# https://map.kakao.com/?q=종로구어학원"
   ]
  },
  {
   "cell_type": "code",
   "execution_count": 10,
   "id": "d53e0bee",
   "metadata": {},
   "outputs": [],
   "source": [
    "from selenium import webdriver\n",
    "import pandas as pd"
   ]
  },
  {
   "cell_type": "code",
   "execution_count": 11,
   "id": "34e855c3",
   "metadata": {},
   "outputs": [],
   "source": [
    "driver = webdriver.Chrome()\n",
    "\n",
    "# 크롬은 업데이트가 빨라서 버전이 안맞을수도 있다. 그럴때는 동작하는 버전을 맞춰주던가 엣지를 사용 (엣지는 업데이트가 비교적 느려서)\n",
    "# 참고. 헤드리스 모드: 창 없이 실행. 창 있는것보다 빠름"
   ]
  },
  {
   "cell_type": "code",
   "execution_count": 21,
   "id": "35090826",
   "metadata": {},
   "outputs": [],
   "source": [
    "# 검색어 입력 및 검색\n",
    "keyword = '서울 종로구 어학원'\n",
    "kakao_map_search_url = f\"https://map.kakao.com/?q={keyword}\""
   ]
  },
  {
   "cell_type": "code",
   "execution_count": 22,
   "id": "703bc226",
   "metadata": {},
   "outputs": [],
   "source": [
    "driver.get(kakao_map_search_url)\n",
    "driver.get(kakao_map_search_url)\n",
    "\n",
    "# 2번을 적은 이유\n",
    "# 카카오맵에 '지도설정'이라는 팝업이 뜨기때문에 그것을 없애기 위해 2번 접속해줌"
   ]
  },
  {
   "cell_type": "code",
   "execution_count": null,
   "id": "fc868d76",
   "metadata": {},
   "outputs": [],
   "source": [
    "# 업체명과 주소를 크롤링하고 싶음\n",
    "\n",
    "# 크롬 개발자도구에서 업체명의 코드를 확인\n",
    "# 다 똑같은데 중간에 li 숫자만 달라지고 있음\n",
    "# //*[@id=\"info.search.place.list\"]/li[1]/div[3]/strong/a[2]\n",
    "# //*[@id=\"info.search.place.list\"]/li[2]/div[3]/strong/a[2]\n",
    "# //*[@id=\"info.search.place.list\"]/li[3]/div[3]/strong/a[2]"
   ]
  },
  {
   "cell_type": "code",
   "execution_count": 15,
   "id": "1da75605",
   "metadata": {},
   "outputs": [
    {
     "name": "stdout",
     "output_type": "stream",
     "text": [
      "서울 종로구 종로 104\n",
      "서울 종로구 청계천로 93\n"
     ]
    }
   ],
   "source": [
    "# by: 어떤 경로인가\n",
    "# value : 코드\n",
    "# text : 텍스트를 가지고 와라. (text 대신 click()과 같이 다른 명령어를 사용할 수도 있다)\n",
    "\n",
    "print(driver.find_element(by='xpath', value = f'//*[@id=\"info.search.place.list\"]/li[1]/div[5]/div[2]/p[1]').text)\n",
    "print(driver.find_element(by='xpath', value = f'//*[@id=\"info.search.place.list\"]/li[2]/div[5]/div[2]/p[1]').text)"
   ]
  },
  {
   "cell_type": "code",
   "execution_count": null,
   "id": "098af692",
   "metadata": {},
   "outputs": [],
   "source": [
    "# 반복된다. 14개까지 보임. for문 사용하면 됨 \n",
    "# 문제는 14개가 넘어가면 어떻게 할 것인가? -> 더보기 버튼을 눌러야한다 \n",
    "# 더보기 버튼 코드\n",
    "# //*[@id=\"info.search.place.more\"]\n",
    "\n",
    "# 그리고 2쪽, 3쪽 ... 그 다음도 계속 봐야한다\n",
    "# 페이지 코드\n",
    "# //*[@id=\"info.search.page.no2\"]\n",
    "# //*[@id=\"info.search.page.no3\"]\n",
    "\n",
    "# 페이지 5개가 다 보이면 다음 페이지를 눌러줘야한다.\n",
    "# 다음 페이지\n",
    "# //*[@id=\"info.search.page.next\"]"
   ]
  },
  {
   "cell_type": "code",
   "execution_count": 17,
   "id": "a0f27fa4",
   "metadata": {},
   "outputs": [],
   "source": [
    "ind = 1  # 현재 복사한 순서 # 인덱스\n",
    "no = 1  # 1~5페이지 중 위치한 곳\n",
    "page = 1  # 현재 페이지 번호\n",
    "list1 = []  # 결과물이 저장되는 리스트\n",
    "\n",
    "while 1: # 무한반복\n",
    "    try:\n",
    "        # 업체명, 주소\n",
    "        title = driver.find_element(by='xpath',value = f'//*[@id=\"info.search.place.list\"]/li[{ind}]/div[3]/strong/a[2]').text\n",
    "        addr = driver.find_element(by='xpath',value = f'//*[@id=\"info.search.place.list\"]/li[{ind}]/div[5]/div[2]/p[1]').text\n",
    "        list1.append([title, addr])\n",
    "        \n",
    "        ind += 1\n",
    "        \n",
    "        # 쭉 가져오다가. 문제가 생기면, 더보기 버튼을 누르도록 함\n",
    "    except: \n",
    "        # 더보기 버튼 찾기\n",
    "        # 더보기 버튼이 있다면 클릭을 해라\n",
    "        if driver.find_element(by='xpath',value = f'//*[@id=\"info.search.place.more\"]').is_displayed(): # 있니?\n",
    "            driver.find_element(by='xpath',value = f'//*[@id=\"info.search.place.more\"]').click() # 클릭\n",
    "            no += 1\n",
    "            ind = 1\n",
    "            page += 1\n",
    "            continue\n",
    "            # continue: continue가 실행되면 반복문에서 그 아래는 더이상 보지 않고 올라간다\n",
    "            \n",
    "        # 더보기 버튼이 없다면, \n",
    "        # 위치를(no.) 5번을 다 돌았는지 확인. \n",
    "        # 다 돌았으면 다음 페이지 버튼을 클릭하고 페이지번호와 인덱스를 다시 1로 바꾸고 페이지 번호는 하나 늘림\n",
    "        # 5페이지 단위마다 다음 페이지 버튼 누르기\n",
    "        elif no >= 5:\n",
    "            driver.find_element(by='xpath',value = f'//*[@id=\"info.search.page.next\"]').click()\n",
    "            no = 1\n",
    "            ind = 1\n",
    "            page += 1\n",
    "            continue\n",
    "            \n",
    "        # 위치를 다 돌지않았으면 페이지 번호를 클릭함 \n",
    "        elif driver.find_element(by='xpath',value = f'//*[@id=\"info.search.page.no{no+1}\"]').is_displayed():\n",
    "            no += 1\n",
    "            driver.find_element(by='xpath',value = f'//*[@id=\"info.search.page.no{no}\"]').click()\n",
    "            ind = 1\n",
    "            page += 1\n",
    "            continue\n",
    "        \n",
    "        # 더이상 이동할수 없을 경우 종료\n",
    "        # = 다음페이지도 없고 5배수도 아닐때 종료 \n",
    "        else:\n",
    "            break"
   ]
  },
  {
   "cell_type": "markdown",
   "id": "e4d35fe5",
   "metadata": {},
   "source": [
    "코드 순서가 내 생각에는 <br>\n",
    "더이상 찾을 수 없다 > 더보기 버튼이 있느냐 > 그리고 페이지를 버튼을 찾았느냐 > 그리고 더보기 버튼이 있느냐일거같은데 <br>\n",
    "코드를 짤때는 <br>\n",
    "더이상 찾을 수 없다 > 더보기 버튼이 있느냐 > 페이지 버튼이 활성화 되었느냐 > 페이지 버튼을 찾아라 순으로 짠 이유 <br>\n",
    "= 오컴의 면도날 방법<br>\n",
    " : 어떤 현상을 설명할 때 불필요한 가정을 세우지 말고 가능한 간단하게 설명하라는 것<br>\n",
    " \n",
    " 더이상 찾을 수 없다 > 더보기 버튼이 있느냐 > <br>\n",
    " 그 다음에 발생할 수 있을 일을 먼저 실행<br>\n",
    " 5개의 페이지를 전부 찾았다면 넥스트 버튼을 눌러라 <br>\n",
    "\\> 그러지 않았다면 페이지버튼을 눌러라 <br>\n",
    "\\> 그리고 모든것을 할 수 없다면 종료\n",
    "\n",
    "<br> \n",
    "만약에 페이지 버튼을 눌러라를 먼저 실행하게 된다면 페이지 버튼을 더이상 누를 수 없을때 에러가 발생한다. <br> \n",
    "그러므로 일단 더이상 누를수없니? 없으면 이 코드를 실행해. <br> \n",
    "누를수있니? 있으면 이 코드를 실행해 순서가 되는 것이다."
   ]
  },
  {
   "cell_type": "code",
   "execution_count": 19,
   "id": "ddd4e84e",
   "metadata": {},
   "outputs": [
    {
     "data": {
      "text/html": [
       "<div>\n",
       "<style scoped>\n",
       "    .dataframe tbody tr th:only-of-type {\n",
       "        vertical-align: middle;\n",
       "    }\n",
       "\n",
       "    .dataframe tbody tr th {\n",
       "        vertical-align: top;\n",
       "    }\n",
       "\n",
       "    .dataframe thead th {\n",
       "        text-align: right;\n",
       "    }\n",
       "</style>\n",
       "<table border=\"1\" class=\"dataframe\">\n",
       "  <thead>\n",
       "    <tr style=\"text-align: right;\">\n",
       "      <th></th>\n",
       "      <th>0</th>\n",
       "      <th>1</th>\n",
       "    </tr>\n",
       "  </thead>\n",
       "  <tbody>\n",
       "    <tr>\n",
       "      <th>0</th>\n",
       "      <td>YBM어학원 종로센터</td>\n",
       "      <td>서울 종로구 종로 104</td>\n",
       "    </tr>\n",
       "    <tr>\n",
       "      <th>1</th>\n",
       "      <td>파고다어학원 종로점</td>\n",
       "      <td>서울 종로구 청계천로 93</td>\n",
       "    </tr>\n",
       "    <tr>\n",
       "      <th>2</th>\n",
       "      <td>YBM어학원 종로e4u</td>\n",
       "      <td>서울 종로구 삼일대로20길 6 1~5층, 7~9층</td>\n",
       "    </tr>\n",
       "    <tr>\n",
       "      <th>3</th>\n",
       "      <td>해커스어학원 종로캠퍼스</td>\n",
       "      <td>서울 종로구 인사동길 12 대일빌딩 4층</td>\n",
       "    </tr>\n",
       "    <tr>\n",
       "      <th>4</th>\n",
       "      <td>YBM 종로CBT센터</td>\n",
       "      <td>서울 종로구 종로 104 본관지하</td>\n",
       "    </tr>\n",
       "    <tr>\n",
       "      <th>...</th>\n",
       "      <td>...</td>\n",
       "      <td>...</td>\n",
       "    </tr>\n",
       "    <tr>\n",
       "      <th>283</th>\n",
       "      <td>잉글리쉬무무 길음제1학원</td>\n",
       "      <td>서울 성북구 삼양로 80</td>\n",
       "    </tr>\n",
       "    <tr>\n",
       "      <th>284</th>\n",
       "      <td>YBM잉글루</td>\n",
       "      <td>서울 은평구 백련산로 38</td>\n",
       "    </tr>\n",
       "    <tr>\n",
       "      <th>285</th>\n",
       "      <td>파로영어교습소</td>\n",
       "      <td>서울 은평구 백련산로 38 205동 상가 1층 102호</td>\n",
       "    </tr>\n",
       "    <tr>\n",
       "      <th>286</th>\n",
       "      <td>뮤엠영어 퍼스트학원</td>\n",
       "      <td>서울 은평구 백련산로 38</td>\n",
       "    </tr>\n",
       "    <tr>\n",
       "      <th>287</th>\n",
       "      <td>예스윤선생 종암학원</td>\n",
       "      <td>서울 성북구 종암로27길 37 2층</td>\n",
       "    </tr>\n",
       "  </tbody>\n",
       "</table>\n",
       "<p>288 rows × 2 columns</p>\n",
       "</div>"
      ],
      "text/plain": [
       "                 0                               1\n",
       "0      YBM어학원 종로센터                   서울 종로구 종로 104\n",
       "1       파고다어학원 종로점                  서울 종로구 청계천로 93\n",
       "2     YBM어학원 종로e4u     서울 종로구 삼일대로20길 6 1~5층, 7~9층\n",
       "3     해커스어학원 종로캠퍼스          서울 종로구 인사동길 12 대일빌딩 4층\n",
       "4      YBM 종로CBT센터              서울 종로구 종로 104 본관지하\n",
       "..             ...                             ...\n",
       "283  잉글리쉬무무 길음제1학원                   서울 성북구 삼양로 80\n",
       "284         YBM잉글루                  서울 은평구 백련산로 38\n",
       "285        파로영어교습소  서울 은평구 백련산로 38 205동 상가 1층 102호\n",
       "286     뮤엠영어 퍼스트학원                  서울 은평구 백련산로 38\n",
       "287     예스윤선생 종암학원             서울 성북구 종암로27길 37 2층\n",
       "\n",
       "[288 rows x 2 columns]"
      ]
     },
     "execution_count": 19,
     "metadata": {},
     "output_type": "execute_result"
    }
   ],
   "source": [
    "pd.DataFrame(list1)"
   ]
  },
  {
   "cell_type": "markdown",
   "id": "c3058c58",
   "metadata": {},
   "source": [
    "* 지금은 일단 에러가 안났지만, 만약, 4천페이지를 크롤링해야하는 일이 있는데 2천페이지 하다가 에러가 생기면 어찌할건지\n",
    "    1. 2천1페이지부터 다시 저장을 시도하거나\n",
    "\n",
    "<br>\n",
    "\n",
    "* 아니면 정전이 발생했어 그럼 어찌할건지\n",
    "    2. 10쪽 단위로 저장후 엑셀로 내보낸다던가 (푸쉬 / 피클)\n",
    "\n",
    "<br>\n",
    "\n",
    "* 프로그래밍 할때 중간중간에 저장을 자주 해야한다"
   ]
  }
 ],
 "metadata": {
  "kernelspec": {
   "display_name": "Python 3 (ipykernel)",
   "language": "python",
   "name": "python3"
  },
  "language_info": {
   "codemirror_mode": {
    "name": "ipython",
    "version": 3
   },
   "file_extension": ".py",
   "mimetype": "text/x-python",
   "name": "python",
   "nbconvert_exporter": "python",
   "pygments_lexer": "ipython3",
   "version": "3.10.9"
  }
 },
 "nbformat": 4,
 "nbformat_minor": 5
}
