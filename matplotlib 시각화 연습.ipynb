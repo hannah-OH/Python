{
 "cells": [
  {
   "cell_type": "code",
   "execution_count": null,
   "id": "31997b4b",
   "metadata": {},
   "outputs": [],
   "source": [
    "import pandas as pd\n",
    "\n",
    "import matplotlib.pyplot as plt\n",
    "plt.rcParams['font.family'] = 'Malgun Gothic'\n",
    "\n",
    "import matplotlib as mpl\n",
    "mpl.rcParams['axes.unicode_minus'] = False\n",
    "\n",
    "%matplotlib inline\n",
    "\n",
    "import seaborn as sns\n",
    "import numpy as np\n",
    "from scipy import stats"
   ]
  },
  {
   "cell_type": "code",
   "execution_count": null,
   "id": "46d23d2f",
   "metadata": {},
   "outputs": [],
   "source": []
  },
  {
   "cell_type": "code",
   "execution_count": null,
   "id": "f19fc760",
   "metadata": {},
   "outputs": [],
   "source": [
    "species = g_a.index\n",
    "penguin_means = {\n",
    "    '서울' : s_a['대장금액(원)'],\n",
    "    '경기' : g_a['대장금액(원)'],\n",
    "    '인천' : i_a['대장금액(원)']\n",
    "}\n",
    "\n",
    "x = np.arange(len(species))\n",
    "width = 0.25\n",
    "multiplier = 0\n",
    "\n",
    "fig, ax = plt.subplots()\n",
    "\n",
    "colors = ['red', 'green', 'blue']\n",
    "\n",
    "for attribute, measurement in penguin_means.items():\n",
    "    offset = width * multiplier\n",
    "    rects = ax.bar(x + offset, measurement, width, label=attribute, \n",
    "                   color=colors[multiplier])\n",
    "    # ax.bar_label(rects, padding=3) # 그래프 막대위에 숫자를 보이게 함 \n",
    "    multiplier += 1\n",
    "    \n",
    "\n",
    "plt.legend(loc='upper right')\n",
    "#ax.axes.xaxis.set_visible(False)\n",
    "ax.set_xticks(x + width, species)\n",
    "plt.show()\n",
    "\n",
    "# x축에 어떻게 인덱스를 표시할 것인가 ... -> 해결"
   ]
  }
 ],
 "metadata": {
  "kernelspec": {
   "display_name": "Python 3 (ipykernel)",
   "language": "python",
   "name": "python3"
  },
  "language_info": {
   "codemirror_mode": {
    "name": "ipython",
    "version": 3
   },
   "file_extension": ".py",
   "mimetype": "text/x-python",
   "name": "python",
   "nbconvert_exporter": "python",
   "pygments_lexer": "ipython3",
   "version": "3.10.9"
  }
 },
 "nbformat": 4,
 "nbformat_minor": 5
}
