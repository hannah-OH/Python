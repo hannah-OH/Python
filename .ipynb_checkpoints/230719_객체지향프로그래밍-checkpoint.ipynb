{
 "cells": [
  {
   "cell_type": "markdown",
   "id": "f244d4f2",
   "metadata": {},
   "source": [
    "# 객체지향 프로그래밍\n",
    "\n",
    "* 객체끼리 상호작용하는 프로그래밍하는 것 \n",
    "* 절차지향 프로그래밍\n",
    "    - 돈을 자판기에 넣는다 → 음료가 나온다 … : 이런식으로 프로그래밍하는 것이 절차지향\n",
    "* 객체지향 프로그래밍\n",
    "    - 물건을 산다\n",
    "    - 물건을 판다\n",
    "    - 사람은 물건을 살 수 있다 \n",
    "* 객체지향 프로그램 만드는 법\n",
    "    - 객체 클래스를 만들면 된다\n",
    "    - 함수 - 클래스 안에서 행위를 지칭 \n",
    "* 클래스를 사용해야하는 이유\n",
    "    - 추상화를 해야하기 때문에 \n",
    "    - 클래스의 종속관계를 만들 수 있다 (상속) \n",
    "    - 모듈화 "
   ]
  },
  {
   "cell_type": "code",
   "execution_count": 7,
   "id": "40f710a7",
   "metadata": {},
   "outputs": [],
   "source": [
    "def function1():\n",
    "    a = 456\n",
    "    print(a)"
   ]
  },
  {
   "cell_type": "code",
   "execution_count": 8,
   "id": "0b58ec8c",
   "metadata": {},
   "outputs": [
    {
     "name": "stdout",
     "output_type": "stream",
     "text": [
      "456\n"
     ]
    }
   ],
   "source": [
    "function1()"
   ]
  },
  {
   "cell_type": "code",
   "execution_count": 9,
   "id": "924116e9",
   "metadata": {},
   "outputs": [],
   "source": [
    "a = 987"
   ]
  },
  {
   "cell_type": "code",
   "execution_count": 10,
   "id": "7c2ed5e6",
   "metadata": {},
   "outputs": [
    {
     "name": "stdout",
     "output_type": "stream",
     "text": [
      "456\n"
     ]
    }
   ],
   "source": [
    "function1()"
   ]
  },
  {
   "cell_type": "code",
   "execution_count": 11,
   "id": "2c6e35bc",
   "metadata": {},
   "outputs": [
    {
     "data": {
      "text/plain": [
       "987"
      ]
     },
     "execution_count": 11,
     "metadata": {},
     "output_type": "execute_result"
    }
   ],
   "source": [
    "a"
   ]
  },
  {
   "cell_type": "code",
   "execution_count": 15,
   "id": "5bb99eba",
   "metadata": {},
   "outputs": [],
   "source": [
    "def function2():\n",
    "    b += 50\n",
    "    print(b)"
   ]
  },
  {
   "cell_type": "code",
   "execution_count": 16,
   "id": "66a56086",
   "metadata": {},
   "outputs": [],
   "source": [
    "b = 999"
   ]
  },
  {
   "cell_type": "code",
   "execution_count": 17,
   "id": "f3b4da2d",
   "metadata": {},
   "outputs": [
    {
     "data": {
      "text/plain": [
       "999"
      ]
     },
     "execution_count": 17,
     "metadata": {},
     "output_type": "execute_result"
    }
   ],
   "source": [
    "b"
   ]
  },
  {
   "cell_type": "code",
   "execution_count": 19,
   "id": "34086f12",
   "metadata": {},
   "outputs": [],
   "source": [
    "def function3():\n",
    "    print(b + 50)"
   ]
  },
  {
   "cell_type": "code",
   "execution_count": 20,
   "id": "d9391ee6",
   "metadata": {},
   "outputs": [
    {
     "name": "stdout",
     "output_type": "stream",
     "text": [
      "1049\n"
     ]
    }
   ],
   "source": [
    "function3()"
   ]
  },
  {
   "cell_type": "code",
   "execution_count": 21,
   "id": "d6b93ef0",
   "metadata": {},
   "outputs": [
    {
     "data": {
      "text/plain": [
       "999"
      ]
     },
     "execution_count": 21,
     "metadata": {},
     "output_type": "execute_result"
    }
   ],
   "source": [
    "b"
   ]
  },
  {
   "cell_type": "code",
   "execution_count": null,
   "id": "b8407518",
   "metadata": {},
   "outputs": [],
   "source": [
    "# 지역변수와 전역변수 중복 시키지 말 것! "
   ]
  },
  {
   "cell_type": "code",
   "execution_count": 22,
   "id": "29dfeb72",
   "metadata": {},
   "outputs": [],
   "source": [
    "def function4():\n",
    "    local_b = 0\n",
    "    print(local_b + 50)"
   ]
  },
  {
   "cell_type": "code",
   "execution_count": 23,
   "id": "a2333748",
   "metadata": {},
   "outputs": [
    {
     "name": "stdout",
     "output_type": "stream",
     "text": [
      "50\n"
     ]
    }
   ],
   "source": [
    "function4()"
   ]
  },
  {
   "cell_type": "code",
   "execution_count": 24,
   "id": "3abd38a8",
   "metadata": {},
   "outputs": [],
   "source": [
    "# 함수안에 전역변수를 너무 쓰고 싶다면?\n",
    "\n",
    "def function5():\n",
    "    global b\n",
    "    b += 50\n",
    "    print(b)"
   ]
  },
  {
   "cell_type": "code",
   "execution_count": 25,
   "id": "b68002cf",
   "metadata": {},
   "outputs": [
    {
     "name": "stdout",
     "output_type": "stream",
     "text": [
      "1049\n"
     ]
    }
   ],
   "source": [
    "function5()"
   ]
  },
  {
   "cell_type": "code",
   "execution_count": 26,
   "id": "28bfb540",
   "metadata": {},
   "outputs": [
    {
     "data": {
      "text/plain": [
       "1049"
      ]
     },
     "execution_count": 26,
     "metadata": {},
     "output_type": "execute_result"
    }
   ],
   "source": [
    "b"
   ]
  },
  {
   "cell_type": "markdown",
   "id": "49f36c92",
   "metadata": {},
   "source": [
    "## 클래스\n",
    "* 초기화: 속성 설정\n",
    "    - __init__\n",
    "* 상속\n",
    "    - self : 내가 상속하고 난 후 그 객체 (미래의 그 것의 이름을 모르기때문에)\n",
    "\n",
    ".\n",
    "\n",
    "* 클래스 만드는법: 그냥 클래스 적으면 됩니다. 그리고 이름은 카멜 작명법을 이용하는것이 일반적임 (단어 첫글자만 대문자로). 변수이름은 스네이크로 적는 것이 일반적임 (모두 소문자로 적고 단어와 단어를 연결할때는 언더바로 연결)"
   ]
  },
  {
   "cell_type": "code",
   "execution_count": 27,
   "id": "893f1653",
   "metadata": {},
   "outputs": [
    {
     "data": {
      "text/plain": [
       "'hell world'"
      ]
     },
     "execution_count": 27,
     "metadata": {},
     "output_type": "execute_result"
    }
   ],
   "source": [
    "# 용례 1\n",
    "class MyClass:\n",
    "    i = 12345 # 속성\n",
    "    \n",
    "    def f(self): # 메소드\n",
    "        return 'hell world'\n",
    "    \n",
    "MyClass.f(1)"
   ]
  },
  {
   "cell_type": "code",
   "execution_count": null,
   "id": "a94953fe",
   "metadata": {},
   "outputs": [],
   "source": [
    "# 속성: i\n",
    "# 메소드 : f"
   ]
  },
  {
   "cell_type": "code",
   "execution_count": 28,
   "id": "38938963",
   "metadata": {},
   "outputs": [
    {
     "data": {
      "text/plain": [
       "12345"
      ]
     },
     "execution_count": 28,
     "metadata": {},
     "output_type": "execute_result"
    }
   ],
   "source": [
    "MyClass.i"
   ]
  },
  {
   "cell_type": "code",
   "execution_count": 29,
   "id": "d535db9e",
   "metadata": {},
   "outputs": [
    {
     "data": {
      "text/plain": [
       "(3.0, -4.5)"
      ]
     },
     "execution_count": 29,
     "metadata": {},
     "output_type": "execute_result"
    }
   ],
   "source": [
    "# 용례 2\n",
    "class Complex:\n",
    "    def __init__(self, realpart, imagpart):\n",
    "        self.r = realpart\n",
    "        self.i = imagpart\n",
    "\n",
    "x = Complex(3.0, -4.5)\n",
    "x.r, x.i"
   ]
  },
  {
   "cell_type": "code",
   "execution_count": 30,
   "id": "a3596dce",
   "metadata": {},
   "outputs": [],
   "source": [
    "a = Complex(1, 2)"
   ]
  },
  {
   "cell_type": "code",
   "execution_count": 31,
   "id": "a682d6a4",
   "metadata": {},
   "outputs": [
    {
     "data": {
      "text/plain": [
       "(1, 2)"
      ]
     },
     "execution_count": 31,
     "metadata": {},
     "output_type": "execute_result"
    }
   ],
   "source": [
    "a.r, a.i"
   ]
  },
  {
   "cell_type": "code",
   "execution_count": 32,
   "id": "afb042d6",
   "metadata": {},
   "outputs": [
    {
     "data": {
      "text/plain": [
       "(3.0, -4.5)"
      ]
     },
     "execution_count": 32,
     "metadata": {},
     "output_type": "execute_result"
    }
   ],
   "source": [
    "x.r, x.i"
   ]
  },
  {
   "cell_type": "code",
   "execution_count": 35,
   "id": "97583cbb",
   "metadata": {},
   "outputs": [
    {
     "data": {
      "text/plain": [
       "False"
      ]
     },
     "execution_count": 35,
     "metadata": {},
     "output_type": "execute_result"
    }
   ],
   "source": [
    "x == a"
   ]
  },
  {
   "cell_type": "code",
   "execution_count": null,
   "id": "bdc9eb05",
   "metadata": {},
   "outputs": [],
   "source": [
    "# 딥러닝은 대부분 클래스로 구현되어있어서 읽고 쓸 줄 알아야 함 "
   ]
  },
  {
   "cell_type": "code",
   "execution_count": 49,
   "id": "806693b4",
   "metadata": {},
   "outputs": [
    {
     "name": "stdout",
     "output_type": "stream",
     "text": [
      "16\n"
     ]
    }
   ],
   "source": [
    "# 용례 2에서 계속\n",
    "x.counter = 1\n",
    "while x.counter < 10:\n",
    "    x.counter = x.counter * 2\n",
    "print(x.counter)\n",
    "del x.counter"
   ]
  },
  {
   "cell_type": "code",
   "execution_count": 36,
   "id": "9269be85",
   "metadata": {},
   "outputs": [],
   "source": [
    "# Super Class\n",
    "class Tree:\n",
    "  kingdom = 'plantae'\n",
    "  leaf = True\n",
    "  fruit = 'fruit_name'\n",
    "  \n",
    "  def flower(self):\n",
    "    print('나무에 꽃이 피었습니다')\n",
    "    \n",
    "\n",
    "# Sub Class\n",
    "class FruitTree(Tree):\n",
    "  def __init__(self, fruit):\n",
    "    self.fruit = fruit\n",
    "    \n",
    "  def observe_the_fruit(self):\n",
    "    print(f'나무에 열린 열매는 {self.fruit}입니다')"
   ]
  },
  {
   "cell_type": "code",
   "execution_count": 40,
   "id": "778362ec",
   "metadata": {},
   "outputs": [],
   "source": [
    "tree1 = Tree()"
   ]
  },
  {
   "cell_type": "code",
   "execution_count": 41,
   "id": "322578e2",
   "metadata": {},
   "outputs": [
    {
     "data": {
      "text/plain": [
       "'plantae'"
      ]
     },
     "execution_count": 41,
     "metadata": {},
     "output_type": "execute_result"
    }
   ],
   "source": [
    "tree1.kingdom"
   ]
  },
  {
   "cell_type": "code",
   "execution_count": 72,
   "id": "a862d3b4",
   "metadata": {},
   "outputs": [
    {
     "data": {
      "text/plain": [
       "'fruit_name'"
      ]
     },
     "execution_count": 72,
     "metadata": {},
     "output_type": "execute_result"
    }
   ],
   "source": [
    "tree1.fruit"
   ]
  },
  {
   "cell_type": "code",
   "execution_count": 42,
   "id": "e4116df8",
   "metadata": {},
   "outputs": [
    {
     "name": "stdout",
     "output_type": "stream",
     "text": [
      "나무에 꽃이 피었습니다\n"
     ]
    }
   ],
   "source": [
    "tree1.flower()"
   ]
  },
  {
   "cell_type": "code",
   "execution_count": 44,
   "id": "070516bd",
   "metadata": {},
   "outputs": [],
   "source": [
    "orangetree = FruitTree('orange')"
   ]
  },
  {
   "cell_type": "code",
   "execution_count": 45,
   "id": "3caa3824",
   "metadata": {},
   "outputs": [
    {
     "name": "stdout",
     "output_type": "stream",
     "text": [
      "나무에 열린 열매는 orange입니다\n"
     ]
    }
   ],
   "source": [
    "orangetree.observe_the_fruit()"
   ]
  },
  {
   "cell_type": "code",
   "execution_count": 46,
   "id": "b2234d94",
   "metadata": {},
   "outputs": [
    {
     "data": {
      "text/plain": [
       "True"
      ]
     },
     "execution_count": 46,
     "metadata": {},
     "output_type": "execute_result"
    }
   ],
   "source": [
    "orangetree.leaf"
   ]
  },
  {
   "cell_type": "code",
   "execution_count": 47,
   "id": "9b7914aa",
   "metadata": {},
   "outputs": [
    {
     "data": {
      "text/plain": [
       "'orange'"
      ]
     },
     "execution_count": 47,
     "metadata": {},
     "output_type": "execute_result"
    }
   ],
   "source": [
    "orangetree.fruit"
   ]
  },
  {
   "cell_type": "code",
   "execution_count": 48,
   "id": "18d28383",
   "metadata": {},
   "outputs": [
    {
     "name": "stdout",
     "output_type": "stream",
     "text": [
      "나무에 열린 열매는 orange입니다\n",
      "None\n",
      "나무에 꽃이 피었습니다\n",
      "None\n",
      "plantae\n",
      "True\n",
      "orange\n"
     ]
    }
   ],
   "source": [
    "o = FruitTree('orange')\n",
    "\n",
    "print(o.observe_the_fruit())\n",
    "print(o.flower())\n",
    "print(o.kingdom)\n",
    "print(o.leaf)\n",
    "print(o.fruit)"
   ]
  }
 ],
 "metadata": {
  "kernelspec": {
   "display_name": "Python 3 (ipykernel)",
   "language": "python",
   "name": "python3"
  },
  "language_info": {
   "codemirror_mode": {
    "name": "ipython",
    "version": 3
   },
   "file_extension": ".py",
   "mimetype": "text/x-python",
   "name": "python",
   "nbconvert_exporter": "python",
   "pygments_lexer": "ipython3",
   "version": "3.10.9"
  }
 },
 "nbformat": 4,
 "nbformat_minor": 5
}
